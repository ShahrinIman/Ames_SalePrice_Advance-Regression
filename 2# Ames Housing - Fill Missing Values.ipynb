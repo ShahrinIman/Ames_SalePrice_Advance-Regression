{
 "cells": [
  {
   "cell_type": "code",
   "execution_count": 1,
   "metadata": {},
   "outputs": [],
   "source": [
    "import pandas as pd\n",
    "import numpy as np\n",
    "import matplotlib.pyplot as plt\n",
    "import seaborn as sns"
   ]
  },
  {
   "cell_type": "code",
   "execution_count": 2,
   "metadata": {},
   "outputs": [],
   "source": [
    "df=pd.read_csv('Ames_Housing_Remove_Outliers(not_remove_skew_yet).csv')"
   ]
  },
  {
   "cell_type": "code",
   "execution_count": 3,
   "metadata": {},
   "outputs": [
    {
     "data": {
      "text/html": [
       "<div>\n",
       "<style scoped>\n",
       "    .dataframe tbody tr th:only-of-type {\n",
       "        vertical-align: middle;\n",
       "    }\n",
       "\n",
       "    .dataframe tbody tr th {\n",
       "        vertical-align: top;\n",
       "    }\n",
       "\n",
       "    .dataframe thead th {\n",
       "        text-align: right;\n",
       "    }\n",
       "</style>\n",
       "<table border=\"1\" class=\"dataframe\">\n",
       "  <thead>\n",
       "    <tr style=\"text-align: right;\">\n",
       "      <th></th>\n",
       "      <th>PID</th>\n",
       "      <th>MS SubClass</th>\n",
       "      <th>MS Zoning</th>\n",
       "      <th>Lot Frontage</th>\n",
       "      <th>Lot Area</th>\n",
       "      <th>Street</th>\n",
       "      <th>Alley</th>\n",
       "      <th>Lot Shape</th>\n",
       "      <th>Land Contour</th>\n",
       "      <th>Utilities</th>\n",
       "      <th>...</th>\n",
       "      <th>Pool Area</th>\n",
       "      <th>Pool QC</th>\n",
       "      <th>Fence</th>\n",
       "      <th>Misc Feature</th>\n",
       "      <th>Misc Val</th>\n",
       "      <th>Mo Sold</th>\n",
       "      <th>Yr Sold</th>\n",
       "      <th>Sale Type</th>\n",
       "      <th>Sale Condition</th>\n",
       "      <th>SalePrice</th>\n",
       "    </tr>\n",
       "  </thead>\n",
       "  <tbody>\n",
       "    <tr>\n",
       "      <th>0</th>\n",
       "      <td>526301100</td>\n",
       "      <td>20</td>\n",
       "      <td>RL</td>\n",
       "      <td>141.0</td>\n",
       "      <td>31770</td>\n",
       "      <td>Pave</td>\n",
       "      <td>NaN</td>\n",
       "      <td>IR1</td>\n",
       "      <td>Lvl</td>\n",
       "      <td>AllPub</td>\n",
       "      <td>...</td>\n",
       "      <td>0</td>\n",
       "      <td>NaN</td>\n",
       "      <td>NaN</td>\n",
       "      <td>NaN</td>\n",
       "      <td>0</td>\n",
       "      <td>5</td>\n",
       "      <td>2010</td>\n",
       "      <td>WD</td>\n",
       "      <td>Normal</td>\n",
       "      <td>215000</td>\n",
       "    </tr>\n",
       "    <tr>\n",
       "      <th>1</th>\n",
       "      <td>526350040</td>\n",
       "      <td>20</td>\n",
       "      <td>RH</td>\n",
       "      <td>80.0</td>\n",
       "      <td>11622</td>\n",
       "      <td>Pave</td>\n",
       "      <td>NaN</td>\n",
       "      <td>Reg</td>\n",
       "      <td>Lvl</td>\n",
       "      <td>AllPub</td>\n",
       "      <td>...</td>\n",
       "      <td>0</td>\n",
       "      <td>NaN</td>\n",
       "      <td>MnPrv</td>\n",
       "      <td>NaN</td>\n",
       "      <td>0</td>\n",
       "      <td>6</td>\n",
       "      <td>2010</td>\n",
       "      <td>WD</td>\n",
       "      <td>Normal</td>\n",
       "      <td>105000</td>\n",
       "    </tr>\n",
       "    <tr>\n",
       "      <th>2</th>\n",
       "      <td>526351010</td>\n",
       "      <td>20</td>\n",
       "      <td>RL</td>\n",
       "      <td>81.0</td>\n",
       "      <td>14267</td>\n",
       "      <td>Pave</td>\n",
       "      <td>NaN</td>\n",
       "      <td>IR1</td>\n",
       "      <td>Lvl</td>\n",
       "      <td>AllPub</td>\n",
       "      <td>...</td>\n",
       "      <td>0</td>\n",
       "      <td>NaN</td>\n",
       "      <td>NaN</td>\n",
       "      <td>Gar2</td>\n",
       "      <td>12500</td>\n",
       "      <td>6</td>\n",
       "      <td>2010</td>\n",
       "      <td>WD</td>\n",
       "      <td>Normal</td>\n",
       "      <td>172000</td>\n",
       "    </tr>\n",
       "    <tr>\n",
       "      <th>3</th>\n",
       "      <td>526353030</td>\n",
       "      <td>20</td>\n",
       "      <td>RL</td>\n",
       "      <td>93.0</td>\n",
       "      <td>11160</td>\n",
       "      <td>Pave</td>\n",
       "      <td>NaN</td>\n",
       "      <td>Reg</td>\n",
       "      <td>Lvl</td>\n",
       "      <td>AllPub</td>\n",
       "      <td>...</td>\n",
       "      <td>0</td>\n",
       "      <td>NaN</td>\n",
       "      <td>NaN</td>\n",
       "      <td>NaN</td>\n",
       "      <td>0</td>\n",
       "      <td>4</td>\n",
       "      <td>2010</td>\n",
       "      <td>WD</td>\n",
       "      <td>Normal</td>\n",
       "      <td>244000</td>\n",
       "    </tr>\n",
       "    <tr>\n",
       "      <th>4</th>\n",
       "      <td>527105010</td>\n",
       "      <td>60</td>\n",
       "      <td>RL</td>\n",
       "      <td>74.0</td>\n",
       "      <td>13830</td>\n",
       "      <td>Pave</td>\n",
       "      <td>NaN</td>\n",
       "      <td>IR1</td>\n",
       "      <td>Lvl</td>\n",
       "      <td>AllPub</td>\n",
       "      <td>...</td>\n",
       "      <td>0</td>\n",
       "      <td>NaN</td>\n",
       "      <td>MnPrv</td>\n",
       "      <td>NaN</td>\n",
       "      <td>0</td>\n",
       "      <td>3</td>\n",
       "      <td>2010</td>\n",
       "      <td>WD</td>\n",
       "      <td>Normal</td>\n",
       "      <td>189900</td>\n",
       "    </tr>\n",
       "  </tbody>\n",
       "</table>\n",
       "<p>5 rows × 81 columns</p>\n",
       "</div>"
      ],
      "text/plain": [
       "         PID  MS SubClass MS Zoning  Lot Frontage  Lot Area Street Alley  \\\n",
       "0  526301100           20        RL         141.0     31770   Pave   NaN   \n",
       "1  526350040           20        RH          80.0     11622   Pave   NaN   \n",
       "2  526351010           20        RL          81.0     14267   Pave   NaN   \n",
       "3  526353030           20        RL          93.0     11160   Pave   NaN   \n",
       "4  527105010           60        RL          74.0     13830   Pave   NaN   \n",
       "\n",
       "  Lot Shape Land Contour Utilities  ... Pool Area Pool QC  Fence Misc Feature  \\\n",
       "0       IR1          Lvl    AllPub  ...         0     NaN    NaN          NaN   \n",
       "1       Reg          Lvl    AllPub  ...         0     NaN  MnPrv          NaN   \n",
       "2       IR1          Lvl    AllPub  ...         0     NaN    NaN         Gar2   \n",
       "3       Reg          Lvl    AllPub  ...         0     NaN    NaN          NaN   \n",
       "4       IR1          Lvl    AllPub  ...         0     NaN  MnPrv          NaN   \n",
       "\n",
       "  Misc Val Mo Sold Yr Sold  Sale Type  Sale Condition  SalePrice  \n",
       "0        0       5    2010        WD           Normal     215000  \n",
       "1        0       6    2010        WD           Normal     105000  \n",
       "2    12500       6    2010        WD           Normal     172000  \n",
       "3        0       4    2010        WD           Normal     244000  \n",
       "4        0       3    2010        WD           Normal     189900  \n",
       "\n",
       "[5 rows x 81 columns]"
      ]
     },
     "execution_count": 3,
     "metadata": {},
     "output_type": "execute_result"
    }
   ],
   "source": [
    "df.head()"
   ]
  },
  {
   "cell_type": "code",
   "execution_count": 4,
   "metadata": {},
   "outputs": [
    {
     "data": {
      "text/plain": [
       "2836"
      ]
     },
     "execution_count": 4,
     "metadata": {},
     "output_type": "execute_result"
    }
   ],
   "source": [
    "len(df)"
   ]
  },
  {
   "cell_type": "markdown",
   "metadata": {},
   "source": [
    "## DEAL WITH MISSING DATA"
   ]
  },
  {
   "cell_type": "code",
   "execution_count": 5,
   "metadata": {
    "scrolled": true
   },
   "outputs": [
    {
     "data": {
      "text/plain": [
       "PID                 int64\n",
       "MS SubClass         int64\n",
       "MS Zoning          object\n",
       "Lot Frontage      float64\n",
       "Lot Area            int64\n",
       "                   ...   \n",
       "Mo Sold             int64\n",
       "Yr Sold             int64\n",
       "Sale Type          object\n",
       "Sale Condition     object\n",
       "SalePrice           int64\n",
       "Length: 81, dtype: object"
      ]
     },
     "execution_count": 5,
     "metadata": {},
     "output_type": "execute_result"
    }
   ],
   "source": [
    "df.dtypes"
   ]
  },
  {
   "cell_type": "code",
   "execution_count": 6,
   "metadata": {},
   "outputs": [],
   "source": [
    "df.drop(columns='PID',inplace=True)\n",
    "\n",
    "# remove PID since it doesnt required in modelling later"
   ]
  },
  {
   "cell_type": "code",
   "execution_count": 7,
   "metadata": {},
   "outputs": [
    {
     "data": {
      "text/plain": [
       "Electrical         0.035261\n",
       "Garage Area        0.035261\n",
       "Bsmt Half Bath     0.035261\n",
       "Bsmt Full Bath     0.035261\n",
       "Total Bsmt SF      0.035261\n",
       "Bsmt Unf SF        0.035261\n",
       "BsmtFin SF 1       0.035261\n",
       "BsmtFin SF 2       0.035261\n",
       "Garage Cars        0.035261\n",
       "Mas Vnr Area       0.740480\n",
       "Mas Vnr Type       0.740480\n",
       "BsmtFin Type 2     2.715092\n",
       "Bsmt Cond          2.715092\n",
       "Bsmt Qual          2.715092\n",
       "BsmtFin Type 1     2.715092\n",
       "Bsmt Exposure      2.820874\n",
       "Garage Type        5.324401\n",
       "Garage Finish      5.394922\n",
       "Garage Qual        5.394922\n",
       "Garage Cond        5.394922\n",
       "Garage Yr Blt      5.394922\n",
       "Lot Frontage      16.748942\n",
       "Fireplace Qu      49.576869\n",
       "Fence             80.359661\n",
       "Alley             93.335684\n",
       "Misc Feature      96.297602\n",
       "Pool QC           99.682652\n",
       "dtype: float64"
      ]
     },
     "execution_count": 7,
     "metadata": {},
     "output_type": "execute_result"
    }
   ],
   "source": [
    "percent_missing = df.isnull().sum() * 100 / len(df)\n",
    "\n",
    "percent_missing = percent_missing[percent_missing > 0].sort_values()\n",
    "\n",
    "percent_missing\n",
    "\n",
    "# total missing data in DF * 100 / numbers of rows\n",
    "\n",
    "# filtered to only above 0 percent of missing value"
   ]
  },
  {
   "cell_type": "code",
   "execution_count": 8,
   "metadata": {},
   "outputs": [
    {
     "data": {
      "text/plain": [
       "Index(['Electrical', 'Garage Area', 'Bsmt Half Bath', 'Bsmt Full Bath',\n",
       "       'Total Bsmt SF', 'Bsmt Unf SF', 'BsmtFin SF 1', 'BsmtFin SF 2',\n",
       "       'Garage Cars', 'Mas Vnr Area', 'Mas Vnr Type', 'BsmtFin Type 2',\n",
       "       'Bsmt Cond', 'Bsmt Qual', 'BsmtFin Type 1', 'Bsmt Exposure',\n",
       "       'Garage Type', 'Garage Finish', 'Garage Qual', 'Garage Cond',\n",
       "       'Garage Yr Blt', 'Lot Frontage', 'Fireplace Qu', 'Fence', 'Alley',\n",
       "       'Misc Feature', 'Pool QC'],\n",
       "      dtype='object')"
      ]
     },
     "execution_count": 8,
     "metadata": {},
     "output_type": "execute_result"
    }
   ],
   "source": [
    "percent_missing.index"
   ]
  },
  {
   "cell_type": "code",
   "execution_count": 9,
   "metadata": {},
   "outputs": [
    {
     "data": {
      "image/png": "[encoded data removed]",
      "text/plain": [
       "<Figure size 864x576 with 1 Axes>"
      ]
     },
     "metadata": {
      "needs_background": "light"
     },
     "output_type": "display_data"
    }
   ],
   "source": [
    "plt.figure(figsize=(12,8))\n",
    "\n",
    "sns.barplot(x=percent_missing.index,y=percent_missing);\n",
    "plt.xticks(rotation=90)\n",
    "plt.ylim(0,1)\n",
    "plt.show()\n",
    "\n",
    "# create a barplot of percentage of missing data\n",
    "# plt.ylim -- zoom in the graph"
   ]
  },
  {
   "cell_type": "code",
   "execution_count": 10,
   "metadata": {},
   "outputs": [
    {
     "data": {
      "text/plain": [
       "Electrical        1\n",
       "Garage Area       1\n",
       "Bsmt Half Bath    1\n",
       "Bsmt Full Bath    1\n",
       "Total Bsmt SF     1\n",
       "Bsmt Unf SF       1\n",
       "BsmtFin SF 1      1\n",
       "BsmtFin SF 2      1\n",
       "Garage Cars       1\n",
       "dtype: int64"
      ]
     },
     "execution_count": 10,
     "metadata": {},
     "output_type": "execute_result"
    }
   ],
   "source": [
    "df[['Electrical','Garage Area','Bsmt Half Bath','Bsmt Full Bath','Total Bsmt SF','Bsmt Unf SF','BsmtFin SF 1','BsmtFin SF 2','Garage Cars']].isnull().sum()\n",
    "\n",
    "# checking the number of missing value on each features"
   ]
  },
  {
   "cell_type": "code",
   "execution_count": 11,
   "metadata": {
    "scrolled": true
   },
   "outputs": [
    {
     "data": {
      "text/plain": [
       "dtype('O')"
      ]
     },
     "execution_count": 11,
     "metadata": {},
     "output_type": "execute_result"
    }
   ],
   "source": [
    "df.dtypes['Electrical']\n",
    "\n",
    "# check the data type for the missing data\n",
    "# example = electrical (object) --- cant be replace with mean(int), can be replace with strings ('None')"
   ]
  },
  {
   "cell_type": "code",
   "execution_count": 12,
   "metadata": {},
   "outputs": [
    {
     "data": {
      "text/plain": [
       "0       SBrkr\n",
       "1       SBrkr\n",
       "2       SBrkr\n",
       "3       SBrkr\n",
       "4       SBrkr\n",
       "        ...  \n",
       "2831    SBrkr\n",
       "2832    SBrkr\n",
       "2833    SBrkr\n",
       "2834    SBrkr\n",
       "2835    SBrkr\n",
       "Name: Electrical, Length: 2836, dtype: object"
      ]
     },
     "execution_count": 12,
     "metadata": {},
     "output_type": "execute_result"
    }
   ],
   "source": [
    "df['Electrical'] \n",
    "\n",
    "# consider the data is missing because no NaN value available in the list (notepad)"
   ]
  },
  {
   "cell_type": "code",
   "execution_count": 13,
   "metadata": {
    "scrolled": true
   },
   "outputs": [
    {
     "data": {
      "text/html": [
       "<div>\n",
       "<style scoped>\n",
       "    .dataframe tbody tr th:only-of-type {\n",
       "        vertical-align: middle;\n",
       "    }\n",
       "\n",
       "    .dataframe tbody tr th {\n",
       "        vertical-align: top;\n",
       "    }\n",
       "\n",
       "    .dataframe thead th {\n",
       "        text-align: right;\n",
       "    }\n",
       "</style>\n",
       "<table border=\"1\" class=\"dataframe\">\n",
       "  <thead>\n",
       "    <tr style=\"text-align: right;\">\n",
       "      <th></th>\n",
       "      <th>MS SubClass</th>\n",
       "      <th>MS Zoning</th>\n",
       "      <th>Lot Frontage</th>\n",
       "      <th>Lot Area</th>\n",
       "      <th>Street</th>\n",
       "      <th>Alley</th>\n",
       "      <th>Lot Shape</th>\n",
       "      <th>Land Contour</th>\n",
       "      <th>Utilities</th>\n",
       "      <th>Lot Config</th>\n",
       "      <th>...</th>\n",
       "      <th>Pool Area</th>\n",
       "      <th>Pool QC</th>\n",
       "      <th>Fence</th>\n",
       "      <th>Misc Feature</th>\n",
       "      <th>Misc Val</th>\n",
       "      <th>Mo Sold</th>\n",
       "      <th>Yr Sold</th>\n",
       "      <th>Sale Type</th>\n",
       "      <th>Sale Condition</th>\n",
       "      <th>SalePrice</th>\n",
       "    </tr>\n",
       "  </thead>\n",
       "  <tbody>\n",
       "    <tr>\n",
       "      <th>1528</th>\n",
       "      <td>80</td>\n",
       "      <td>RL</td>\n",
       "      <td>73.0</td>\n",
       "      <td>9735</td>\n",
       "      <td>Pave</td>\n",
       "      <td>NaN</td>\n",
       "      <td>Reg</td>\n",
       "      <td>Lvl</td>\n",
       "      <td>AllPub</td>\n",
       "      <td>Inside</td>\n",
       "      <td>...</td>\n",
       "      <td>0</td>\n",
       "      <td>NaN</td>\n",
       "      <td>NaN</td>\n",
       "      <td>NaN</td>\n",
       "      <td>0</td>\n",
       "      <td>5</td>\n",
       "      <td>2008</td>\n",
       "      <td>WD</td>\n",
       "      <td>Normal</td>\n",
       "      <td>167500</td>\n",
       "    </tr>\n",
       "  </tbody>\n",
       "</table>\n",
       "<p>1 rows × 80 columns</p>\n",
       "</div>"
      ],
      "text/plain": [
       "      MS SubClass MS Zoning  Lot Frontage  Lot Area Street Alley Lot Shape  \\\n",
       "1528           80        RL          73.0      9735   Pave   NaN       Reg   \n",
       "\n",
       "     Land Contour Utilities Lot Config  ... Pool Area Pool QC Fence  \\\n",
       "1528          Lvl    AllPub     Inside  ...         0     NaN   NaN   \n",
       "\n",
       "     Misc Feature Misc Val Mo Sold  Yr Sold  Sale Type  Sale Condition  \\\n",
       "1528          NaN        0       5     2008        WD           Normal   \n",
       "\n",
       "      SalePrice  \n",
       "1528     167500  \n",
       "\n",
       "[1 rows x 80 columns]"
      ]
     },
     "execution_count": 13,
     "metadata": {},
     "output_type": "execute_result"
    }
   ],
   "source": [
    "df.loc[df['Electrical'].isnull()] \n",
    "\n",
    "# locate the index of missing value"
   ]
  },
  {
   "cell_type": "code",
   "execution_count": 14,
   "metadata": {},
   "outputs": [],
   "source": [
    "df.drop([1546],axis=0,inplace=True)\n",
    "\n",
    "# dropping the missing value"
   ]
  },
  {
   "cell_type": "code",
   "execution_count": 15,
   "metadata": {},
   "outputs": [
    {
     "data": {
      "text/plain": [
       "1"
      ]
     },
     "execution_count": 15,
     "metadata": {},
     "output_type": "execute_result"
    }
   ],
   "source": [
    "df['Electrical'].isnull().sum()\n",
    "\n",
    "# check to see if there is still missing data in the features"
   ]
  },
  {
   "cell_type": "code",
   "execution_count": 16,
   "metadata": {},
   "outputs": [
    {
     "data": {
      "text/plain": [
       "0       528.0\n",
       "1       730.0\n",
       "2       312.0\n",
       "3       522.0\n",
       "4       482.0\n",
       "        ...  \n",
       "2831    588.0\n",
       "2832    484.0\n",
       "2833      0.0\n",
       "2834    418.0\n",
       "2835    650.0\n",
       "Name: Garage Area, Length: 2835, dtype: float64"
      ]
     },
     "execution_count": 16,
     "metadata": {},
     "output_type": "execute_result"
    }
   ],
   "source": [
    "df['Garage Area']"
   ]
  },
  {
   "cell_type": "code",
   "execution_count": 17,
   "metadata": {},
   "outputs": [
    {
     "data": {
      "text/plain": [
       "2159   NaN\n",
       "Name: Garage Area, dtype: float64"
      ]
     },
     "execution_count": 17,
     "metadata": {},
     "output_type": "execute_result"
    }
   ],
   "source": [
    "df.loc[df['Garage Area'].isnull()]['Garage Area'] "
   ]
  },
  {
   "cell_type": "code",
   "execution_count": 18,
   "metadata": {},
   "outputs": [],
   "source": [
    "df['Garage Area']=df['Garage Area'].fillna(0)  \n",
    "\n",
    "# numerical fill Na with 0\n",
    "# the house may not have a garage, therefore choose 0 as it is the lowest value"
   ]
  },
  {
   "cell_type": "code",
   "execution_count": 19,
   "metadata": {},
   "outputs": [
    {
     "data": {
      "text/plain": [
       "0"
      ]
     },
     "execution_count": 19,
     "metadata": {},
     "output_type": "execute_result"
    }
   ],
   "source": [
    "df['Garage Area'].isnull().sum()  # the garage area NaN value had been replace by 0"
   ]
  },
  {
   "cell_type": "code",
   "execution_count": 20,
   "metadata": {},
   "outputs": [],
   "source": [
    "bsmt=['Bsmt Half Bath','Bsmt Full Bath','Total Bsmt SF','Bsmt Unf SF','BsmtFin SF 1','BsmtFin SF 2']\n",
    "\n",
    "# can combine all bsmt features into 1 as it is all float"
   ]
  },
  {
   "cell_type": "code",
   "execution_count": 21,
   "metadata": {},
   "outputs": [
    {
     "data": {
      "text/plain": [
       "Bsmt Half Bath    float64\n",
       "Bsmt Full Bath    float64\n",
       "Total Bsmt SF     float64\n",
       "Bsmt Unf SF       float64\n",
       "BsmtFin SF 1      float64\n",
       "BsmtFin SF 2      float64\n",
       "dtype: object"
      ]
     },
     "execution_count": 21,
     "metadata": {},
     "output_type": "execute_result"
    }
   ],
   "source": [
    "df.dtypes[bsmt]"
   ]
  },
  {
   "cell_type": "code",
   "execution_count": 22,
   "metadata": {},
   "outputs": [
    {
     "data": {
      "text/html": [
       "<div>\n",
       "<style scoped>\n",
       "    .dataframe tbody tr th:only-of-type {\n",
       "        vertical-align: middle;\n",
       "    }\n",
       "\n",
       "    .dataframe tbody tr th {\n",
       "        vertical-align: top;\n",
       "    }\n",
       "\n",
       "    .dataframe thead th {\n",
       "        text-align: right;\n",
       "    }\n",
       "</style>\n",
       "<table border=\"1\" class=\"dataframe\">\n",
       "  <thead>\n",
       "    <tr style=\"text-align: right;\">\n",
       "      <th></th>\n",
       "      <th>Bsmt Half Bath</th>\n",
       "      <th>Bsmt Full Bath</th>\n",
       "      <th>Total Bsmt SF</th>\n",
       "      <th>Bsmt Unf SF</th>\n",
       "      <th>BsmtFin SF 1</th>\n",
       "      <th>BsmtFin SF 2</th>\n",
       "    </tr>\n",
       "  </thead>\n",
       "  <tbody>\n",
       "    <tr>\n",
       "      <th>0</th>\n",
       "      <td>0.0</td>\n",
       "      <td>1.0</td>\n",
       "      <td>1080.0</td>\n",
       "      <td>441.0</td>\n",
       "      <td>639.0</td>\n",
       "      <td>0.0</td>\n",
       "    </tr>\n",
       "    <tr>\n",
       "      <th>1</th>\n",
       "      <td>0.0</td>\n",
       "      <td>0.0</td>\n",
       "      <td>882.0</td>\n",
       "      <td>270.0</td>\n",
       "      <td>468.0</td>\n",
       "      <td>144.0</td>\n",
       "    </tr>\n",
       "    <tr>\n",
       "      <th>2</th>\n",
       "      <td>0.0</td>\n",
       "      <td>0.0</td>\n",
       "      <td>1329.0</td>\n",
       "      <td>406.0</td>\n",
       "      <td>923.0</td>\n",
       "      <td>0.0</td>\n",
       "    </tr>\n",
       "    <tr>\n",
       "      <th>3</th>\n",
       "      <td>0.0</td>\n",
       "      <td>1.0</td>\n",
       "      <td>2110.0</td>\n",
       "      <td>1045.0</td>\n",
       "      <td>1065.0</td>\n",
       "      <td>0.0</td>\n",
       "    </tr>\n",
       "    <tr>\n",
       "      <th>4</th>\n",
       "      <td>0.0</td>\n",
       "      <td>0.0</td>\n",
       "      <td>928.0</td>\n",
       "      <td>137.0</td>\n",
       "      <td>791.0</td>\n",
       "      <td>0.0</td>\n",
       "    </tr>\n",
       "    <tr>\n",
       "      <th>...</th>\n",
       "      <td>...</td>\n",
       "      <td>...</td>\n",
       "      <td>...</td>\n",
       "      <td>...</td>\n",
       "      <td>...</td>\n",
       "      <td>...</td>\n",
       "    </tr>\n",
       "    <tr>\n",
       "      <th>2831</th>\n",
       "      <td>0.0</td>\n",
       "      <td>1.0</td>\n",
       "      <td>1003.0</td>\n",
       "      <td>184.0</td>\n",
       "      <td>819.0</td>\n",
       "      <td>0.0</td>\n",
       "    </tr>\n",
       "    <tr>\n",
       "      <th>2832</th>\n",
       "      <td>0.0</td>\n",
       "      <td>1.0</td>\n",
       "      <td>864.0</td>\n",
       "      <td>239.0</td>\n",
       "      <td>301.0</td>\n",
       "      <td>324.0</td>\n",
       "    </tr>\n",
       "    <tr>\n",
       "      <th>2833</th>\n",
       "      <td>1.0</td>\n",
       "      <td>0.0</td>\n",
       "      <td>912.0</td>\n",
       "      <td>575.0</td>\n",
       "      <td>337.0</td>\n",
       "      <td>0.0</td>\n",
       "    </tr>\n",
       "    <tr>\n",
       "      <th>2834</th>\n",
       "      <td>0.0</td>\n",
       "      <td>1.0</td>\n",
       "      <td>1389.0</td>\n",
       "      <td>195.0</td>\n",
       "      <td>1071.0</td>\n",
       "      <td>123.0</td>\n",
       "    </tr>\n",
       "    <tr>\n",
       "      <th>2835</th>\n",
       "      <td>0.0</td>\n",
       "      <td>0.0</td>\n",
       "      <td>996.0</td>\n",
       "      <td>238.0</td>\n",
       "      <td>758.0</td>\n",
       "      <td>0.0</td>\n",
       "    </tr>\n",
       "  </tbody>\n",
       "</table>\n",
       "<p>2835 rows × 6 columns</p>\n",
       "</div>"
      ],
      "text/plain": [
       "      Bsmt Half Bath  Bsmt Full Bath  Total Bsmt SF  Bsmt Unf SF  \\\n",
       "0                0.0             1.0         1080.0        441.0   \n",
       "1                0.0             0.0          882.0        270.0   \n",
       "2                0.0             0.0         1329.0        406.0   \n",
       "3                0.0             1.0         2110.0       1045.0   \n",
       "4                0.0             0.0          928.0        137.0   \n",
       "...              ...             ...            ...          ...   \n",
       "2831             0.0             1.0         1003.0        184.0   \n",
       "2832             0.0             1.0          864.0        239.0   \n",
       "2833             1.0             0.0          912.0        575.0   \n",
       "2834             0.0             1.0         1389.0        195.0   \n",
       "2835             0.0             0.0          996.0        238.0   \n",
       "\n",
       "      BsmtFin SF 1  BsmtFin SF 2  \n",
       "0            639.0           0.0  \n",
       "1            468.0         144.0  \n",
       "2            923.0           0.0  \n",
       "3           1065.0           0.0  \n",
       "4            791.0           0.0  \n",
       "...            ...           ...  \n",
       "2831         819.0           0.0  \n",
       "2832         301.0         324.0  \n",
       "2833         337.0           0.0  \n",
       "2834        1071.0         123.0  \n",
       "2835         758.0           0.0  \n",
       "\n",
       "[2835 rows x 6 columns]"
      ]
     },
     "execution_count": 22,
     "metadata": {},
     "output_type": "execute_result"
    }
   ],
   "source": [
    "df[bsmt]"
   ]
  },
  {
   "cell_type": "code",
   "execution_count": 23,
   "metadata": {},
   "outputs": [
    {
     "data": {
      "text/plain": [
       "Bsmt Half Bath    1\n",
       "Bsmt Full Bath    1\n",
       "Total Bsmt SF     1\n",
       "Bsmt Unf SF       1\n",
       "BsmtFin SF 1      1\n",
       "BsmtFin SF 2      1\n",
       "dtype: int64"
      ]
     },
     "execution_count": 23,
     "metadata": {},
     "output_type": "execute_result"
    }
   ],
   "source": [
    "df[bsmt].isnull().sum()"
   ]
  },
  {
   "cell_type": "code",
   "execution_count": 24,
   "metadata": {},
   "outputs": [],
   "source": [
    "df[bsmt]=df[bsmt].fillna(0)\n",
    "\n",
    "# fill the whole bsmt missing data with 0"
   ]
  },
  {
   "cell_type": "code",
   "execution_count": 25,
   "metadata": {},
   "outputs": [
    {
     "data": {
      "text/plain": [
       "Bsmt Half Bath    0\n",
       "Bsmt Full Bath    0\n",
       "Total Bsmt SF     0\n",
       "Bsmt Unf SF       0\n",
       "BsmtFin SF 1      0\n",
       "BsmtFin SF 2      0\n",
       "dtype: int64"
      ]
     },
     "execution_count": 25,
     "metadata": {},
     "output_type": "execute_result"
    }
   ],
   "source": [
    "df[bsmt].isnull().sum()"
   ]
  },
  {
   "cell_type": "code",
   "execution_count": 26,
   "metadata": {},
   "outputs": [
    {
     "data": {
      "text/plain": [
       "2159   NaN\n",
       "Name: Garage Cars, dtype: float64"
      ]
     },
     "execution_count": 26,
     "metadata": {},
     "output_type": "execute_result"
    }
   ],
   "source": [
    "df.loc[df['Garage Cars'].isnull()]['Garage Cars'] "
   ]
  },
  {
   "cell_type": "code",
   "execution_count": 27,
   "metadata": {},
   "outputs": [
    {
     "data": {
      "text/plain": [
       "0       2.0\n",
       "1       1.0\n",
       "2       1.0\n",
       "3       2.0\n",
       "4       2.0\n",
       "       ... \n",
       "2831    2.0\n",
       "2832    2.0\n",
       "2833    0.0\n",
       "2834    2.0\n",
       "2835    3.0\n",
       "Name: Garage Cars, Length: 2835, dtype: float64"
      ]
     },
     "execution_count": 27,
     "metadata": {},
     "output_type": "execute_result"
    }
   ],
   "source": [
    "df['Garage Cars']"
   ]
  },
  {
   "cell_type": "code",
   "execution_count": 28,
   "metadata": {},
   "outputs": [],
   "source": [
    "df['Garage Cars']=df['Garage Cars'].fillna(0.0) # fill with 0 value"
   ]
  },
  {
   "cell_type": "code",
   "execution_count": 29,
   "metadata": {},
   "outputs": [
    {
     "data": {
      "text/plain": [
       "0"
      ]
     },
     "execution_count": 29,
     "metadata": {},
     "output_type": "execute_result"
    }
   ],
   "source": [
    "df['Garage Cars'].isnull().sum()  # no NaN value present in Garage Cars anymore"
   ]
  },
  {
   "cell_type": "code",
   "execution_count": 30,
   "metadata": {},
   "outputs": [
    {
     "data": {
      "text/plain": [
       "Electrical         0.035273\n",
       "Mas Vnr Type       0.740741\n",
       "Mas Vnr Area       0.740741\n",
       "Bsmt Qual          2.716049\n",
       "Bsmt Cond          2.716049\n",
       "BsmtFin Type 1     2.716049\n",
       "BsmtFin Type 2     2.716049\n",
       "Bsmt Exposure      2.821869\n",
       "Garage Type        5.326279\n",
       "Garage Cond        5.396825\n",
       "Garage Qual        5.396825\n",
       "Garage Finish      5.396825\n",
       "Garage Yr Blt      5.396825\n",
       "Lot Frontage      16.754850\n",
       "Fireplace Qu      49.594356\n",
       "Fence             80.352734\n",
       "Alley             93.333333\n",
       "Misc Feature      96.296296\n",
       "Pool QC           99.682540\n",
       "dtype: float64"
      ]
     },
     "execution_count": 30,
     "metadata": {},
     "output_type": "execute_result"
    }
   ],
   "source": [
    "percent_missing = df.isnull().sum() * 100 / len(df)\n",
    "\n",
    "percent_missing = percent_missing[percent_missing > 0].sort_values()\n",
    "\n",
    "percent_missing"
   ]
  },
  {
   "cell_type": "code",
   "execution_count": 31,
   "metadata": {},
   "outputs": [
    {
     "data": {
      "image/png": "[encoded data removed]",
      "text/plain": [
       "<Figure size 864x576 with 1 Axes>"
      ]
     },
     "metadata": {
      "needs_background": "light"
     },
     "output_type": "display_data"
    }
   ],
   "source": [
    "plt.figure(figsize=(12,8))\n",
    "\n",
    "sns.barplot(x=percent_missing.index,y=percent_missing);\n",
    "plt.xticks(rotation=90)\n",
    "\n",
    "plt.show()"
   ]
  },
  {
   "cell_type": "code",
   "execution_count": 32,
   "metadata": {},
   "outputs": [
    {
     "data": {
      "text/plain": [
       "Mas Vnr Type    21\n",
       "Mas Vnr Area    21\n",
       "dtype: int64"
      ]
     },
     "execution_count": 32,
     "metadata": {},
     "output_type": "execute_result"
    }
   ],
   "source": [
    "df[['Mas Vnr Type','Mas Vnr Area']].isnull().sum()"
   ]
  },
  {
   "cell_type": "code",
   "execution_count": 33,
   "metadata": {
    "scrolled": true
   },
   "outputs": [
    {
     "data": {
      "text/plain": [
       "Mas Vnr Type     object\n",
       "Mas Vnr Area    float64\n",
       "dtype: object"
      ]
     },
     "execution_count": 33,
     "metadata": {},
     "output_type": "execute_result"
    }
   ],
   "source": [
    "df.dtypes[['Mas Vnr Type','Mas Vnr Area']]\n",
    "\n",
    "# Mas Vnr Type - object\n",
    "# Mas Vnr Area - float"
   ]
  },
  {
   "cell_type": "code",
   "execution_count": 34,
   "metadata": {
    "scrolled": true
   },
   "outputs": [
    {
     "data": {
      "text/html": [
       "<div>\n",
       "<style scoped>\n",
       "    .dataframe tbody tr th:only-of-type {\n",
       "        vertical-align: middle;\n",
       "    }\n",
       "\n",
       "    .dataframe tbody tr th {\n",
       "        vertical-align: top;\n",
       "    }\n",
       "\n",
       "    .dataframe thead th {\n",
       "        text-align: right;\n",
       "    }\n",
       "</style>\n",
       "<table border=\"1\" class=\"dataframe\">\n",
       "  <thead>\n",
       "    <tr style=\"text-align: right;\">\n",
       "      <th></th>\n",
       "      <th>MS SubClass</th>\n",
       "      <th>MS Zoning</th>\n",
       "      <th>Lot Frontage</th>\n",
       "      <th>Lot Area</th>\n",
       "      <th>Street</th>\n",
       "      <th>Alley</th>\n",
       "      <th>Lot Shape</th>\n",
       "      <th>Land Contour</th>\n",
       "      <th>Utilities</th>\n",
       "      <th>Lot Config</th>\n",
       "      <th>...</th>\n",
       "      <th>Pool Area</th>\n",
       "      <th>Pool QC</th>\n",
       "      <th>Fence</th>\n",
       "      <th>Misc Feature</th>\n",
       "      <th>Misc Val</th>\n",
       "      <th>Mo Sold</th>\n",
       "      <th>Yr Sold</th>\n",
       "      <th>Sale Type</th>\n",
       "      <th>Sale Condition</th>\n",
       "      <th>SalePrice</th>\n",
       "    </tr>\n",
       "  </thead>\n",
       "  <tbody>\n",
       "    <tr>\n",
       "      <th>52</th>\n",
       "      <td>60</td>\n",
       "      <td>RL</td>\n",
       "      <td>NaN</td>\n",
       "      <td>7851</td>\n",
       "      <td>Pave</td>\n",
       "      <td>NaN</td>\n",
       "      <td>Reg</td>\n",
       "      <td>Lvl</td>\n",
       "      <td>AllPub</td>\n",
       "      <td>Inside</td>\n",
       "      <td>...</td>\n",
       "      <td>0</td>\n",
       "      <td>NaN</td>\n",
       "      <td>NaN</td>\n",
       "      <td>NaN</td>\n",
       "      <td>0</td>\n",
       "      <td>5</td>\n",
       "      <td>2010</td>\n",
       "      <td>WD</td>\n",
       "      <td>Normal</td>\n",
       "      <td>216500</td>\n",
       "    </tr>\n",
       "    <tr>\n",
       "      <th>464</th>\n",
       "      <td>60</td>\n",
       "      <td>RL</td>\n",
       "      <td>NaN</td>\n",
       "      <td>12891</td>\n",
       "      <td>Pave</td>\n",
       "      <td>NaN</td>\n",
       "      <td>IR1</td>\n",
       "      <td>Lvl</td>\n",
       "      <td>AllPub</td>\n",
       "      <td>Corner</td>\n",
       "      <td>...</td>\n",
       "      <td>0</td>\n",
       "      <td>NaN</td>\n",
       "      <td>NaN</td>\n",
       "      <td>NaN</td>\n",
       "      <td>0</td>\n",
       "      <td>7</td>\n",
       "      <td>2009</td>\n",
       "      <td>WD</td>\n",
       "      <td>Normal</td>\n",
       "      <td>257500</td>\n",
       "    </tr>\n",
       "    <tr>\n",
       "      <th>496</th>\n",
       "      <td>20</td>\n",
       "      <td>FV</td>\n",
       "      <td>90.0</td>\n",
       "      <td>7993</td>\n",
       "      <td>Pave</td>\n",
       "      <td>NaN</td>\n",
       "      <td>IR1</td>\n",
       "      <td>Lvl</td>\n",
       "      <td>AllPub</td>\n",
       "      <td>Inside</td>\n",
       "      <td>...</td>\n",
       "      <td>0</td>\n",
       "      <td>NaN</td>\n",
       "      <td>NaN</td>\n",
       "      <td>NaN</td>\n",
       "      <td>0</td>\n",
       "      <td>10</td>\n",
       "      <td>2009</td>\n",
       "      <td>New</td>\n",
       "      <td>Partial</td>\n",
       "      <td>225000</td>\n",
       "    </tr>\n",
       "    <tr>\n",
       "      <th>517</th>\n",
       "      <td>20</td>\n",
       "      <td>RL</td>\n",
       "      <td>67.0</td>\n",
       "      <td>10083</td>\n",
       "      <td>Pave</td>\n",
       "      <td>NaN</td>\n",
       "      <td>Reg</td>\n",
       "      <td>Lvl</td>\n",
       "      <td>AllPub</td>\n",
       "      <td>Inside</td>\n",
       "      <td>...</td>\n",
       "      <td>0</td>\n",
       "      <td>NaN</td>\n",
       "      <td>NaN</td>\n",
       "      <td>NaN</td>\n",
       "      <td>0</td>\n",
       "      <td>8</td>\n",
       "      <td>2009</td>\n",
       "      <td>WD</td>\n",
       "      <td>Normal</td>\n",
       "      <td>184900</td>\n",
       "    </tr>\n",
       "    <tr>\n",
       "      <th>842</th>\n",
       "      <td>60</td>\n",
       "      <td>RL</td>\n",
       "      <td>70.0</td>\n",
       "      <td>8749</td>\n",
       "      <td>Pave</td>\n",
       "      <td>NaN</td>\n",
       "      <td>Reg</td>\n",
       "      <td>Lvl</td>\n",
       "      <td>AllPub</td>\n",
       "      <td>Inside</td>\n",
       "      <td>...</td>\n",
       "      <td>0</td>\n",
       "      <td>NaN</td>\n",
       "      <td>NaN</td>\n",
       "      <td>NaN</td>\n",
       "      <td>0</td>\n",
       "      <td>11</td>\n",
       "      <td>2009</td>\n",
       "      <td>WD</td>\n",
       "      <td>Normal</td>\n",
       "      <td>198500</td>\n",
       "    </tr>\n",
       "    <tr>\n",
       "      <th>1063</th>\n",
       "      <td>60</td>\n",
       "      <td>RL</td>\n",
       "      <td>NaN</td>\n",
       "      <td>7750</td>\n",
       "      <td>Pave</td>\n",
       "      <td>NaN</td>\n",
       "      <td>Reg</td>\n",
       "      <td>Lvl</td>\n",
       "      <td>AllPub</td>\n",
       "      <td>Inside</td>\n",
       "      <td>...</td>\n",
       "      <td>0</td>\n",
       "      <td>NaN</td>\n",
       "      <td>NaN</td>\n",
       "      <td>NaN</td>\n",
       "      <td>0</td>\n",
       "      <td>4</td>\n",
       "      <td>2008</td>\n",
       "      <td>WD</td>\n",
       "      <td>Normal</td>\n",
       "      <td>176000</td>\n",
       "    </tr>\n",
       "    <tr>\n",
       "      <th>1085</th>\n",
       "      <td>20</td>\n",
       "      <td>RL</td>\n",
       "      <td>87.0</td>\n",
       "      <td>10037</td>\n",
       "      <td>Pave</td>\n",
       "      <td>NaN</td>\n",
       "      <td>Reg</td>\n",
       "      <td>Lvl</td>\n",
       "      <td>AllPub</td>\n",
       "      <td>Corner</td>\n",
       "      <td>...</td>\n",
       "      <td>0</td>\n",
       "      <td>NaN</td>\n",
       "      <td>NaN</td>\n",
       "      <td>NaN</td>\n",
       "      <td>0</td>\n",
       "      <td>8</td>\n",
       "      <td>2008</td>\n",
       "      <td>WD</td>\n",
       "      <td>Normal</td>\n",
       "      <td>247000</td>\n",
       "    </tr>\n",
       "    <tr>\n",
       "      <th>1088</th>\n",
       "      <td>20</td>\n",
       "      <td>FV</td>\n",
       "      <td>95.0</td>\n",
       "      <td>11639</td>\n",
       "      <td>Pave</td>\n",
       "      <td>NaN</td>\n",
       "      <td>Reg</td>\n",
       "      <td>Lvl</td>\n",
       "      <td>AllPub</td>\n",
       "      <td>Corner</td>\n",
       "      <td>...</td>\n",
       "      <td>0</td>\n",
       "      <td>NaN</td>\n",
       "      <td>NaN</td>\n",
       "      <td>NaN</td>\n",
       "      <td>0</td>\n",
       "      <td>12</td>\n",
       "      <td>2008</td>\n",
       "      <td>New</td>\n",
       "      <td>Partial</td>\n",
       "      <td>182000</td>\n",
       "    </tr>\n",
       "    <tr>\n",
       "      <th>1093</th>\n",
       "      <td>60</td>\n",
       "      <td>FV</td>\n",
       "      <td>65.0</td>\n",
       "      <td>8125</td>\n",
       "      <td>Pave</td>\n",
       "      <td>NaN</td>\n",
       "      <td>Reg</td>\n",
       "      <td>Lvl</td>\n",
       "      <td>AllPub</td>\n",
       "      <td>Inside</td>\n",
       "      <td>...</td>\n",
       "      <td>0</td>\n",
       "      <td>NaN</td>\n",
       "      <td>NaN</td>\n",
       "      <td>NaN</td>\n",
       "      <td>0</td>\n",
       "      <td>5</td>\n",
       "      <td>2008</td>\n",
       "      <td>WD</td>\n",
       "      <td>Normal</td>\n",
       "      <td>205950</td>\n",
       "    </tr>\n",
       "    <tr>\n",
       "      <th>1149</th>\n",
       "      <td>60</td>\n",
       "      <td>FV</td>\n",
       "      <td>NaN</td>\n",
       "      <td>7500</td>\n",
       "      <td>Pave</td>\n",
       "      <td>NaN</td>\n",
       "      <td>Reg</td>\n",
       "      <td>Lvl</td>\n",
       "      <td>AllPub</td>\n",
       "      <td>Inside</td>\n",
       "      <td>...</td>\n",
       "      <td>0</td>\n",
       "      <td>NaN</td>\n",
       "      <td>NaN</td>\n",
       "      <td>NaN</td>\n",
       "      <td>0</td>\n",
       "      <td>4</td>\n",
       "      <td>2008</td>\n",
       "      <td>WD</td>\n",
       "      <td>Normal</td>\n",
       "      <td>205000</td>\n",
       "    </tr>\n",
       "    <tr>\n",
       "      <th>1413</th>\n",
       "      <td>60</td>\n",
       "      <td>RL</td>\n",
       "      <td>75.0</td>\n",
       "      <td>9473</td>\n",
       "      <td>Pave</td>\n",
       "      <td>NaN</td>\n",
       "      <td>Reg</td>\n",
       "      <td>Lvl</td>\n",
       "      <td>AllPub</td>\n",
       "      <td>Inside</td>\n",
       "      <td>...</td>\n",
       "      <td>0</td>\n",
       "      <td>NaN</td>\n",
       "      <td>NaN</td>\n",
       "      <td>NaN</td>\n",
       "      <td>0</td>\n",
       "      <td>3</td>\n",
       "      <td>2008</td>\n",
       "      <td>WD</td>\n",
       "      <td>Normal</td>\n",
       "      <td>237000</td>\n",
       "    </tr>\n",
       "    <tr>\n",
       "      <th>1672</th>\n",
       "      <td>60</td>\n",
       "      <td>RL</td>\n",
       "      <td>59.0</td>\n",
       "      <td>15810</td>\n",
       "      <td>Pave</td>\n",
       "      <td>NaN</td>\n",
       "      <td>IR1</td>\n",
       "      <td>Lvl</td>\n",
       "      <td>AllPub</td>\n",
       "      <td>Inside</td>\n",
       "      <td>...</td>\n",
       "      <td>0</td>\n",
       "      <td>NaN</td>\n",
       "      <td>NaN</td>\n",
       "      <td>NaN</td>\n",
       "      <td>0</td>\n",
       "      <td>5</td>\n",
       "      <td>2007</td>\n",
       "      <td>New</td>\n",
       "      <td>Partial</td>\n",
       "      <td>181755</td>\n",
       "    </tr>\n",
       "    <tr>\n",
       "      <th>1696</th>\n",
       "      <td>80</td>\n",
       "      <td>RL</td>\n",
       "      <td>NaN</td>\n",
       "      <td>11950</td>\n",
       "      <td>Pave</td>\n",
       "      <td>NaN</td>\n",
       "      <td>IR1</td>\n",
       "      <td>Lvl</td>\n",
       "      <td>AllPub</td>\n",
       "      <td>Corner</td>\n",
       "      <td>...</td>\n",
       "      <td>0</td>\n",
       "      <td>NaN</td>\n",
       "      <td>NaN</td>\n",
       "      <td>NaN</td>\n",
       "      <td>0</td>\n",
       "      <td>10</td>\n",
       "      <td>2007</td>\n",
       "      <td>WD</td>\n",
       "      <td>Normal</td>\n",
       "      <td>165500</td>\n",
       "    </tr>\n",
       "    <tr>\n",
       "      <th>1724</th>\n",
       "      <td>20</td>\n",
       "      <td>RL</td>\n",
       "      <td>85.0</td>\n",
       "      <td>9965</td>\n",
       "      <td>Pave</td>\n",
       "      <td>NaN</td>\n",
       "      <td>Reg</td>\n",
       "      <td>Lvl</td>\n",
       "      <td>AllPub</td>\n",
       "      <td>FR2</td>\n",
       "      <td>...</td>\n",
       "      <td>0</td>\n",
       "      <td>NaN</td>\n",
       "      <td>NaN</td>\n",
       "      <td>NaN</td>\n",
       "      <td>0</td>\n",
       "      <td>9</td>\n",
       "      <td>2007</td>\n",
       "      <td>New</td>\n",
       "      <td>Partial</td>\n",
       "      <td>235876</td>\n",
       "    </tr>\n",
       "    <tr>\n",
       "      <th>1740</th>\n",
       "      <td>60</td>\n",
       "      <td>FV</td>\n",
       "      <td>112.0</td>\n",
       "      <td>12217</td>\n",
       "      <td>Pave</td>\n",
       "      <td>NaN</td>\n",
       "      <td>IR1</td>\n",
       "      <td>Lvl</td>\n",
       "      <td>AllPub</td>\n",
       "      <td>Inside</td>\n",
       "      <td>...</td>\n",
       "      <td>0</td>\n",
       "      <td>NaN</td>\n",
       "      <td>NaN</td>\n",
       "      <td>NaN</td>\n",
       "      <td>0</td>\n",
       "      <td>12</td>\n",
       "      <td>2007</td>\n",
       "      <td>New</td>\n",
       "      <td>Partial</td>\n",
       "      <td>310013</td>\n",
       "    </tr>\n",
       "    <tr>\n",
       "      <th>1779</th>\n",
       "      <td>120</td>\n",
       "      <td>FV</td>\n",
       "      <td>30.0</td>\n",
       "      <td>5330</td>\n",
       "      <td>Pave</td>\n",
       "      <td>Pave</td>\n",
       "      <td>IR2</td>\n",
       "      <td>Lvl</td>\n",
       "      <td>AllPub</td>\n",
       "      <td>Inside</td>\n",
       "      <td>...</td>\n",
       "      <td>0</td>\n",
       "      <td>NaN</td>\n",
       "      <td>NaN</td>\n",
       "      <td>NaN</td>\n",
       "      <td>0</td>\n",
       "      <td>7</td>\n",
       "      <td>2007</td>\n",
       "      <td>New</td>\n",
       "      <td>Partial</td>\n",
       "      <td>207500</td>\n",
       "    </tr>\n",
       "    <tr>\n",
       "      <th>1780</th>\n",
       "      <td>120</td>\n",
       "      <td>FV</td>\n",
       "      <td>35.0</td>\n",
       "      <td>4274</td>\n",
       "      <td>Pave</td>\n",
       "      <td>Pave</td>\n",
       "      <td>IR1</td>\n",
       "      <td>Lvl</td>\n",
       "      <td>AllPub</td>\n",
       "      <td>Inside</td>\n",
       "      <td>...</td>\n",
       "      <td>0</td>\n",
       "      <td>NaN</td>\n",
       "      <td>NaN</td>\n",
       "      <td>NaN</td>\n",
       "      <td>0</td>\n",
       "      <td>11</td>\n",
       "      <td>2007</td>\n",
       "      <td>New</td>\n",
       "      <td>Partial</td>\n",
       "      <td>199900</td>\n",
       "    </tr>\n",
       "    <tr>\n",
       "      <th>2297</th>\n",
       "      <td>20</td>\n",
       "      <td>RL</td>\n",
       "      <td>107.0</td>\n",
       "      <td>13891</td>\n",
       "      <td>Pave</td>\n",
       "      <td>NaN</td>\n",
       "      <td>Reg</td>\n",
       "      <td>Lvl</td>\n",
       "      <td>AllPub</td>\n",
       "      <td>Inside</td>\n",
       "      <td>...</td>\n",
       "      <td>0</td>\n",
       "      <td>NaN</td>\n",
       "      <td>NaN</td>\n",
       "      <td>NaN</td>\n",
       "      <td>0</td>\n",
       "      <td>9</td>\n",
       "      <td>2006</td>\n",
       "      <td>New</td>\n",
       "      <td>Partial</td>\n",
       "      <td>465000</td>\n",
       "    </tr>\n",
       "    <tr>\n",
       "      <th>2307</th>\n",
       "      <td>60</td>\n",
       "      <td>RL</td>\n",
       "      <td>103.0</td>\n",
       "      <td>12867</td>\n",
       "      <td>Pave</td>\n",
       "      <td>NaN</td>\n",
       "      <td>IR1</td>\n",
       "      <td>Lvl</td>\n",
       "      <td>AllPub</td>\n",
       "      <td>Corner</td>\n",
       "      <td>...</td>\n",
       "      <td>0</td>\n",
       "      <td>NaN</td>\n",
       "      <td>NaN</td>\n",
       "      <td>NaN</td>\n",
       "      <td>0</td>\n",
       "      <td>7</td>\n",
       "      <td>2006</td>\n",
       "      <td>New</td>\n",
       "      <td>Partial</td>\n",
       "      <td>344133</td>\n",
       "    </tr>\n",
       "    <tr>\n",
       "      <th>2368</th>\n",
       "      <td>20</td>\n",
       "      <td>RL</td>\n",
       "      <td>49.0</td>\n",
       "      <td>15218</td>\n",
       "      <td>Pave</td>\n",
       "      <td>NaN</td>\n",
       "      <td>IR1</td>\n",
       "      <td>Lvl</td>\n",
       "      <td>AllPub</td>\n",
       "      <td>CulDSac</td>\n",
       "      <td>...</td>\n",
       "      <td>0</td>\n",
       "      <td>NaN</td>\n",
       "      <td>NaN</td>\n",
       "      <td>NaN</td>\n",
       "      <td>0</td>\n",
       "      <td>9</td>\n",
       "      <td>2006</td>\n",
       "      <td>New</td>\n",
       "      <td>Partial</td>\n",
       "      <td>336820</td>\n",
       "    </tr>\n",
       "    <tr>\n",
       "      <th>2731</th>\n",
       "      <td>20</td>\n",
       "      <td>RL</td>\n",
       "      <td>75.0</td>\n",
       "      <td>8050</td>\n",
       "      <td>Pave</td>\n",
       "      <td>NaN</td>\n",
       "      <td>Reg</td>\n",
       "      <td>Lvl</td>\n",
       "      <td>AllPub</td>\n",
       "      <td>Inside</td>\n",
       "      <td>...</td>\n",
       "      <td>0</td>\n",
       "      <td>NaN</td>\n",
       "      <td>NaN</td>\n",
       "      <td>NaN</td>\n",
       "      <td>0</td>\n",
       "      <td>4</td>\n",
       "      <td>2006</td>\n",
       "      <td>WD</td>\n",
       "      <td>Normal</td>\n",
       "      <td>117250</td>\n",
       "    </tr>\n",
       "  </tbody>\n",
       "</table>\n",
       "<p>21 rows × 80 columns</p>\n",
       "</div>"
      ],
      "text/plain": [
       "      MS SubClass MS Zoning  Lot Frontage  Lot Area Street Alley Lot Shape  \\\n",
       "52             60        RL           NaN      7851   Pave   NaN       Reg   \n",
       "464            60        RL           NaN     12891   Pave   NaN       IR1   \n",
       "496            20        FV          90.0      7993   Pave   NaN       IR1   \n",
       "517            20        RL          67.0     10083   Pave   NaN       Reg   \n",
       "842            60        RL          70.0      8749   Pave   NaN       Reg   \n",
       "1063           60        RL           NaN      7750   Pave   NaN       Reg   \n",
       "1085           20        RL          87.0     10037   Pave   NaN       Reg   \n",
       "1088           20        FV          95.0     11639   Pave   NaN       Reg   \n",
       "1093           60        FV          65.0      8125   Pave   NaN       Reg   \n",
       "1149           60        FV           NaN      7500   Pave   NaN       Reg   \n",
       "1413           60        RL          75.0      9473   Pave   NaN       Reg   \n",
       "1672           60        RL          59.0     15810   Pave   NaN       IR1   \n",
       "1696           80        RL           NaN     11950   Pave   NaN       IR1   \n",
       "1724           20        RL          85.0      9965   Pave   NaN       Reg   \n",
       "1740           60        FV         112.0     12217   Pave   NaN       IR1   \n",
       "1779          120        FV          30.0      5330   Pave  Pave       IR2   \n",
       "1780          120        FV          35.0      4274   Pave  Pave       IR1   \n",
       "2297           20        RL         107.0     13891   Pave   NaN       Reg   \n",
       "2307           60        RL         103.0     12867   Pave   NaN       IR1   \n",
       "2368           20        RL          49.0     15218   Pave   NaN       IR1   \n",
       "2731           20        RL          75.0      8050   Pave   NaN       Reg   \n",
       "\n",
       "     Land Contour Utilities Lot Config  ... Pool Area Pool QC Fence  \\\n",
       "52            Lvl    AllPub     Inside  ...         0     NaN   NaN   \n",
       "464           Lvl    AllPub     Corner  ...         0     NaN   NaN   \n",
       "496           Lvl    AllPub     Inside  ...         0     NaN   NaN   \n",
       "517           Lvl    AllPub     Inside  ...         0     NaN   NaN   \n",
       "842           Lvl    AllPub     Inside  ...         0     NaN   NaN   \n",
       "1063          Lvl    AllPub     Inside  ...         0     NaN   NaN   \n",
       "1085          Lvl    AllPub     Corner  ...         0     NaN   NaN   \n",
       "1088          Lvl    AllPub     Corner  ...         0     NaN   NaN   \n",
       "1093          Lvl    AllPub     Inside  ...         0     NaN   NaN   \n",
       "1149          Lvl    AllPub     Inside  ...         0     NaN   NaN   \n",
       "1413          Lvl    AllPub     Inside  ...         0     NaN   NaN   \n",
       "1672          Lvl    AllPub     Inside  ...         0     NaN   NaN   \n",
       "1696          Lvl    AllPub     Corner  ...         0     NaN   NaN   \n",
       "1724          Lvl    AllPub        FR2  ...         0     NaN   NaN   \n",
       "1740          Lvl    AllPub     Inside  ...         0     NaN   NaN   \n",
       "1779          Lvl    AllPub     Inside  ...         0     NaN   NaN   \n",
       "1780          Lvl    AllPub     Inside  ...         0     NaN   NaN   \n",
       "2297          Lvl    AllPub     Inside  ...         0     NaN   NaN   \n",
       "2307          Lvl    AllPub     Corner  ...         0     NaN   NaN   \n",
       "2368          Lvl    AllPub    CulDSac  ...         0     NaN   NaN   \n",
       "2731          Lvl    AllPub     Inside  ...         0     NaN   NaN   \n",
       "\n",
       "     Misc Feature Misc Val Mo Sold  Yr Sold  Sale Type  Sale Condition  \\\n",
       "52            NaN        0       5     2010        WD           Normal   \n",
       "464           NaN        0       7     2009        WD           Normal   \n",
       "496           NaN        0      10     2009        New         Partial   \n",
       "517           NaN        0       8     2009        WD           Normal   \n",
       "842           NaN        0      11     2009        WD           Normal   \n",
       "1063          NaN        0       4     2008        WD           Normal   \n",
       "1085          NaN        0       8     2008        WD           Normal   \n",
       "1088          NaN        0      12     2008        New         Partial   \n",
       "1093          NaN        0       5     2008        WD           Normal   \n",
       "1149          NaN        0       4     2008        WD           Normal   \n",
       "1413          NaN        0       3     2008        WD           Normal   \n",
       "1672          NaN        0       5     2007        New         Partial   \n",
       "1696          NaN        0      10     2007        WD           Normal   \n",
       "1724          NaN        0       9     2007        New         Partial   \n",
       "1740          NaN        0      12     2007        New         Partial   \n",
       "1779          NaN        0       7     2007        New         Partial   \n",
       "1780          NaN        0      11     2007        New         Partial   \n",
       "2297          NaN        0       9     2006        New         Partial   \n",
       "2307          NaN        0       7     2006        New         Partial   \n",
       "2368          NaN        0       9     2006        New         Partial   \n",
       "2731          NaN        0       4     2006        WD           Normal   \n",
       "\n",
       "      SalePrice  \n",
       "52       216500  \n",
       "464      257500  \n",
       "496      225000  \n",
       "517      184900  \n",
       "842      198500  \n",
       "1063     176000  \n",
       "1085     247000  \n",
       "1088     182000  \n",
       "1093     205950  \n",
       "1149     205000  \n",
       "1413     237000  \n",
       "1672     181755  \n",
       "1696     165500  \n",
       "1724     235876  \n",
       "1740     310013  \n",
       "1779     207500  \n",
       "1780     199900  \n",
       "2297     465000  \n",
       "2307     344133  \n",
       "2368     336820  \n",
       "2731     117250  \n",
       "\n",
       "[21 rows x 80 columns]"
      ]
     },
     "execution_count": 34,
     "metadata": {},
     "output_type": "execute_result"
    }
   ],
   "source": [
    "df.loc[df['Mas Vnr Type'].isnull()] "
   ]
  },
  {
   "cell_type": "code",
   "execution_count": 35,
   "metadata": {},
   "outputs": [],
   "source": [
    "df['Mas Vnr Type']=df['Mas Vnr Type'].fillna('None')\n",
    "\n",
    "# since it is strings features, fill it with None (from notepad)"
   ]
  },
  {
   "cell_type": "code",
   "execution_count": 36,
   "metadata": {},
   "outputs": [
    {
     "data": {
      "text/plain": [
       "0         Stone\n",
       "1          None\n",
       "2       BrkFace\n",
       "3          None\n",
       "4          None\n",
       "         ...   \n",
       "2831       None\n",
       "2832       None\n",
       "2833       None\n",
       "2834       None\n",
       "2835    BrkFace\n",
       "Name: Mas Vnr Type, Length: 2835, dtype: object"
      ]
     },
     "execution_count": 36,
     "metadata": {},
     "output_type": "execute_result"
    }
   ],
   "source": [
    "df['Mas Vnr Type']"
   ]
  },
  {
   "cell_type": "code",
   "execution_count": 37,
   "metadata": {},
   "outputs": [
    {
     "data": {
      "text/plain": [
       "0"
      ]
     },
     "execution_count": 37,
     "metadata": {},
     "output_type": "execute_result"
    }
   ],
   "source": [
    "df['Mas Vnr Type'].isnull().sum()"
   ]
  },
  {
   "cell_type": "code",
   "execution_count": 38,
   "metadata": {},
   "outputs": [
    {
     "data": {
      "text/plain": [
       "0       112.0\n",
       "1         0.0\n",
       "2       108.0\n",
       "3         0.0\n",
       "4         0.0\n",
       "        ...  \n",
       "2831      0.0\n",
       "2832      0.0\n",
       "2833      0.0\n",
       "2834      0.0\n",
       "2835     94.0\n",
       "Name: Mas Vnr Area, Length: 2835, dtype: float64"
      ]
     },
     "execution_count": 38,
     "metadata": {},
     "output_type": "execute_result"
    }
   ],
   "source": [
    "df[\"Mas Vnr Area\"]"
   ]
  },
  {
   "cell_type": "code",
   "execution_count": 39,
   "metadata": {},
   "outputs": [],
   "source": [
    "df['Mas Vnr Area']=df['Mas Vnr Area'].fillna(0.0)"
   ]
  },
  {
   "cell_type": "code",
   "execution_count": 40,
   "metadata": {},
   "outputs": [
    {
     "data": {
      "text/plain": [
       "0"
      ]
     },
     "execution_count": 40,
     "metadata": {},
     "output_type": "execute_result"
    }
   ],
   "source": [
    "df['Mas Vnr Area'].isnull().sum()"
   ]
  },
  {
   "cell_type": "code",
   "execution_count": 41,
   "metadata": {},
   "outputs": [
    {
     "data": {
      "text/plain": [
       "Electrical         0.035273\n",
       "Bsmt Qual          2.716049\n",
       "Bsmt Cond          2.716049\n",
       "BsmtFin Type 1     2.716049\n",
       "BsmtFin Type 2     2.716049\n",
       "Bsmt Exposure      2.821869\n",
       "Garage Type        5.326279\n",
       "Garage Cond        5.396825\n",
       "Garage Qual        5.396825\n",
       "Garage Yr Blt      5.396825\n",
       "Garage Finish      5.396825\n",
       "Lot Frontage      16.754850\n",
       "Fireplace Qu      49.594356\n",
       "Fence             80.352734\n",
       "Alley             93.333333\n",
       "Misc Feature      96.296296\n",
       "Pool QC           99.682540\n",
       "dtype: float64"
      ]
     },
     "execution_count": 41,
     "metadata": {},
     "output_type": "execute_result"
    }
   ],
   "source": [
    "percent_missing = df.isnull().sum() * 100 / len(df)\n",
    "\n",
    "percent_missing = percent_missing[percent_missing > 0].sort_values()\n",
    "\n",
    "percent_missing"
   ]
  },
  {
   "cell_type": "code",
   "execution_count": 42,
   "metadata": {},
   "outputs": [
    {
     "data": {
      "image/png": "[encoded data removed]",
      "text/plain": [
       "<Figure size 864x576 with 1 Axes>"
      ]
     },
     "metadata": {
      "needs_background": "light"
     },
     "output_type": "display_data"
    }
   ],
   "source": [
    "plt.figure(figsize=(12,8))\n",
    "\n",
    "sns.barplot(x=percent_missing.index,y=percent_missing);\n",
    "plt.xticks(rotation=90)\n",
    "\n",
    "plt.show()"
   ]
  },
  {
   "cell_type": "code",
   "execution_count": 43,
   "metadata": {},
   "outputs": [
    {
     "data": {
      "text/plain": [
       "Bsmt Qual         77\n",
       "Bsmt Cond         77\n",
       "BsmtFin Type 1    77\n",
       "BsmtFin Type 2    77\n",
       "Bsmt Exposure     80\n",
       "dtype: int64"
      ]
     },
     "execution_count": 43,
     "metadata": {},
     "output_type": "execute_result"
    }
   ],
   "source": [
    "df[['Bsmt Qual','Bsmt Cond','BsmtFin Type 1','BsmtFin Type 2','Bsmt Exposure']].isnull().sum()"
   ]
  },
  {
   "cell_type": "code",
   "execution_count": 44,
   "metadata": {},
   "outputs": [],
   "source": [
    "bsmt=['Bsmt Qual','Bsmt Cond','BsmtFin Type 1','BsmtFin Type 2','Bsmt Exposure']\n",
    "\n",
    "# combine all basement into a variables"
   ]
  },
  {
   "cell_type": "code",
   "execution_count": 45,
   "metadata": {},
   "outputs": [
    {
     "data": {
      "text/html": [
       "<div>\n",
       "<style scoped>\n",
       "    .dataframe tbody tr th:only-of-type {\n",
       "        vertical-align: middle;\n",
       "    }\n",
       "\n",
       "    .dataframe tbody tr th {\n",
       "        vertical-align: top;\n",
       "    }\n",
       "\n",
       "    .dataframe thead th {\n",
       "        text-align: right;\n",
       "    }\n",
       "</style>\n",
       "<table border=\"1\" class=\"dataframe\">\n",
       "  <thead>\n",
       "    <tr style=\"text-align: right;\">\n",
       "      <th></th>\n",
       "      <th>Bsmt Qual</th>\n",
       "      <th>Bsmt Cond</th>\n",
       "      <th>BsmtFin Type 1</th>\n",
       "      <th>BsmtFin Type 2</th>\n",
       "      <th>Bsmt Exposure</th>\n",
       "    </tr>\n",
       "  </thead>\n",
       "  <tbody>\n",
       "    <tr>\n",
       "      <th>0</th>\n",
       "      <td>TA</td>\n",
       "      <td>Gd</td>\n",
       "      <td>BLQ</td>\n",
       "      <td>Unf</td>\n",
       "      <td>Gd</td>\n",
       "    </tr>\n",
       "    <tr>\n",
       "      <th>1</th>\n",
       "      <td>TA</td>\n",
       "      <td>TA</td>\n",
       "      <td>Rec</td>\n",
       "      <td>LwQ</td>\n",
       "      <td>No</td>\n",
       "    </tr>\n",
       "    <tr>\n",
       "      <th>2</th>\n",
       "      <td>TA</td>\n",
       "      <td>TA</td>\n",
       "      <td>ALQ</td>\n",
       "      <td>Unf</td>\n",
       "      <td>No</td>\n",
       "    </tr>\n",
       "    <tr>\n",
       "      <th>3</th>\n",
       "      <td>TA</td>\n",
       "      <td>TA</td>\n",
       "      <td>ALQ</td>\n",
       "      <td>Unf</td>\n",
       "      <td>No</td>\n",
       "    </tr>\n",
       "    <tr>\n",
       "      <th>4</th>\n",
       "      <td>Gd</td>\n",
       "      <td>TA</td>\n",
       "      <td>GLQ</td>\n",
       "      <td>Unf</td>\n",
       "      <td>No</td>\n",
       "    </tr>\n",
       "    <tr>\n",
       "      <th>...</th>\n",
       "      <td>...</td>\n",
       "      <td>...</td>\n",
       "      <td>...</td>\n",
       "      <td>...</td>\n",
       "      <td>...</td>\n",
       "    </tr>\n",
       "    <tr>\n",
       "      <th>2831</th>\n",
       "      <td>TA</td>\n",
       "      <td>TA</td>\n",
       "      <td>GLQ</td>\n",
       "      <td>Unf</td>\n",
       "      <td>Av</td>\n",
       "    </tr>\n",
       "    <tr>\n",
       "      <th>2832</th>\n",
       "      <td>Gd</td>\n",
       "      <td>TA</td>\n",
       "      <td>BLQ</td>\n",
       "      <td>ALQ</td>\n",
       "      <td>Av</td>\n",
       "    </tr>\n",
       "    <tr>\n",
       "      <th>2833</th>\n",
       "      <td>Gd</td>\n",
       "      <td>TA</td>\n",
       "      <td>GLQ</td>\n",
       "      <td>Unf</td>\n",
       "      <td>Av</td>\n",
       "    </tr>\n",
       "    <tr>\n",
       "      <th>2834</th>\n",
       "      <td>Gd</td>\n",
       "      <td>TA</td>\n",
       "      <td>ALQ</td>\n",
       "      <td>LwQ</td>\n",
       "      <td>Av</td>\n",
       "    </tr>\n",
       "    <tr>\n",
       "      <th>2835</th>\n",
       "      <td>Gd</td>\n",
       "      <td>TA</td>\n",
       "      <td>LwQ</td>\n",
       "      <td>Unf</td>\n",
       "      <td>Av</td>\n",
       "    </tr>\n",
       "  </tbody>\n",
       "</table>\n",
       "<p>2835 rows × 5 columns</p>\n",
       "</div>"
      ],
      "text/plain": [
       "     Bsmt Qual Bsmt Cond BsmtFin Type 1 BsmtFin Type 2 Bsmt Exposure\n",
       "0           TA        Gd            BLQ            Unf            Gd\n",
       "1           TA        TA            Rec            LwQ            No\n",
       "2           TA        TA            ALQ            Unf            No\n",
       "3           TA        TA            ALQ            Unf            No\n",
       "4           Gd        TA            GLQ            Unf            No\n",
       "...        ...       ...            ...            ...           ...\n",
       "2831        TA        TA            GLQ            Unf            Av\n",
       "2832        Gd        TA            BLQ            ALQ            Av\n",
       "2833        Gd        TA            GLQ            Unf            Av\n",
       "2834        Gd        TA            ALQ            LwQ            Av\n",
       "2835        Gd        TA            LwQ            Unf            Av\n",
       "\n",
       "[2835 rows x 5 columns]"
      ]
     },
     "execution_count": 45,
     "metadata": {},
     "output_type": "execute_result"
    }
   ],
   "source": [
    "df[bsmt]"
   ]
  },
  {
   "cell_type": "code",
   "execution_count": 46,
   "metadata": {
    "scrolled": true
   },
   "outputs": [
    {
     "data": {
      "text/plain": [
       "Bsmt Qual         object\n",
       "Bsmt Cond         object\n",
       "BsmtFin Type 1    object\n",
       "BsmtFin Type 2    object\n",
       "Bsmt Exposure     object\n",
       "dtype: object"
      ]
     },
     "execution_count": 46,
     "metadata": {},
     "output_type": "execute_result"
    }
   ],
   "source": [
    "df.dtypes[['Bsmt Qual','Bsmt Cond','BsmtFin Type 1','BsmtFin Type 2','Bsmt Exposure']]\n",
    "\n",
    "# all the features are object"
   ]
  },
  {
   "cell_type": "code",
   "execution_count": 47,
   "metadata": {},
   "outputs": [],
   "source": [
    "df[bsmt]=df[bsmt].fillna('NA')\n",
    "\n",
    "# fill the data in all the features with NA (from notepad)"
   ]
  },
  {
   "cell_type": "code",
   "execution_count": 48,
   "metadata": {},
   "outputs": [
    {
     "data": {
      "text/plain": [
       "Bsmt Qual         0\n",
       "Bsmt Cond         0\n",
       "BsmtFin Type 1    0\n",
       "BsmtFin Type 2    0\n",
       "Bsmt Exposure     0\n",
       "dtype: int64"
      ]
     },
     "execution_count": 48,
     "metadata": {},
     "output_type": "execute_result"
    }
   ],
   "source": [
    "df[bsmt].isnull().sum() # no missing value anymore"
   ]
  },
  {
   "cell_type": "code",
   "execution_count": 49,
   "metadata": {},
   "outputs": [
    {
     "data": {
      "text/plain": [
       "Electrical        0.035273\n",
       "Garage Type       5.326279\n",
       "Garage Yr Blt     5.396825\n",
       "Garage Finish     5.396825\n",
       "Garage Qual       5.396825\n",
       "Garage Cond       5.396825\n",
       "Lot Frontage     16.754850\n",
       "Fireplace Qu     49.594356\n",
       "Fence            80.352734\n",
       "Alley            93.333333\n",
       "Misc Feature     96.296296\n",
       "Pool QC          99.682540\n",
       "dtype: float64"
      ]
     },
     "execution_count": 49,
     "metadata": {},
     "output_type": "execute_result"
    }
   ],
   "source": [
    "percent_missing = df.isnull().sum() * 100 / len(df)\n",
    "\n",
    "percent_missing = percent_missing[percent_missing > 0].sort_values()\n",
    "\n",
    "percent_missing"
   ]
  },
  {
   "cell_type": "code",
   "execution_count": 50,
   "metadata": {},
   "outputs": [
    {
     "data": {
      "image/png": "[encoded data removed]",
      "text/plain": [
       "<Figure size 864x576 with 1 Axes>"
      ]
     },
     "metadata": {
      "needs_background": "light"
     },
     "output_type": "display_data"
    }
   ],
   "source": [
    "plt.figure(figsize=(12,8))\n",
    "\n",
    "sns.barplot(x=percent_missing.index,y=percent_missing);\n",
    "plt.xticks(rotation=90)\n",
    "\n",
    "plt.show()"
   ]
  },
  {
   "cell_type": "code",
   "execution_count": 51,
   "metadata": {},
   "outputs": [],
   "source": [
    "garage=['Garage Type','Garage Finish','Garage Qual','Garage Cond']\n",
    "\n",
    "# combine all garage features into one variables"
   ]
  },
  {
   "cell_type": "code",
   "execution_count": 52,
   "metadata": {},
   "outputs": [
    {
     "data": {
      "text/html": [
       "<div>\n",
       "<style scoped>\n",
       "    .dataframe tbody tr th:only-of-type {\n",
       "        vertical-align: middle;\n",
       "    }\n",
       "\n",
       "    .dataframe tbody tr th {\n",
       "        vertical-align: top;\n",
       "    }\n",
       "\n",
       "    .dataframe thead th {\n",
       "        text-align: right;\n",
       "    }\n",
       "</style>\n",
       "<table border=\"1\" class=\"dataframe\">\n",
       "  <thead>\n",
       "    <tr style=\"text-align: right;\">\n",
       "      <th></th>\n",
       "      <th>Garage Type</th>\n",
       "      <th>Garage Finish</th>\n",
       "      <th>Garage Qual</th>\n",
       "      <th>Garage Cond</th>\n",
       "    </tr>\n",
       "  </thead>\n",
       "  <tbody>\n",
       "    <tr>\n",
       "      <th>0</th>\n",
       "      <td>Attchd</td>\n",
       "      <td>Fin</td>\n",
       "      <td>TA</td>\n",
       "      <td>TA</td>\n",
       "    </tr>\n",
       "    <tr>\n",
       "      <th>1</th>\n",
       "      <td>Attchd</td>\n",
       "      <td>Unf</td>\n",
       "      <td>TA</td>\n",
       "      <td>TA</td>\n",
       "    </tr>\n",
       "    <tr>\n",
       "      <th>2</th>\n",
       "      <td>Attchd</td>\n",
       "      <td>Unf</td>\n",
       "      <td>TA</td>\n",
       "      <td>TA</td>\n",
       "    </tr>\n",
       "    <tr>\n",
       "      <th>3</th>\n",
       "      <td>Attchd</td>\n",
       "      <td>Fin</td>\n",
       "      <td>TA</td>\n",
       "      <td>TA</td>\n",
       "    </tr>\n",
       "    <tr>\n",
       "      <th>4</th>\n",
       "      <td>Attchd</td>\n",
       "      <td>Fin</td>\n",
       "      <td>TA</td>\n",
       "      <td>TA</td>\n",
       "    </tr>\n",
       "    <tr>\n",
       "      <th>...</th>\n",
       "      <td>...</td>\n",
       "      <td>...</td>\n",
       "      <td>...</td>\n",
       "      <td>...</td>\n",
       "    </tr>\n",
       "    <tr>\n",
       "      <th>2831</th>\n",
       "      <td>Detchd</td>\n",
       "      <td>Unf</td>\n",
       "      <td>TA</td>\n",
       "      <td>TA</td>\n",
       "    </tr>\n",
       "    <tr>\n",
       "      <th>2832</th>\n",
       "      <td>Attchd</td>\n",
       "      <td>Unf</td>\n",
       "      <td>TA</td>\n",
       "      <td>TA</td>\n",
       "    </tr>\n",
       "    <tr>\n",
       "      <th>2833</th>\n",
       "      <td>NaN</td>\n",
       "      <td>NaN</td>\n",
       "      <td>NaN</td>\n",
       "      <td>NaN</td>\n",
       "    </tr>\n",
       "    <tr>\n",
       "      <th>2834</th>\n",
       "      <td>Attchd</td>\n",
       "      <td>RFn</td>\n",
       "      <td>TA</td>\n",
       "      <td>TA</td>\n",
       "    </tr>\n",
       "    <tr>\n",
       "      <th>2835</th>\n",
       "      <td>Attchd</td>\n",
       "      <td>Fin</td>\n",
       "      <td>TA</td>\n",
       "      <td>TA</td>\n",
       "    </tr>\n",
       "  </tbody>\n",
       "</table>\n",
       "<p>2835 rows × 4 columns</p>\n",
       "</div>"
      ],
      "text/plain": [
       "     Garage Type Garage Finish Garage Qual Garage Cond\n",
       "0         Attchd           Fin          TA          TA\n",
       "1         Attchd           Unf          TA          TA\n",
       "2         Attchd           Unf          TA          TA\n",
       "3         Attchd           Fin          TA          TA\n",
       "4         Attchd           Fin          TA          TA\n",
       "...          ...           ...         ...         ...\n",
       "2831      Detchd           Unf          TA          TA\n",
       "2832      Attchd           Unf          TA          TA\n",
       "2833         NaN           NaN         NaN         NaN\n",
       "2834      Attchd           RFn          TA          TA\n",
       "2835      Attchd           Fin          TA          TA\n",
       "\n",
       "[2835 rows x 4 columns]"
      ]
     },
     "execution_count": 52,
     "metadata": {},
     "output_type": "execute_result"
    }
   ],
   "source": [
    "df[garage]"
   ]
  },
  {
   "cell_type": "code",
   "execution_count": 53,
   "metadata": {},
   "outputs": [
    {
     "data": {
      "text/plain": [
       "Garage Type      151\n",
       "Garage Finish    153\n",
       "Garage Qual      153\n",
       "Garage Cond      153\n",
       "dtype: int64"
      ]
     },
     "execution_count": 53,
     "metadata": {},
     "output_type": "execute_result"
    }
   ],
   "source": [
    "df[garage].isnull().sum()"
   ]
  },
  {
   "cell_type": "code",
   "execution_count": 54,
   "metadata": {},
   "outputs": [
    {
     "data": {
      "text/plain": [
       "Garage Type      object\n",
       "Garage Finish    object\n",
       "Garage Qual      object\n",
       "Garage Cond      object\n",
       "dtype: object"
      ]
     },
     "execution_count": 54,
     "metadata": {},
     "output_type": "execute_result"
    }
   ],
   "source": [
    "df.dtypes[['Garage Type','Garage Finish','Garage Qual','Garage Cond']]\n",
    "\n",
    "# all the features is object "
   ]
  },
  {
   "cell_type": "code",
   "execution_count": 55,
   "metadata": {},
   "outputs": [],
   "source": [
    "df[garage]=df[garage].fillna('NA') \n",
    "\n",
    "# fill all missing value in the feature with NA (from notepad)"
   ]
  },
  {
   "cell_type": "code",
   "execution_count": 56,
   "metadata": {
    "scrolled": true
   },
   "outputs": [
    {
     "data": {
      "text/plain": [
       "Garage Type      0\n",
       "Garage Finish    0\n",
       "Garage Qual      0\n",
       "Garage Cond      0\n",
       "dtype: int64"
      ]
     },
     "execution_count": 56,
     "metadata": {},
     "output_type": "execute_result"
    }
   ],
   "source": [
    "df[garage].isnull().sum()\n",
    "\n",
    "# no missing value"
   ]
  },
  {
   "cell_type": "code",
   "execution_count": 57,
   "metadata": {},
   "outputs": [
    {
     "data": {
      "text/plain": [
       "0       1960.0\n",
       "1       1961.0\n",
       "2       1958.0\n",
       "3       1968.0\n",
       "4       1997.0\n",
       "         ...  \n",
       "2831    1984.0\n",
       "2832    1983.0\n",
       "2833       NaN\n",
       "2834    1975.0\n",
       "2835    1993.0\n",
       "Name: Garage Yr Blt, Length: 2835, dtype: float64"
      ]
     },
     "execution_count": 57,
     "metadata": {},
     "output_type": "execute_result"
    }
   ],
   "source": [
    "df['Garage Yr Blt']"
   ]
  },
  {
   "cell_type": "code",
   "execution_count": 58,
   "metadata": {},
   "outputs": [],
   "source": [
    "df['Garage Yr Blt']=df['Garage Yr Blt'].fillna(0)"
   ]
  },
  {
   "cell_type": "code",
   "execution_count": 59,
   "metadata": {},
   "outputs": [
    {
     "data": {
      "text/plain": [
       "0"
      ]
     },
     "execution_count": 59,
     "metadata": {},
     "output_type": "execute_result"
    }
   ],
   "source": [
    "df['Garage Yr Blt'].isnull().sum()"
   ]
  },
  {
   "cell_type": "code",
   "execution_count": 60,
   "metadata": {},
   "outputs": [
    {
     "data": {
      "text/plain": [
       "Electrical       0.035273\n",
       "Lot Frontage    16.754850\n",
       "Fireplace Qu    49.594356\n",
       "Fence           80.352734\n",
       "Alley           93.333333\n",
       "Misc Feature    96.296296\n",
       "Pool QC         99.682540\n",
       "dtype: float64"
      ]
     },
     "execution_count": 60,
     "metadata": {},
     "output_type": "execute_result"
    }
   ],
   "source": [
    "percent_missing = df.isnull().sum() * 100 / len(df)\n",
    "\n",
    "percent_missing = percent_missing[percent_missing > 0].sort_values()\n",
    "\n",
    "percent_missing"
   ]
  },
  {
   "cell_type": "code",
   "execution_count": 61,
   "metadata": {},
   "outputs": [
    {
     "data": {
      "image/png": "[encoded data removed]",
      "text/plain": [
       "<Figure size 864x576 with 1 Axes>"
      ]
     },
     "metadata": {
      "needs_background": "light"
     },
     "output_type": "display_data"
    }
   ],
   "source": [
    "plt.figure(figsize=(12,8))\n",
    "\n",
    "sns.barplot(x=percent_missing.index,y=percent_missing);\n",
    "plt.xticks(rotation=90)\n",
    "\n",
    "plt.show()"
   ]
  },
  {
   "cell_type": "code",
   "execution_count": 62,
   "metadata": {},
   "outputs": [
    {
     "data": {
      "text/plain": [
       "475"
      ]
     },
     "execution_count": 62,
     "metadata": {},
     "output_type": "execute_result"
    }
   ],
   "source": [
    "df['Lot Frontage'].isnull().sum()"
   ]
  },
  {
   "cell_type": "code",
   "execution_count": 63,
   "metadata": {},
   "outputs": [
    {
     "data": {
      "text/plain": [
       "0       141.0\n",
       "1        80.0\n",
       "2        81.0\n",
       "3        93.0\n",
       "4        74.0\n",
       "        ...  \n",
       "2831     37.0\n",
       "2832      NaN\n",
       "2833     62.0\n",
       "2834     77.0\n",
       "2835     74.0\n",
       "Name: Lot Frontage, Length: 2835, dtype: float64"
      ]
     },
     "execution_count": 63,
     "metadata": {},
     "output_type": "execute_result"
    }
   ],
   "source": [
    "df['Lot Frontage']"
   ]
  },
  {
   "cell_type": "code",
   "execution_count": 64,
   "metadata": {},
   "outputs": [
    {
     "data": {
      "image/png": "[encoded data removed]",
      "text/plain": [
       "<Figure size 1080x360 with 1 Axes>"
      ]
     },
     "metadata": {
      "needs_background": "light"
     },
     "output_type": "display_data"
    }
   ],
   "source": [
    "plt.figure(figsize=(15,5))\n",
    "sns.boxplot(x='Lot Frontage',y='Neighborhood',data=df);\n",
    "\n",
    "# plot the relationship of lot frontage with its respective neighborhood"
   ]
  },
  {
   "cell_type": "code",
   "execution_count": 65,
   "metadata": {
    "scrolled": false
   },
   "outputs": [
    {
     "data": {
      "text/plain": [
       "Neighborhood\n",
       "Blmngtn    46.900000\n",
       "Blueste    27.300000\n",
       "BrDale     21.500000\n",
       "BrkSide    55.913978\n",
       "ClearCr    85.176471\n",
       "CollgCr    71.220183\n",
       "Crawfor    69.850000\n",
       "Edwards    64.391813\n",
       "Gilbert    74.207207\n",
       "Greens     41.000000\n",
       "GrnHill          NaN\n",
       "IDOTRR     62.333333\n",
       "Landmrk          NaN\n",
       "MeadowV    25.125000\n",
       "Mitchel    75.157303\n",
       "NAmes      74.975741\n",
       "NPkVill    28.142857\n",
       "NWAmes     81.535714\n",
       "NoRidge    89.000000\n",
       "NridgHt    82.047945\n",
       "OldTown    61.824324\n",
       "SWISU      59.046512\n",
       "Sawyer     74.551020\n",
       "SawyerW    70.669811\n",
       "Somerst    64.797468\n",
       "StoneBr    61.945946\n",
       "Timber     78.870370\n",
       "Veenker    70.000000\n",
       "Name: Lot Frontage, dtype: float64"
      ]
     },
     "execution_count": 65,
     "metadata": {},
     "output_type": "execute_result"
    }
   ],
   "source": [
    "df.groupby('Neighborhood')['Lot Frontage'].mean()"
   ]
  },
  {
   "cell_type": "markdown",
   "metadata": {},
   "source": [
    "https://stackoverflow.com/questions/40299055/pandas-how-to-fill-null-values-with-mean-of-a-groupby"
   ]
  },
  {
   "cell_type": "code",
   "execution_count": 66,
   "metadata": {},
   "outputs": [
    {
     "data": {
      "text/plain": [
       "0       141.000000\n",
       "1        80.000000\n",
       "2        81.000000\n",
       "3        93.000000\n",
       "4        74.000000\n",
       "           ...    \n",
       "2831     37.000000\n",
       "2832     75.157303\n",
       "2833     62.000000\n",
       "2834     77.000000\n",
       "2835     74.000000\n",
       "Name: Lot Frontage, Length: 2835, dtype: float64"
      ]
     },
     "execution_count": 66,
     "metadata": {},
     "output_type": "execute_result"
    }
   ],
   "source": [
    "df.groupby('Neighborhood')['Lot Frontage'].apply(lambda x: x.fillna(x.mean()))\n",
    "\n",
    "# fill the missing data of Lot Frontage will the mean of its respective neighborhood"
   ]
  },
  {
   "cell_type": "code",
   "execution_count": 67,
   "metadata": {},
   "outputs": [],
   "source": [
    "df['Lot Frontage'] = df.groupby('Neighborhood')['Lot Frontage'].apply(lambda x: x.fillna(x.mean()))\n",
    "\n",
    "# assign lot frontage to the series of mean value"
   ]
  },
  {
   "cell_type": "code",
   "execution_count": 68,
   "metadata": {},
   "outputs": [
    {
     "data": {
      "text/plain": [
       "0       141.000000\n",
       "1        80.000000\n",
       "2        81.000000\n",
       "3        93.000000\n",
       "4        74.000000\n",
       "           ...    \n",
       "2831     37.000000\n",
       "2832     75.157303\n",
       "2833     62.000000\n",
       "2834     77.000000\n",
       "2835     74.000000\n",
       "Name: Lot Frontage, Length: 2835, dtype: float64"
      ]
     },
     "execution_count": 68,
     "metadata": {},
     "output_type": "execute_result"
    }
   ],
   "source": [
    "df['Lot Frontage']"
   ]
  },
  {
   "cell_type": "code",
   "execution_count": 69,
   "metadata": {},
   "outputs": [
    {
     "data": {
      "text/plain": [
       "2"
      ]
     },
     "execution_count": 69,
     "metadata": {},
     "output_type": "execute_result"
    }
   ],
   "source": [
    "df['Lot Frontage'].isnull().sum()"
   ]
  },
  {
   "cell_type": "code",
   "execution_count": 70,
   "metadata": {},
   "outputs": [],
   "source": [
    "df['Lot Frontage']=df['Lot Frontage'].fillna(df['Lot Frontage'].mean())\n",
    "\n",
    "# fill the remaining missing value of the features with its mean"
   ]
  },
  {
   "cell_type": "code",
   "execution_count": 71,
   "metadata": {},
   "outputs": [
    {
     "data": {
      "text/plain": [
       "0"
      ]
     },
     "execution_count": 71,
     "metadata": {},
     "output_type": "execute_result"
    }
   ],
   "source": [
    "df['Lot Frontage'].isnull().sum()"
   ]
  },
  {
   "cell_type": "code",
   "execution_count": 72,
   "metadata": {},
   "outputs": [
    {
     "data": {
      "text/plain": [
       "Electrical       0.035273\n",
       "Fireplace Qu    49.594356\n",
       "Fence           80.352734\n",
       "Alley           93.333333\n",
       "Misc Feature    96.296296\n",
       "Pool QC         99.682540\n",
       "dtype: float64"
      ]
     },
     "execution_count": 72,
     "metadata": {},
     "output_type": "execute_result"
    }
   ],
   "source": [
    "percent_missing = df.isnull().sum() * 100 / len(df)\n",
    "\n",
    "percent_missing = percent_missing[percent_missing > 0].sort_values()\n",
    "\n",
    "percent_missing"
   ]
  },
  {
   "cell_type": "code",
   "execution_count": 73,
   "metadata": {},
   "outputs": [
    {
     "data": {
      "image/png": "[encoded data removed]",
      "text/plain": [
       "<Figure size 864x576 with 1 Axes>"
      ]
     },
     "metadata": {
      "needs_background": "light"
     },
     "output_type": "display_data"
    }
   ],
   "source": [
    "plt.figure(figsize=(12,8))\n",
    "\n",
    "sns.barplot(x=percent_missing.index,y=percent_missing);\n",
    "plt.xticks(rotation=90)\n",
    "\n",
    "plt.show()"
   ]
  },
  {
   "cell_type": "code",
   "execution_count": 74,
   "metadata": {},
   "outputs": [
    {
     "data": {
      "text/plain": [
       "1406"
      ]
     },
     "execution_count": 74,
     "metadata": {},
     "output_type": "execute_result"
    }
   ],
   "source": [
    "df['Fireplace Qu'].isnull().sum()"
   ]
  },
  {
   "cell_type": "code",
   "execution_count": 75,
   "metadata": {},
   "outputs": [
    {
     "data": {
      "text/plain": [
       "0        Gd\n",
       "1       NaN\n",
       "2       NaN\n",
       "3        TA\n",
       "4        TA\n",
       "       ... \n",
       "2831    NaN\n",
       "2832    NaN\n",
       "2833    NaN\n",
       "2834     TA\n",
       "2835     TA\n",
       "Name: Fireplace Qu, Length: 2835, dtype: object"
      ]
     },
     "execution_count": 75,
     "metadata": {},
     "output_type": "execute_result"
    }
   ],
   "source": [
    "df['Fireplace Qu']"
   ]
  },
  {
   "cell_type": "code",
   "execution_count": 76,
   "metadata": {},
   "outputs": [],
   "source": [
    "df['Fireplace Qu']=df['Fireplace Qu'].fillna('NA')\n",
    "\n",
    "# fill the missing data with NA (from notepad)"
   ]
  },
  {
   "cell_type": "code",
   "execution_count": 77,
   "metadata": {},
   "outputs": [
    {
     "data": {
      "text/plain": [
       "0"
      ]
     },
     "execution_count": 77,
     "metadata": {},
     "output_type": "execute_result"
    }
   ],
   "source": [
    "df['Fireplace Qu'].isnull().sum()"
   ]
  },
  {
   "cell_type": "code",
   "execution_count": 78,
   "metadata": {},
   "outputs": [
    {
     "data": {
      "text/plain": [
       "Electrical       0.035273\n",
       "Fence           80.352734\n",
       "Alley           93.333333\n",
       "Misc Feature    96.296296\n",
       "Pool QC         99.682540\n",
       "dtype: float64"
      ]
     },
     "execution_count": 78,
     "metadata": {},
     "output_type": "execute_result"
    }
   ],
   "source": [
    "percent_missing = df.isnull().sum() * 100 / len(df)\n",
    "\n",
    "percent_missing = percent_missing[percent_missing > 0].sort_values()\n",
    "\n",
    "percent_missing"
   ]
  },
  {
   "cell_type": "code",
   "execution_count": 79,
   "metadata": {},
   "outputs": [
    {
     "data": {
      "image/png": "[encoded data removed]",
      "text/plain": [
       "<Figure size 864x576 with 1 Axes>"
      ]
     },
     "metadata": {
      "needs_background": "light"
     },
     "output_type": "display_data"
    }
   ],
   "source": [
    "plt.figure(figsize=(12,8))\n",
    "\n",
    "sns.barplot(x=percent_missing.index,y=percent_missing);\n",
    "plt.xticks(rotation=90)\n",
    "\n",
    "plt.show()"
   ]
  },
  {
   "cell_type": "code",
   "execution_count": 80,
   "metadata": {},
   "outputs": [],
   "source": [
    "df=df.drop(columns=['Fence','Alley','Misc Feature','Pool QC'])\n",
    "\n",
    "# since the missing value is over 80 percent of data, better to drop the column as it has less useful data"
   ]
  },
  {
   "cell_type": "markdown",
   "metadata": {},
   "source": [
    "## EVALUATE AFTER FILL MISSING DATA"
   ]
  },
  {
   "cell_type": "code",
   "execution_count": 81,
   "metadata": {},
   "outputs": [
    {
     "data": {
      "text/plain": [
       "Electrical    0.035273\n",
       "dtype: float64"
      ]
     },
     "execution_count": 81,
     "metadata": {},
     "output_type": "execute_result"
    }
   ],
   "source": [
    "percent_missing = df.isnull().sum() * 100 / len(df)\n",
    "\n",
    "percent_missing = percent_missing[percent_missing > 0].sort_values()\n",
    "\n",
    "percent_missing"
   ]
  },
  {
   "cell_type": "code",
   "execution_count": 82,
   "metadata": {},
   "outputs": [
    {
     "data": {
      "text/plain": [
       "0"
      ]
     },
     "execution_count": 82,
     "metadata": {},
     "output_type": "execute_result"
    }
   ],
   "source": [
    "df['Bsmt Qual'].isnull().sum()"
   ]
  },
  {
   "cell_type": "code",
   "execution_count": 83,
   "metadata": {},
   "outputs": [
    {
     "data": {
      "text/plain": [
       "0"
      ]
     },
     "execution_count": 83,
     "metadata": {},
     "output_type": "execute_result"
    }
   ],
   "source": [
    "df['Fireplace Qu'].isnull().sum()"
   ]
  },
  {
   "cell_type": "code",
   "execution_count": 84,
   "metadata": {},
   "outputs": [
    {
     "data": {
      "text/plain": [
       "0"
      ]
     },
     "execution_count": 84,
     "metadata": {},
     "output_type": "execute_result"
    }
   ],
   "source": [
    "df['Garage Type'].isnull().sum()"
   ]
  },
  {
   "cell_type": "code",
   "execution_count": 85,
   "metadata": {
    "scrolled": true
   },
   "outputs": [
    {
     "name": "stdout",
     "output_type": "stream",
     "text": [
      "<class 'pandas.core.frame.DataFrame'>\n",
      "Int64Index: 2835 entries, 0 to 2835\n",
      "Data columns (total 76 columns):\n",
      " #   Column           Non-Null Count  Dtype  \n",
      "---  ------           --------------  -----  \n",
      " 0   MS SubClass      2835 non-null   int64  \n",
      " 1   MS Zoning        2835 non-null   object \n",
      " 2   Lot Frontage     2835 non-null   float64\n",
      " 3   Lot Area         2835 non-null   int64  \n",
      " 4   Street           2835 non-null   object \n",
      " 5   Lot Shape        2835 non-null   object \n",
      " 6   Land Contour     2835 non-null   object \n",
      " 7   Utilities        2835 non-null   object \n",
      " 8   Lot Config       2835 non-null   object \n",
      " 9   Land Slope       2835 non-null   object \n",
      " 10  Neighborhood     2835 non-null   object \n",
      " 11  Condition 1      2835 non-null   object \n",
      " 12  Condition 2      2835 non-null   object \n",
      " 13  Bldg Type        2835 non-null   object \n",
      " 14  House Style      2835 non-null   object \n",
      " 15  Overall Qual     2835 non-null   int64  \n",
      " 16  Overall Cond     2835 non-null   int64  \n",
      " 17  Year Built       2835 non-null   int64  \n",
      " 18  Year Remod/Add   2835 non-null   int64  \n",
      " 19  Roof Style       2835 non-null   object \n",
      " 20  Roof Matl        2835 non-null   object \n",
      " 21  Exterior 1st     2835 non-null   object \n",
      " 22  Exterior 2nd     2835 non-null   object \n",
      " 23  Mas Vnr Type     2835 non-null   object \n",
      " 24  Mas Vnr Area     2835 non-null   float64\n",
      " 25  Exter Qual       2835 non-null   object \n",
      " 26  Exter Cond       2835 non-null   object \n",
      " 27  Foundation       2835 non-null   object \n",
      " 28  Bsmt Qual        2835 non-null   object \n",
      " 29  Bsmt Cond        2835 non-null   object \n",
      " 30  Bsmt Exposure    2835 non-null   object \n",
      " 31  BsmtFin Type 1   2835 non-null   object \n",
      " 32  BsmtFin SF 1     2835 non-null   float64\n",
      " 33  BsmtFin Type 2   2835 non-null   object \n",
      " 34  BsmtFin SF 2     2835 non-null   float64\n",
      " 35  Bsmt Unf SF      2835 non-null   float64\n",
      " 36  Total Bsmt SF    2835 non-null   float64\n",
      " 37  Heating          2835 non-null   object \n",
      " 38  Heating QC       2835 non-null   object \n",
      " 39  Central Air      2835 non-null   object \n",
      " 40  Electrical       2834 non-null   object \n",
      " 41  1st Flr SF       2835 non-null   int64  \n",
      " 42  2nd Flr SF       2835 non-null   int64  \n",
      " 43  Low Qual Fin SF  2835 non-null   int64  \n",
      " 44  Gr Liv Area      2835 non-null   int64  \n",
      " 45  Bsmt Full Bath   2835 non-null   float64\n",
      " 46  Bsmt Half Bath   2835 non-null   float64\n",
      " 47  Full Bath        2835 non-null   int64  \n",
      " 48  Half Bath        2835 non-null   int64  \n",
      " 49  Bedroom AbvGr    2835 non-null   int64  \n",
      " 50  Kitchen AbvGr    2835 non-null   int64  \n",
      " 51  Kitchen Qual     2835 non-null   object \n",
      " 52  TotRms AbvGrd    2835 non-null   int64  \n",
      " 53  Functional       2835 non-null   object \n",
      " 54  Fireplaces       2835 non-null   int64  \n",
      " 55  Fireplace Qu     2835 non-null   object \n",
      " 56  Garage Type      2835 non-null   object \n",
      " 57  Garage Yr Blt    2835 non-null   float64\n",
      " 58  Garage Finish    2835 non-null   object \n",
      " 59  Garage Cars      2835 non-null   float64\n",
      " 60  Garage Area      2835 non-null   float64\n",
      " 61  Garage Qual      2835 non-null   object \n",
      " 62  Garage Cond      2835 non-null   object \n",
      " 63  Paved Drive      2835 non-null   object \n",
      " 64  Wood Deck SF     2835 non-null   int64  \n",
      " 65  Open Porch SF    2835 non-null   int64  \n",
      " 66  Enclosed Porch   2835 non-null   int64  \n",
      " 67  3Ssn Porch       2835 non-null   int64  \n",
      " 68  Screen Porch     2835 non-null   int64  \n",
      " 69  Pool Area        2835 non-null   int64  \n",
      " 70  Misc Val         2835 non-null   int64  \n",
      " 71  Mo Sold          2835 non-null   int64  \n",
      " 72  Yr Sold          2835 non-null   int64  \n",
      " 73  Sale Type        2835 non-null   object \n",
      " 74  Sale Condition   2835 non-null   object \n",
      " 75  SalePrice        2835 non-null   int64  \n",
      "dtypes: float64(11), int64(26), object(39)\n",
      "memory usage: 1.7+ MB\n"
     ]
    }
   ],
   "source": [
    "df.info()\n",
    "\n",
    "# all the missing data in the dataset had been filled"
   ]
  },
  {
   "cell_type": "markdown",
   "metadata": {},
   "source": [
    "## save no missing value data set"
   ]
  },
  {
   "cell_type": "code",
   "execution_count": 86,
   "metadata": {},
   "outputs": [],
   "source": [
    "df.to_csv('Ames_Housing_No_Missing_Data only.csv',index=False)"
   ]
  }
 ],
 "metadata": {
  "kernelspec": {
   "display_name": "Python 3",
   "language": "python",
   "name": "python3"
  },
  "language_info": {
   "codemirror_mode": {
    "name": "ipython",
    "version": 3
   },
   "file_extension": ".py",
   "mimetype": "text/x-python",
   "name": "python",
   "nbconvert_exporter": "python",
   "pygments_lexer": "ipython3",
   "version": "3.8.5"
  }
 },
 "nbformat": 4,
 "nbformat_minor": 4
}
