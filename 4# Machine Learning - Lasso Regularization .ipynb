{
 "cells": [
  {
   "cell_type": "markdown",
   "metadata": {},
   "source": [
    "## REGULARIZATION - LASSO (L1)"
   ]
  },
  {
   "cell_type": "code",
   "execution_count": 3,
   "metadata": {},
   "outputs": [],
   "source": [
    "import pandas as pd\n",
    "import numpy as np\n",
    "import matplotlib.pyplot as plt\n",
    "import seaborn as sns"
   ]
  },
  {
   "cell_type": "code",
   "execution_count": 4,
   "metadata": {},
   "outputs": [],
   "source": [
    "df=pd.read_csv('Ames_Housing_Clean_Data_no_remove_skew.csv')"
   ]
  },
  {
   "cell_type": "code",
   "execution_count": 5,
   "metadata": {},
   "outputs": [
    {
     "data": {
      "text/html": [
       "<div>\n",
       "<style scoped>\n",
       "    .dataframe tbody tr th:only-of-type {\n",
       "        vertical-align: middle;\n",
       "    }\n",
       "\n",
       "    .dataframe tbody tr th {\n",
       "        vertical-align: top;\n",
       "    }\n",
       "\n",
       "    .dataframe thead th {\n",
       "        text-align: right;\n",
       "    }\n",
       "</style>\n",
       "<table border=\"1\" class=\"dataframe\">\n",
       "  <thead>\n",
       "    <tr style=\"text-align: right;\">\n",
       "      <th></th>\n",
       "      <th>Lot Area</th>\n",
       "      <th>Year Built</th>\n",
       "      <th>Year Remod/Add</th>\n",
       "      <th>Mas Vnr Area</th>\n",
       "      <th>BsmtFin SF 1</th>\n",
       "      <th>Total Bsmt SF</th>\n",
       "      <th>2nd Flr SF</th>\n",
       "      <th>Gr Liv Area</th>\n",
       "      <th>Garage Yr Blt</th>\n",
       "      <th>Garage Area</th>\n",
       "      <th>Wood Deck SF</th>\n",
       "      <th>Open Porch SF</th>\n",
       "      <th>Screen Porch</th>\n",
       "      <th>SalePrice</th>\n",
       "    </tr>\n",
       "  </thead>\n",
       "  <tbody>\n",
       "    <tr>\n",
       "      <th>2830</th>\n",
       "      <td>7937</td>\n",
       "      <td>1984</td>\n",
       "      <td>1984</td>\n",
       "      <td>0.0</td>\n",
       "      <td>819.0</td>\n",
       "      <td>1003.0</td>\n",
       "      <td>0</td>\n",
       "      <td>1003</td>\n",
       "      <td>1984.0</td>\n",
       "      <td>588.0</td>\n",
       "      <td>120</td>\n",
       "      <td>0</td>\n",
       "      <td>0</td>\n",
       "      <td>142500</td>\n",
       "    </tr>\n",
       "    <tr>\n",
       "      <th>2831</th>\n",
       "      <td>8885</td>\n",
       "      <td>1983</td>\n",
       "      <td>1983</td>\n",
       "      <td>0.0</td>\n",
       "      <td>301.0</td>\n",
       "      <td>864.0</td>\n",
       "      <td>0</td>\n",
       "      <td>902</td>\n",
       "      <td>1983.0</td>\n",
       "      <td>484.0</td>\n",
       "      <td>164</td>\n",
       "      <td>0</td>\n",
       "      <td>0</td>\n",
       "      <td>131000</td>\n",
       "    </tr>\n",
       "    <tr>\n",
       "      <th>2832</th>\n",
       "      <td>10441</td>\n",
       "      <td>1992</td>\n",
       "      <td>1992</td>\n",
       "      <td>0.0</td>\n",
       "      <td>337.0</td>\n",
       "      <td>912.0</td>\n",
       "      <td>0</td>\n",
       "      <td>970</td>\n",
       "      <td>0.0</td>\n",
       "      <td>0.0</td>\n",
       "      <td>80</td>\n",
       "      <td>32</td>\n",
       "      <td>0</td>\n",
       "      <td>132000</td>\n",
       "    </tr>\n",
       "    <tr>\n",
       "      <th>2833</th>\n",
       "      <td>10010</td>\n",
       "      <td>1974</td>\n",
       "      <td>1975</td>\n",
       "      <td>0.0</td>\n",
       "      <td>1071.0</td>\n",
       "      <td>1389.0</td>\n",
       "      <td>0</td>\n",
       "      <td>1389</td>\n",
       "      <td>1975.0</td>\n",
       "      <td>418.0</td>\n",
       "      <td>240</td>\n",
       "      <td>38</td>\n",
       "      <td>0</td>\n",
       "      <td>170000</td>\n",
       "    </tr>\n",
       "    <tr>\n",
       "      <th>2834</th>\n",
       "      <td>9627</td>\n",
       "      <td>1993</td>\n",
       "      <td>1994</td>\n",
       "      <td>94.0</td>\n",
       "      <td>758.0</td>\n",
       "      <td>996.0</td>\n",
       "      <td>1004</td>\n",
       "      <td>2000</td>\n",
       "      <td>1993.0</td>\n",
       "      <td>650.0</td>\n",
       "      <td>190</td>\n",
       "      <td>48</td>\n",
       "      <td>0</td>\n",
       "      <td>188000</td>\n",
       "    </tr>\n",
       "  </tbody>\n",
       "</table>\n",
       "</div>"
      ],
      "text/plain": [
       "      Lot Area  Year Built  Year Remod/Add  Mas Vnr Area  BsmtFin SF 1  \\\n",
       "2830      7937        1984            1984           0.0         819.0   \n",
       "2831      8885        1983            1983           0.0         301.0   \n",
       "2832     10441        1992            1992           0.0         337.0   \n",
       "2833     10010        1974            1975           0.0        1071.0   \n",
       "2834      9627        1993            1994          94.0         758.0   \n",
       "\n",
       "      Total Bsmt SF  2nd Flr SF  Gr Liv Area  Garage Yr Blt  Garage Area  \\\n",
       "2830         1003.0           0         1003         1984.0        588.0   \n",
       "2831          864.0           0          902         1983.0        484.0   \n",
       "2832          912.0           0          970            0.0          0.0   \n",
       "2833         1389.0           0         1389         1975.0        418.0   \n",
       "2834          996.0        1004         2000         1993.0        650.0   \n",
       "\n",
       "      Wood Deck SF  Open Porch SF  Screen Porch  SalePrice  \n",
       "2830           120              0             0     142500  \n",
       "2831           164              0             0     131000  \n",
       "2832            80             32             0     132000  \n",
       "2833           240             38             0     170000  \n",
       "2834           190             48             0     188000  "
      ]
     },
     "execution_count": 5,
     "metadata": {},
     "output_type": "execute_result"
    }
   ],
   "source": [
    "df[['Lot Area','Year Built','Year Remod/Add','Mas Vnr Area','BsmtFin SF 1','Total Bsmt SF','2nd Flr SF','Gr Liv Area','Garage Yr Blt','Garage Area','Wood Deck SF','Open Porch SF','Screen Porch','SalePrice']].tail()"
   ]
  },
  {
   "cell_type": "markdown",
   "metadata": {},
   "source": [
    "## adjusting skewed feature"
   ]
  },
  {
   "cell_type": "code",
   "execution_count": 6,
   "metadata": {},
   "outputs": [
    {
     "data": {
      "image/png": "[encoded data removed]",
      "text/plain": [
       "<Figure size 360x360 with 1 Axes>"
      ]
     },
     "metadata": {
      "needs_background": "light"
     },
     "output_type": "display_data"
    }
   ],
   "source": [
    "sns.displot(data=df,x='SalePrice',kde=True);"
   ]
  },
  {
   "cell_type": "code",
   "execution_count": 7,
   "metadata": {},
   "outputs": [
    {
     "data": {
      "text/plain": [
       "1.226112963757501"
      ]
     },
     "execution_count": 7,
     "metadata": {},
     "output_type": "execute_result"
    }
   ],
   "source": [
    "df['SalePrice'].skew()"
   ]
  },
  {
   "cell_type": "code",
   "execution_count": 8,
   "metadata": {},
   "outputs": [],
   "source": [
    "df['SalePrice']=np.sqrt(df['SalePrice'])"
   ]
  },
  {
   "cell_type": "code",
   "execution_count": 9,
   "metadata": {},
   "outputs": [
    {
     "data": {
      "image/png": "[encoded data removed]",
      "text/plain": [
       "<Figure size 360x360 with 1 Axes>"
      ]
     },
     "metadata": {
      "needs_background": "light"
     },
     "output_type": "display_data"
    }
   ],
   "source": [
    "sns.displot(data=df,x='SalePrice',kde=True);"
   ]
  },
  {
   "cell_type": "code",
   "execution_count": 10,
   "metadata": {
    "scrolled": true
   },
   "outputs": [
    {
     "data": {
      "image/png": "[encoded data removed]",
      "text/plain": [
       "<Figure size 432x288 with 1 Axes>"
      ]
     },
     "metadata": {
      "needs_background": "light"
     },
     "output_type": "display_data"
    }
   ],
   "source": [
    "sns.rugplot(x='SalePrice',data=df,height=0.5);\n",
    "\n",
    "# observe if there is any outliers within SalePrice itself so we had some information on which dataset to look on\n",
    "# sale price above 700000 seems like an outliers"
   ]
  },
  {
   "cell_type": "code",
   "execution_count": 11,
   "metadata": {},
   "outputs": [],
   "source": [
    "x=df.drop(['SalePrice'],axis=1)\n",
    "y=df['SalePrice']"
   ]
  },
  {
   "cell_type": "code",
   "execution_count": 12,
   "metadata": {},
   "outputs": [],
   "source": [
    "from sklearn.model_selection import train_test_split"
   ]
  },
  {
   "cell_type": "code",
   "execution_count": 13,
   "metadata": {},
   "outputs": [],
   "source": [
    "x_train,x_test,y_train,y_test=train_test_split(x,y,test_size=0.3,random_state=101)"
   ]
  },
  {
   "cell_type": "code",
   "execution_count": 14,
   "metadata": {},
   "outputs": [
    {
     "data": {
      "text/html": [
       "<div>\n",
       "<style scoped>\n",
       "    .dataframe tbody tr th:only-of-type {\n",
       "        vertical-align: middle;\n",
       "    }\n",
       "\n",
       "    .dataframe tbody tr th {\n",
       "        vertical-align: top;\n",
       "    }\n",
       "\n",
       "    .dataframe thead th {\n",
       "        text-align: right;\n",
       "    }\n",
       "</style>\n",
       "<table border=\"1\" class=\"dataframe\">\n",
       "  <thead>\n",
       "    <tr style=\"text-align: right;\">\n",
       "      <th></th>\n",
       "      <th>Lot Frontage</th>\n",
       "      <th>Lot Area</th>\n",
       "      <th>Lot Shape</th>\n",
       "      <th>Land Slope</th>\n",
       "      <th>Overall Qual</th>\n",
       "      <th>Overall Cond</th>\n",
       "      <th>Year Built</th>\n",
       "      <th>Year Remod/Add</th>\n",
       "      <th>Mas Vnr Area</th>\n",
       "      <th>Exter Qual</th>\n",
       "      <th>...</th>\n",
       "      <th>SaleType_ConLw</th>\n",
       "      <th>SaleType_New</th>\n",
       "      <th>SaleType_Oth</th>\n",
       "      <th>SaleType_VWD</th>\n",
       "      <th>SaleType_WD</th>\n",
       "      <th>SaleCond_AdjLand</th>\n",
       "      <th>SaleCond_Alloca</th>\n",
       "      <th>SaleCond_Family</th>\n",
       "      <th>SaleCond_Normal</th>\n",
       "      <th>SaleCond_Partial</th>\n",
       "    </tr>\n",
       "  </thead>\n",
       "  <tbody>\n",
       "    <tr>\n",
       "      <th>2042</th>\n",
       "      <td>78.000000</td>\n",
       "      <td>9317</td>\n",
       "      <td>1</td>\n",
       "      <td>0</td>\n",
       "      <td>6</td>\n",
       "      <td>5</td>\n",
       "      <td>2006</td>\n",
       "      <td>2006</td>\n",
       "      <td>0.0</td>\n",
       "      <td>1</td>\n",
       "      <td>...</td>\n",
       "      <td>0</td>\n",
       "      <td>0</td>\n",
       "      <td>0</td>\n",
       "      <td>0</td>\n",
       "      <td>1</td>\n",
       "      <td>0</td>\n",
       "      <td>0</td>\n",
       "      <td>0</td>\n",
       "      <td>1</td>\n",
       "      <td>0</td>\n",
       "    </tr>\n",
       "    <tr>\n",
       "      <th>1920</th>\n",
       "      <td>40.000000</td>\n",
       "      <td>3880</td>\n",
       "      <td>0</td>\n",
       "      <td>0</td>\n",
       "      <td>5</td>\n",
       "      <td>9</td>\n",
       "      <td>1945</td>\n",
       "      <td>1997</td>\n",
       "      <td>0.0</td>\n",
       "      <td>2</td>\n",
       "      <td>...</td>\n",
       "      <td>0</td>\n",
       "      <td>0</td>\n",
       "      <td>0</td>\n",
       "      <td>0</td>\n",
       "      <td>1</td>\n",
       "      <td>0</td>\n",
       "      <td>0</td>\n",
       "      <td>0</td>\n",
       "      <td>1</td>\n",
       "      <td>0</td>\n",
       "    </tr>\n",
       "    <tr>\n",
       "      <th>938</th>\n",
       "      <td>78.870370</td>\n",
       "      <td>6853</td>\n",
       "      <td>1</td>\n",
       "      <td>0</td>\n",
       "      <td>8</td>\n",
       "      <td>5</td>\n",
       "      <td>2001</td>\n",
       "      <td>2002</td>\n",
       "      <td>136.0</td>\n",
       "      <td>1</td>\n",
       "      <td>...</td>\n",
       "      <td>0</td>\n",
       "      <td>0</td>\n",
       "      <td>0</td>\n",
       "      <td>0</td>\n",
       "      <td>1</td>\n",
       "      <td>0</td>\n",
       "      <td>0</td>\n",
       "      <td>0</td>\n",
       "      <td>1</td>\n",
       "      <td>0</td>\n",
       "    </tr>\n",
       "    <tr>\n",
       "      <th>824</th>\n",
       "      <td>67.000000</td>\n",
       "      <td>16285</td>\n",
       "      <td>2</td>\n",
       "      <td>0</td>\n",
       "      <td>7</td>\n",
       "      <td>5</td>\n",
       "      <td>2001</td>\n",
       "      <td>2002</td>\n",
       "      <td>0.0</td>\n",
       "      <td>1</td>\n",
       "      <td>...</td>\n",
       "      <td>0</td>\n",
       "      <td>0</td>\n",
       "      <td>0</td>\n",
       "      <td>0</td>\n",
       "      <td>1</td>\n",
       "      <td>0</td>\n",
       "      <td>0</td>\n",
       "      <td>0</td>\n",
       "      <td>1</td>\n",
       "      <td>0</td>\n",
       "    </tr>\n",
       "    <tr>\n",
       "      <th>90</th>\n",
       "      <td>25.000000</td>\n",
       "      <td>4835</td>\n",
       "      <td>1</td>\n",
       "      <td>0</td>\n",
       "      <td>7</td>\n",
       "      <td>5</td>\n",
       "      <td>2004</td>\n",
       "      <td>2005</td>\n",
       "      <td>0.0</td>\n",
       "      <td>1</td>\n",
       "      <td>...</td>\n",
       "      <td>0</td>\n",
       "      <td>0</td>\n",
       "      <td>0</td>\n",
       "      <td>0</td>\n",
       "      <td>1</td>\n",
       "      <td>0</td>\n",
       "      <td>0</td>\n",
       "      <td>0</td>\n",
       "      <td>1</td>\n",
       "      <td>0</td>\n",
       "    </tr>\n",
       "    <tr>\n",
       "      <th>...</th>\n",
       "      <td>...</td>\n",
       "      <td>...</td>\n",
       "      <td>...</td>\n",
       "      <td>...</td>\n",
       "      <td>...</td>\n",
       "      <td>...</td>\n",
       "      <td>...</td>\n",
       "      <td>...</td>\n",
       "      <td>...</td>\n",
       "      <td>...</td>\n",
       "      <td>...</td>\n",
       "      <td>...</td>\n",
       "      <td>...</td>\n",
       "      <td>...</td>\n",
       "      <td>...</td>\n",
       "      <td>...</td>\n",
       "      <td>...</td>\n",
       "      <td>...</td>\n",
       "      <td>...</td>\n",
       "      <td>...</td>\n",
       "      <td>...</td>\n",
       "    </tr>\n",
       "    <tr>\n",
       "      <th>599</th>\n",
       "      <td>80.000000</td>\n",
       "      <td>9600</td>\n",
       "      <td>0</td>\n",
       "      <td>0</td>\n",
       "      <td>5</td>\n",
       "      <td>7</td>\n",
       "      <td>1950</td>\n",
       "      <td>2007</td>\n",
       "      <td>0.0</td>\n",
       "      <td>1</td>\n",
       "      <td>...</td>\n",
       "      <td>0</td>\n",
       "      <td>0</td>\n",
       "      <td>0</td>\n",
       "      <td>0</td>\n",
       "      <td>1</td>\n",
       "      <td>0</td>\n",
       "      <td>0</td>\n",
       "      <td>0</td>\n",
       "      <td>1</td>\n",
       "      <td>0</td>\n",
       "    </tr>\n",
       "    <tr>\n",
       "      <th>1599</th>\n",
       "      <td>80.000000</td>\n",
       "      <td>11584</td>\n",
       "      <td>0</td>\n",
       "      <td>0</td>\n",
       "      <td>7</td>\n",
       "      <td>6</td>\n",
       "      <td>1979</td>\n",
       "      <td>1979</td>\n",
       "      <td>96.0</td>\n",
       "      <td>2</td>\n",
       "      <td>...</td>\n",
       "      <td>0</td>\n",
       "      <td>0</td>\n",
       "      <td>0</td>\n",
       "      <td>0</td>\n",
       "      <td>1</td>\n",
       "      <td>0</td>\n",
       "      <td>0</td>\n",
       "      <td>0</td>\n",
       "      <td>1</td>\n",
       "      <td>0</td>\n",
       "    </tr>\n",
       "    <tr>\n",
       "      <th>1361</th>\n",
       "      <td>85.176471</td>\n",
       "      <td>2887</td>\n",
       "      <td>0</td>\n",
       "      <td>0</td>\n",
       "      <td>6</td>\n",
       "      <td>5</td>\n",
       "      <td>1996</td>\n",
       "      <td>1997</td>\n",
       "      <td>0.0</td>\n",
       "      <td>2</td>\n",
       "      <td>...</td>\n",
       "      <td>0</td>\n",
       "      <td>0</td>\n",
       "      <td>0</td>\n",
       "      <td>0</td>\n",
       "      <td>1</td>\n",
       "      <td>0</td>\n",
       "      <td>0</td>\n",
       "      <td>0</td>\n",
       "      <td>1</td>\n",
       "      <td>0</td>\n",
       "    </tr>\n",
       "    <tr>\n",
       "      <th>1547</th>\n",
       "      <td>21.000000</td>\n",
       "      <td>1596</td>\n",
       "      <td>0</td>\n",
       "      <td>0</td>\n",
       "      <td>4</td>\n",
       "      <td>6</td>\n",
       "      <td>1973</td>\n",
       "      <td>1973</td>\n",
       "      <td>0.0</td>\n",
       "      <td>2</td>\n",
       "      <td>...</td>\n",
       "      <td>0</td>\n",
       "      <td>0</td>\n",
       "      <td>0</td>\n",
       "      <td>0</td>\n",
       "      <td>1</td>\n",
       "      <td>0</td>\n",
       "      <td>0</td>\n",
       "      <td>0</td>\n",
       "      <td>1</td>\n",
       "      <td>0</td>\n",
       "    </tr>\n",
       "    <tr>\n",
       "      <th>863</th>\n",
       "      <td>75.000000</td>\n",
       "      <td>7950</td>\n",
       "      <td>1</td>\n",
       "      <td>0</td>\n",
       "      <td>6</td>\n",
       "      <td>6</td>\n",
       "      <td>1977</td>\n",
       "      <td>1977</td>\n",
       "      <td>140.0</td>\n",
       "      <td>2</td>\n",
       "      <td>...</td>\n",
       "      <td>0</td>\n",
       "      <td>0</td>\n",
       "      <td>0</td>\n",
       "      <td>0</td>\n",
       "      <td>1</td>\n",
       "      <td>0</td>\n",
       "      <td>0</td>\n",
       "      <td>0</td>\n",
       "      <td>1</td>\n",
       "      <td>0</td>\n",
       "    </tr>\n",
       "  </tbody>\n",
       "</table>\n",
       "<p>1984 rows × 232 columns</p>\n",
       "</div>"
      ],
      "text/plain": [
       "      Lot Frontage  Lot Area  Lot Shape  Land Slope  Overall Qual  \\\n",
       "2042     78.000000      9317          1           0             6   \n",
       "1920     40.000000      3880          0           0             5   \n",
       "938      78.870370      6853          1           0             8   \n",
       "824      67.000000     16285          2           0             7   \n",
       "90       25.000000      4835          1           0             7   \n",
       "...            ...       ...        ...         ...           ...   \n",
       "599      80.000000      9600          0           0             5   \n",
       "1599     80.000000     11584          0           0             7   \n",
       "1361     85.176471      2887          0           0             6   \n",
       "1547     21.000000      1596          0           0             4   \n",
       "863      75.000000      7950          1           0             6   \n",
       "\n",
       "      Overall Cond  Year Built  Year Remod/Add  Mas Vnr Area  Exter Qual  ...  \\\n",
       "2042             5        2006            2006           0.0           1  ...   \n",
       "1920             9        1945            1997           0.0           2  ...   \n",
       "938              5        2001            2002         136.0           1  ...   \n",
       "824              5        2001            2002           0.0           1  ...   \n",
       "90               5        2004            2005           0.0           1  ...   \n",
       "...            ...         ...             ...           ...         ...  ...   \n",
       "599              7        1950            2007           0.0           1  ...   \n",
       "1599             6        1979            1979          96.0           2  ...   \n",
       "1361             5        1996            1997           0.0           2  ...   \n",
       "1547             6        1973            1973           0.0           2  ...   \n",
       "863              6        1977            1977         140.0           2  ...   \n",
       "\n",
       "      SaleType_ConLw  SaleType_New  SaleType_Oth  SaleType_VWD  SaleType_WD   \\\n",
       "2042               0             0             0             0             1   \n",
       "1920               0             0             0             0             1   \n",
       "938                0             0             0             0             1   \n",
       "824                0             0             0             0             1   \n",
       "90                 0             0             0             0             1   \n",
       "...              ...           ...           ...           ...           ...   \n",
       "599                0             0             0             0             1   \n",
       "1599               0             0             0             0             1   \n",
       "1361               0             0             0             0             1   \n",
       "1547               0             0             0             0             1   \n",
       "863                0             0             0             0             1   \n",
       "\n",
       "      SaleCond_AdjLand  SaleCond_Alloca  SaleCond_Family  SaleCond_Normal  \\\n",
       "2042                 0                0                0                1   \n",
       "1920                 0                0                0                1   \n",
       "938                  0                0                0                1   \n",
       "824                  0                0                0                1   \n",
       "90                   0                0                0                1   \n",
       "...                ...              ...              ...              ...   \n",
       "599                  0                0                0                1   \n",
       "1599                 0                0                0                1   \n",
       "1361                 0                0                0                1   \n",
       "1547                 0                0                0                1   \n",
       "863                  0                0                0                1   \n",
       "\n",
       "      SaleCond_Partial  \n",
       "2042                 0  \n",
       "1920                 0  \n",
       "938                  0  \n",
       "824                  0  \n",
       "90                   0  \n",
       "...                ...  \n",
       "599                  0  \n",
       "1599                 0  \n",
       "1361                 0  \n",
       "1547                 0  \n",
       "863                  0  \n",
       "\n",
       "[1984 rows x 232 columns]"
      ]
     },
     "execution_count": 14,
     "metadata": {},
     "output_type": "execute_result"
    }
   ],
   "source": [
    "x_train"
   ]
  },
  {
   "cell_type": "code",
   "execution_count": 15,
   "metadata": {},
   "outputs": [
    {
     "data": {
      "text/plain": [
       "1984"
      ]
     },
     "execution_count": 15,
     "metadata": {},
     "output_type": "execute_result"
    }
   ],
   "source": [
    "len(x_train)"
   ]
  },
  {
   "cell_type": "code",
   "execution_count": 16,
   "metadata": {
    "scrolled": true
   },
   "outputs": [
    {
     "data": {
      "text/plain": [
       "851"
      ]
     },
     "execution_count": 16,
     "metadata": {},
     "output_type": "execute_result"
    }
   ],
   "source": [
    "len(x_test)"
   ]
  },
  {
   "cell_type": "markdown",
   "metadata": {},
   "source": [
    "**Create an Estimator**"
   ]
  },
  {
   "cell_type": "code",
   "execution_count": 17,
   "metadata": {},
   "outputs": [],
   "source": [
    "from sklearn.linear_model import LinearRegression"
   ]
  },
  {
   "cell_type": "code",
   "execution_count": 18,
   "metadata": {},
   "outputs": [],
   "source": [
    "model=LinearRegression()"
   ]
  },
  {
   "cell_type": "code",
   "execution_count": 19,
   "metadata": {},
   "outputs": [
    {
     "data": {
      "text/plain": [
       "LinearRegression()"
      ]
     },
     "execution_count": 19,
     "metadata": {},
     "output_type": "execute_result"
    }
   ],
   "source": [
    "model.fit(x_train,y_train)"
   ]
  },
  {
   "cell_type": "code",
   "execution_count": 20,
   "metadata": {},
   "outputs": [],
   "source": [
    "test_pred=model.predict(x_test)"
   ]
  },
  {
   "cell_type": "code",
   "execution_count": 21,
   "metadata": {},
   "outputs": [
    {
     "data": {
      "text/plain": [
       "1234    398.748041\n",
       "1249    396.862697\n",
       "1871    339.116499\n",
       "80      334.664011\n",
       "917     273.861279\n",
       "           ...    \n",
       "759     287.228132\n",
       "660     344.818793\n",
       "2118    334.664011\n",
       "1067    500.000000\n",
       "38      539.389470\n",
       "Name: SalePrice, Length: 851, dtype: float64"
      ]
     },
     "execution_count": 21,
     "metadata": {},
     "output_type": "execute_result"
    }
   ],
   "source": [
    "y_test"
   ]
  },
  {
   "cell_type": "code",
   "execution_count": 22,
   "metadata": {
    "scrolled": true
   },
   "outputs": [
    {
     "data": {
      "text/plain": [
       "array([406.40473058, 392.06261863, 345.78370682, 346.64430965,\n",
       "       260.89633669, 394.74553435, 546.8262674 , 411.79957119,\n",
       "       479.85013647, 366.4028896 , 422.45122315, 507.20743283,\n",
       "       339.46542622, 362.07590764, 400.1377628 , 309.54701601,\n",
       "       650.38065961, 275.93793671, 359.42535348, 372.73252216,\n",
       "       487.78057027, 530.28977025, 367.77412139, 401.9467057 ,\n",
       "       294.10734644, 484.05769457, 556.315236  , 314.57886446,\n",
       "       412.67199843, 405.32754968, 379.68482793, 319.99693094,\n",
       "       427.65686959, 369.51232194, 388.82069418, 474.76195519,\n",
       "       604.33382899, 408.86016757, 284.071697  , 298.60262487,\n",
       "       285.26309192, 302.31937172, 422.4736446 , 481.12301053,\n",
       "       516.98408259, 450.04020476, 524.15420961, 374.60150601,\n",
       "       354.87512181, 363.56086669, 496.66002734, 410.57095311,\n",
       "       335.12530591, 388.15095671, 497.80256515, 439.22906782,\n",
       "       291.60164626, 503.82440328, 467.030768  , 336.19571378,\n",
       "       416.17839809, 405.08972567, 358.87019063, 369.84845689,\n",
       "       402.272332  , 552.39171459, 293.26454812, 472.26218295,\n",
       "       365.69774039, 343.45005112, 363.4870186 , 341.32119907,\n",
       "       593.36314072, 368.86605776, 609.58312247, 374.10021615,\n",
       "       665.90993704, 302.51845604, 493.55334384, 385.41628081,\n",
       "       481.35146861, 274.29518641, 468.45106496, 557.75501699,\n",
       "       411.7285181 , 527.00241254, 424.9998003 , 491.18987633,\n",
       "       348.97448699, 426.11164615, 485.44297636, 430.60659273,\n",
       "       462.76502723, 294.34840579, 418.08342405, 275.42559751,\n",
       "       348.17219731, 504.74689391, 447.36501788, 456.25080795,\n",
       "       444.19432928, 334.87811818, 383.62677364, 478.27393383,\n",
       "       389.25581841, 478.61733642, 412.84961017, 376.34317609,\n",
       "       431.83243738, 354.52071296, 421.07671579, 439.92492875,\n",
       "       283.61152202, 489.89758386, 407.37704692, 446.72240074,\n",
       "       397.96555424, 380.81937051, 366.01942087, 443.44561035,\n",
       "       499.55496127, 321.84135245, 361.09732012, 577.39305451,\n",
       "       371.4992422 , 448.72424605, 481.71288287, 390.90843035,\n",
       "       477.61512818, 376.03885061, 382.07526629, 396.25279737,\n",
       "       369.41672884, 566.7791614 , 370.78935632, 415.78956786,\n",
       "       474.35336884, 330.76719264, 530.26445264, 362.51007474,\n",
       "       311.89049089, 479.40198944, 338.88044268, 317.56764785,\n",
       "       532.63011018, 461.99267218, 405.95582842, 383.48979354,\n",
       "       368.01716843, 371.58205911, 513.29161985, 443.26476192,\n",
       "       378.47434175, 351.97954838, 401.68893655, 397.35520997,\n",
       "       320.69001672, 288.54872835, 338.55566526, 417.84767348,\n",
       "       402.43289198, 565.76645083, 338.44720383, 371.96072678,\n",
       "       390.32700144, 520.31877622, 351.74369376, 544.2835431 ,\n",
       "       314.55010077, 417.6480503 , 387.17080722, 482.38317205,\n",
       "       447.0854905 , 465.73276078, 555.37663485, 244.26411643,\n",
       "       356.16830593, 369.03597403, 468.15231158, 443.88393248,\n",
       "       411.67757968, 546.88189898, 380.36897426, 362.69219337,\n",
       "       330.83599043, 360.14027895, 374.33919813, 363.94996679,\n",
       "       379.59310771, 461.33781316, 358.63011975, 441.53039798,\n",
       "       374.65298057, 477.99770781, 443.35706417, 448.38286709,\n",
       "       359.40351436, 289.3907834 , 396.01116031, 368.57427374,\n",
       "       334.67674978, 481.45397451, 487.03834386, 401.65325508,\n",
       "       373.33904707, 362.21259288, 526.60913776, 531.65757326,\n",
       "       345.09167901, 418.31933253, 409.77240059, 406.31606524,\n",
       "       375.90151771, 414.44444584, 382.51836665, 451.88143042,\n",
       "       421.53324628, 375.69795372, 433.26145802, 458.40775713,\n",
       "       390.53764006, 441.47023842, 330.7398498 , 326.39596679,\n",
       "       453.04440727, 450.97573558, 359.87050802, 399.98799769,\n",
       "       403.92245618, 458.40946493, 574.37736895, 411.83627723,\n",
       "       448.86668174, 360.61852189, 461.0010814 , 315.0277624 ,\n",
       "       393.86513482, 515.24906199, 397.80607101, 420.52154028,\n",
       "       464.55650151, 482.937127  , 507.17247734, 344.88255498,\n",
       "       348.84252555, 625.81122464, 327.98319012, 350.28238579,\n",
       "       559.16789045, 385.49623803, 328.19509887, 499.9365178 ,\n",
       "       320.56902811, 448.66295626, 500.03084657, 580.32016202,\n",
       "       624.5307601 , 443.73517031, 382.53217111, 482.5205468 ,\n",
       "       488.78644893, 610.65352337, 484.15875236, 480.64951152,\n",
       "       307.9669645 , 304.86439527, 377.39335531, 306.24903599,\n",
       "       384.86232251, 332.4091525 , 388.60011753, 472.90608256,\n",
       "       410.74856861, 405.02060116, 607.87791859, 373.06152794,\n",
       "       510.61033836, 475.98248478, 329.12998847, 543.24860627,\n",
       "       525.34897567, 398.0171104 , 483.68116705, 429.31149286,\n",
       "       434.28041688, 396.51080654, 379.17391228, 370.03529513,\n",
       "       326.33775882, 393.2543672 , 258.96805462, 540.01724645,\n",
       "       370.86519316, 389.20042235, 361.76154792, 393.92050448,\n",
       "       478.46574155, 559.58631665, 530.10306868, 481.45299175,\n",
       "       442.09946036, 366.14088494, 480.22280216, 469.2840255 ,\n",
       "       463.0514236 , 538.92326498, 397.87887108, 261.04285802,\n",
       "       339.9748459 , 375.75397648, 357.55599661, 279.59035991,\n",
       "       578.10570073, 431.55329171, 387.67995303, 313.74056778,\n",
       "       304.4031394 , 539.21976106, 407.63210942, 395.05797426,\n",
       "       576.61888451, 352.002759  , 397.11479337, 358.58111104,\n",
       "       493.80463086, 374.64196905, 474.95785038, 412.28918652,\n",
       "       499.39618793, 421.75487997, 324.11474265, 338.38519518,\n",
       "       311.64238366, 572.16515333, 366.32876207, 444.53263818,\n",
       "       361.79663686, 412.28628226, 446.90713233, 486.28558094,\n",
       "       395.92349588, 395.35382168, 380.63712689, 368.77557998,\n",
       "       426.58606667, 364.39112874, 482.13144905, 292.74859874,\n",
       "       339.61425828, 357.1385154 , 353.44007563, 431.65153838,\n",
       "       433.80765915, 465.00815989, 570.25175571, 367.8698535 ,\n",
       "       489.65887539, 380.32939172, 249.4546889 , 371.74140487,\n",
       "       503.24423849, 344.16496179, 496.09763986, 398.3526218 ,\n",
       "       423.10407692, 384.88351746, 399.27465121, 483.11223472,\n",
       "       370.2085865 , 597.80229789, 514.22941209, 366.63002464,\n",
       "       381.46399726, 372.59216644, 464.93106513, 296.26703042,\n",
       "       566.14909859, 441.4752867 , 372.59039186, 481.85262894,\n",
       "       409.88235489, 336.251047  , 442.01992232, 435.59382722,\n",
       "       455.06782528, 375.62018926, 390.17356752, 438.4234395 ,\n",
       "       469.36419499, 414.69587766, 460.81358851, 465.58314989,\n",
       "       269.49420724, 411.71027158, 531.70807879, 363.62613049,\n",
       "       449.55518855, 568.49477565, 334.78252723, 401.26571378,\n",
       "       356.83469272, 342.30260948, 513.32998497, 607.84551636,\n",
       "       390.76201919, 366.95632304, 434.96869557, 436.38811473,\n",
       "       350.86356851, 571.62389846, 380.5856732 , 414.75912308,\n",
       "       434.65291757, 407.04130771, 463.21698072, 346.52992247,\n",
       "       424.63787205, 385.6910046 , 507.95746239, 403.65900091,\n",
       "       480.67948417, 345.56564611, 281.43744915, 335.03665446,\n",
       "       355.30529771, 325.43339859, 433.54208337, 273.58010037,\n",
       "       482.9852842 , 457.88103794, 305.38166758, 423.26888136,\n",
       "       363.48197072, 582.11894879, 363.47240762, 395.82119841,\n",
       "       476.49862013, 390.39001326, 352.19470924, 291.54218093,\n",
       "       407.96545792, 560.11114044, 365.28024271, 384.50205678,\n",
       "       398.43485867, 367.72173911, 390.27962188, 444.79543188,\n",
       "       214.07827782, 366.5146898 , 510.09868622, 335.28553836,\n",
       "       358.63408396, 423.94043896, 536.99780804, 472.17128153,\n",
       "       402.63846421, 536.91563212, 617.48487521, 349.64755522,\n",
       "       366.27785786, 412.51528871, 379.35385055, 276.08015939,\n",
       "       406.63194674, 433.90877133, 473.14898166, 432.92963424,\n",
       "       341.01883014, 541.98456658, 472.1035334 , 393.98399184,\n",
       "       468.60128895, 322.37126338, 358.73885086, 412.9022261 ,\n",
       "       401.45783659, 298.76279703, 322.69251157, 333.08113157,\n",
       "       390.7251077 , 476.37130195, 418.65813117, 408.64682687,\n",
       "       365.81864482, 362.2470276 , 382.21576624, 234.09152426,\n",
       "       459.18550825, 423.84971571, 367.90909033, 440.90023639,\n",
       "       383.07096473, 383.70072376, 287.54174771, 502.04252414,\n",
       "       505.77781832, 358.05703215, 419.58480118, 681.61335531,\n",
       "       519.08727931, 610.8381239 , 384.42651854, 326.62326204,\n",
       "       419.50391462, 374.86512507, 364.21054048, 321.36448674,\n",
       "       473.62461797, 352.81585629, 419.04489219, 351.98568862,\n",
       "       380.5711586 , 440.61623137, 329.77360447, 357.43325329,\n",
       "       365.42715913, 377.13572785, 429.29618395, 505.58959366,\n",
       "       369.84359443, 283.02176395, 403.40966252, 392.0906369 ,\n",
       "       349.80791692, 307.21671968, 471.68911937, 370.15151103,\n",
       "       350.34074657, 435.6645962 , 459.95763016, 449.46002893,\n",
       "       480.59094949, 401.07568912, 370.19242973, 411.79379868,\n",
       "       350.79652537, 501.77708622, 349.29909276, 603.09205961,\n",
       "       362.36253923, 442.0473632 , 393.38511352, 452.52506475,\n",
       "       437.90584358, 569.47646948, 432.62445876, 463.74284347,\n",
       "       366.3547206 , 465.15114635, 394.83150493, 364.72174466,\n",
       "       370.94417113, 380.12983245, 457.36702605, 479.20002962,\n",
       "       454.36263675, 316.47263476, 327.45096224, 422.80823921,\n",
       "       377.49410105, 454.10754727, 371.58046027, 348.87688364,\n",
       "       352.21741104, 355.81873507, 418.54118012, 424.28533737,\n",
       "       568.43658434, 408.96598426, 296.14351053, 368.43281803,\n",
       "       517.50667161, 298.48833437, 337.3750481 , 413.99933078,\n",
       "       437.96027091, 552.76087481, 583.0493255 , 334.23095646,\n",
       "       356.04834668, 393.0636618 , 513.79973347, 283.95121586,\n",
       "       374.66557863, 402.29205166, 427.80071237, 363.68492376,\n",
       "       326.9833177 , 402.53740433, 394.47661846, 369.89261303,\n",
       "       512.34819876, 412.08910992, 523.60139693, 309.96687687,\n",
       "       400.18052988, 582.18285217, 492.00180824, 539.63307483,\n",
       "       394.85999502, 342.20454918, 375.88184098, 446.32502679,\n",
       "       507.691449  , 372.46527029, 429.81527728, 377.04360257,\n",
       "       354.31992854, 419.61079846, 467.14193232, 486.79856042,\n",
       "       364.23543447, 428.66968186, 388.18201629, 373.26033505,\n",
       "       507.4509869 , 405.35931528, 378.49579262, 355.98187485,\n",
       "       451.30343989, 391.15445249, 563.21467203, 360.09171731,\n",
       "       330.87369512, 395.20334344, 377.04605087, 334.65669932,\n",
       "       362.31709054, 299.88866007, 302.51154364, 343.86487895,\n",
       "       443.13957976, 352.56148346, 379.63721864, 451.98948574,\n",
       "       569.98141147, 507.20507194, 398.1131969 , 575.12184267,\n",
       "       439.39634572, 488.72033106, 427.57809022, 270.89133413,\n",
       "       536.60041435, 482.58604881, 540.08340628, 337.29424845,\n",
       "       321.3000155 , 369.02364464, 322.6406998 , 422.80819227,\n",
       "       330.52425463, 369.1758833 , 367.40761759, 529.3744003 ,\n",
       "       330.87781566, 437.04464495, 502.03412427, 530.96189377,\n",
       "       412.33928474, 392.82412541, 342.67266628, 381.97174188,\n",
       "       383.23917289, 417.97100717, 393.39375478, 376.41182092,\n",
       "       451.21738743, 481.35459211, 331.6893155 , 367.05807506,\n",
       "       522.56949978, 322.79964997, 545.69464841, 353.20436441,\n",
       "       354.5810122 , 704.82780867, 564.132012  , 378.47856236,\n",
       "       418.15920415, 458.03668503, 404.5868647 , 180.87445267,\n",
       "       337.5321183 , 408.86741198, 508.04402793, 317.42707241,\n",
       "       484.85594726, 304.11263268, 373.65437006, 484.65876604,\n",
       "       343.88913405, 539.27785239, 433.80360278, 383.73073144,\n",
       "       390.70808237, 407.22085974, 363.91572411, 494.99195061,\n",
       "       382.95195559, 427.790408  , 250.70849081, 348.82303319,\n",
       "       446.35961864, 437.122558  , 415.39475329, 348.47725226,\n",
       "       281.03083852, 436.88922831, 546.74545733, 380.09983725,\n",
       "       355.80657828, 377.63318888, 487.74467685, 392.14019823,\n",
       "       311.08580801, 301.2595727 , 269.86814248, 493.56562988,\n",
       "       338.31510434, 454.8085351 , 454.21559393, 448.4089911 ,\n",
       "       433.05780587, 566.53548823, 363.06419227, 373.93807123,\n",
       "       402.83416045, 454.84585503, 443.72587609, 331.15016868,\n",
       "       410.78972025, 433.69345908, 361.3754777 , 348.84312655,\n",
       "       418.00560173, 451.85986169, 404.4944168 , 448.656634  ,\n",
       "       332.49439154, 606.60846337, 412.64601043, 386.39382114,\n",
       "       394.87836259, 383.87476673, 397.83026348, 413.31836525,\n",
       "       334.51155397, 500.96664822, 623.18856149, 361.21742398,\n",
       "       350.41834782, 566.95925692, 497.44506287, 407.34542044,\n",
       "       346.038233  , 447.35516484, 398.72530746, 584.06240622,\n",
       "       396.25065625, 470.71645016, 358.95399438, 402.10905828,\n",
       "       367.28459698, 321.63453614, 349.51044515, 420.96290533,\n",
       "       375.08052388, 455.61874413, 358.00120599, 561.57014787,\n",
       "       484.80432335, 406.38976694, 305.97602128, 343.73758622,\n",
       "       434.25216393, 483.21347169, 536.84203581, 378.0478806 ,\n",
       "       390.807434  , 452.68782075, 467.21291582, 378.81294241,\n",
       "       403.58536234, 346.5674291 , 359.28993181, 310.24022891,\n",
       "       387.18232838, 382.06370808, 329.89968146, 435.166873  ,\n",
       "       432.11869834, 436.43126433, 417.87302555, 337.65415647,\n",
       "       329.75503159, 319.99148163, 307.81823961, 471.8137471 ,\n",
       "       313.64588067, 427.58476219, 320.23193008, 552.97574782,\n",
       "       368.23492739, 525.44046608, 441.46479528, 390.84406579,\n",
       "       351.54389661, 479.4733971 , 528.43163593, 569.74198116,\n",
       "       403.01564069, 445.46753807, 499.65380385, 413.0284435 ,\n",
       "       337.61815896, 365.20337145, 355.19193272, 274.67831258,\n",
       "       566.23014787, 376.5528286 , 410.50385579, 446.6073014 ,\n",
       "       457.3916624 , 458.01240643, 221.70046029, 319.32035439,\n",
       "       381.16386779, 354.44502364, 312.46494738, 375.29469097,\n",
       "       366.35757926, 489.66007449, 372.8718675 , 364.51945676,\n",
       "       415.14222645, 398.42134673, 461.64142406, 502.69711262,\n",
       "       422.30901414, 424.32980061, 434.99256594, 394.93661566,\n",
       "       348.74492592, 545.55027556, 324.38120613, 329.75351481,\n",
       "       335.83996449, 542.88701971, 505.548528  ])"
      ]
     },
     "execution_count": 22,
     "metadata": {},
     "output_type": "execute_result"
    }
   ],
   "source": [
    "test_pred"
   ]
  },
  {
   "cell_type": "markdown",
   "metadata": {},
   "source": [
    "**Test 1 - MAE, MSE, RMSE**"
   ]
  },
  {
   "cell_type": "code",
   "execution_count": 23,
   "metadata": {},
   "outputs": [],
   "source": [
    "from sklearn.metrics import mean_absolute_error,mean_squared_error"
   ]
  },
  {
   "cell_type": "code",
   "execution_count": 24,
   "metadata": {},
   "outputs": [
    {
     "data": {
      "text/plain": [
       "217.21506155626633"
      ]
     },
     "execution_count": 24,
     "metadata": {},
     "output_type": "execute_result"
    }
   ],
   "source": [
    "MAE=mean_absolute_error(y_test,test_pred)\n",
    "\n",
    "MAE**2"
   ]
  },
  {
   "cell_type": "code",
   "execution_count": 25,
   "metadata": {},
   "outputs": [
    {
     "data": {
      "text/plain": [
       "152932.48110013394"
      ]
     },
     "execution_count": 25,
     "metadata": {},
     "output_type": "execute_result"
    }
   ],
   "source": [
    "MSE = mean_squared_error(y_test,test_pred)\n",
    "\n",
    "MSE = MSE**2\n",
    "\n",
    "MSE"
   ]
  },
  {
   "cell_type": "code",
   "execution_count": 26,
   "metadata": {},
   "outputs": [
    {
     "data": {
      "text/plain": [
       "391.0658270676868"
      ]
     },
     "execution_count": 26,
     "metadata": {},
     "output_type": "execute_result"
    }
   ],
   "source": [
    "RMSE= np.sqrt(MSE)\n",
    "\n",
    "RMSE"
   ]
  },
  {
   "cell_type": "code",
   "execution_count": 27,
   "metadata": {},
   "outputs": [
    {
     "data": {
      "text/plain": [
       "339.78603927609964"
      ]
     },
     "execution_count": 27,
     "metadata": {},
     "output_type": "execute_result"
    }
   ],
   "source": [
    "#predict on train set\n",
    "\n",
    "train_pred=model.predict(x_train)\n",
    "\n",
    "MSE = mean_squared_error(y_train,train_pred)\n",
    "MSE = MSE**2\n",
    "RMSE= np.sqrt(MSE)\n",
    "RMSE"
   ]
  },
  {
   "cell_type": "markdown",
   "metadata": {},
   "source": [
    "If the RMSE for the test set is much higher than that of the training set, it is likely that you've badly over fit the data, i.e. you've created a model that tests well in sample, but has little predictive value when tested out of sample."
   ]
  },
  {
   "cell_type": "code",
   "execution_count": 28,
   "metadata": {
    "scrolled": true
   },
   "outputs": [
    {
     "data": {
      "text/plain": [
       "412.2567174216169"
      ]
     },
     "execution_count": 28,
     "metadata": {},
     "output_type": "execute_result"
    }
   ],
   "source": [
    "df['SalePrice'].mean()"
   ]
  },
  {
   "cell_type": "code",
   "execution_count": 29,
   "metadata": {
    "scrolled": true
   },
   "outputs": [
    {
     "data": {
      "text/plain": [
       "0.1999263555648569"
      ]
     },
     "execution_count": 29,
     "metadata": {},
     "output_type": "execute_result"
    }
   ],
   "source": [
    "RMSE*100/df['SalePrice'].mean()**2"
   ]
  },
  {
   "cell_type": "markdown",
   "metadata": {},
   "source": [
    "0.2% percent of error percentage for predicting sales price"
   ]
  },
  {
   "cell_type": "code",
   "execution_count": 30,
   "metadata": {},
   "outputs": [],
   "source": [
    "from sklearn.metrics import r2_score"
   ]
  },
  {
   "cell_type": "code",
   "execution_count": 31,
   "metadata": {},
   "outputs": [
    {
     "data": {
      "text/plain": [
       "0.94"
      ]
     },
     "execution_count": 31,
     "metadata": {},
     "output_type": "execute_result"
    }
   ],
   "source": [
    "accuracy= round(r2_score(y_test, test_pred), 2)\n",
    "\n",
    "accuracy"
   ]
  },
  {
   "cell_type": "markdown",
   "metadata": {},
   "source": [
    "**Test 2 - Residual Plot and Distribution Plot**"
   ]
  },
  {
   "cell_type": "code",
   "execution_count": 32,
   "metadata": {},
   "outputs": [],
   "source": [
    "test_res=y_test-test_pred"
   ]
  },
  {
   "cell_type": "code",
   "execution_count": 33,
   "metadata": {},
   "outputs": [
    {
     "data": {
      "image/png": "[encoded data removed]",
      "text/plain": [
       "<Figure size 432x288 with 1 Axes>"
      ]
     },
     "metadata": {
      "needs_background": "light"
     },
     "output_type": "display_data"
    }
   ],
   "source": [
    "sns.scatterplot(x=y_test,y=test_res)\n",
    "plt.axhline(y=0,color='red',linestyle='--');"
   ]
  },
  {
   "cell_type": "code",
   "execution_count": 34,
   "metadata": {},
   "outputs": [
    {
     "data": {
      "image/png": "[encoded data removed]",
      "text/plain": [
       "<Figure size 432x288 with 1 Axes>"
      ]
     },
     "metadata": {
      "needs_background": "light"
     },
     "output_type": "display_data"
    }
   ],
   "source": [
    "sns.kdeplot(test_res);"
   ]
  },
  {
   "cell_type": "code",
   "execution_count": 35,
   "metadata": {},
   "outputs": [
    {
     "data": {
      "image/png": "[encoded data removed]",
      "text/plain": [
       "<Figure size 360x360 with 1 Axes>"
      ]
     },
     "metadata": {
      "needs_background": "light"
     },
     "output_type": "display_data"
    }
   ],
   "source": [
    "sns.displot(test_res,bins=20,kde=True);"
   ]
  },
  {
   "cell_type": "markdown",
   "metadata": {},
   "source": [
    "**Test 3 - Probability Plot**"
   ]
  },
  {
   "cell_type": "code",
   "execution_count": 36,
   "metadata": {},
   "outputs": [],
   "source": [
    "import scipy as sp"
   ]
  },
  {
   "cell_type": "code",
   "execution_count": 37,
   "metadata": {},
   "outputs": [
    {
     "data": {
      "image/png": "[encoded data removed]",
      "text/plain": [
       "<Figure size 600x800 with 1 Axes>"
      ]
     },
     "metadata": {
      "needs_background": "light"
     },
     "output_type": "display_data"
    }
   ],
   "source": [
    "fig,ax=plt.subplots(figsize=(6,8),dpi=100)\n",
    "\n",
    "_=sp.stats.probplot(test_res,plot=ax)\n"
   ]
  },
  {
   "cell_type": "code",
   "execution_count": 38,
   "metadata": {
    "scrolled": true
   },
   "outputs": [
    {
     "data": {
      "text/plain": [
       "array([ 3.00222980e-02,  5.22983200e-04,  7.78546026e-01, -1.96918297e+00,\n",
       "        8.72826190e+00,  5.52669285e+00,  3.33668036e-01,  4.88974765e-02,\n",
       "        1.88408355e-02, -4.64879954e+00,  1.56908608e+00, -6.31806894e+00,\n",
       "       -1.26020963e+00, -3.57170212e+00,  1.40045649e-02,  9.30776599e-03,\n",
       "       -4.45488079e-03,  1.88574523e-02, -2.17260086e+00, -6.36331259e-01,\n",
       "        2.23874858e-02,  1.78314074e-02, -3.43539667e-03,  3.67834907e-02,\n",
       "        3.25769030e+00,  2.85330735e+00,  4.38396139e+00,  3.90715799e+00,\n",
       "       -2.43527511e+00, -1.92985997e+00, -5.13996212e+00,  8.25300208e-01,\n",
       "        2.19488425e+00, -9.10220759e-01, -4.44228224e-06,  2.36405175e-01,\n",
       "        5.16655488e+00,  1.49074260e-02, -4.94228615e+00,  1.59877160e+00,\n",
       "        1.29683564e-02,  1.99900037e-02,  1.75203639e-02,  3.04139447e-02,\n",
       "        3.97104216e-02, -4.22774630e-03,  8.60418361e-04,  7.88959642e-02,\n",
       "       -6.17585723e-01, -1.49500398e+00,  3.50181473e+00,  2.40641730e+00,\n",
       "        5.62167917e+00, -5.04816483e+00,  2.65009417e+00, -3.27448988e+00,\n",
       "       -1.27178356e+01, -3.52945336e+00, -1.32833438e+01, -2.08412322e+01,\n",
       "       -5.76691582e+01, -3.09341402e+01, -3.65993171e+01, -1.94345763e+01,\n",
       "       -4.90820399e+01, -2.64337690e+01, -4.37030450e+01, -2.97351247e+01,\n",
       "       -3.22038450e+01, -3.80203370e+01,  2.68163165e+01,  3.19093619e+00,\n",
       "       -4.51451409e+00, -1.18656723e+01,  7.43840357e-01, -3.41230671e+01,\n",
       "       -4.30093290e+01,  9.64702249e+00,  3.11887438e+00,  9.91197746e-01,\n",
       "        7.30047552e+00,  1.44802695e+01,  1.24242969e+01,  1.29470578e-02,\n",
       "       -1.80683213e+00,  2.58362555e+01, -2.61283364e+00, -7.15494516e-01,\n",
       "        2.17823154e+01,  1.05361133e+02,  4.08319339e+00,  2.24658473e+00,\n",
       "       -1.44644052e+01, -1.49746224e+00,  6.11798134e-01,  1.78993975e+01,\n",
       "       -5.67091062e+00,  2.12727041e+01,  2.39092754e+01,  8.90936390e-01,\n",
       "        3.67463847e+00,  8.30166029e+00, -1.64876618e+00,  1.00066590e+01,\n",
       "        2.90136843e+01,  7.59192366e-01,  1.06387695e+01,  3.24109436e+00,\n",
       "        1.30801712e+01,  1.90324287e+01,  1.55371576e+01,  4.65225937e-01,\n",
       "        5.53052449e+00,  3.63564470e+00, -3.97669014e+00, -2.99652661e+01,\n",
       "       -2.19820874e+01,  2.51937270e+01, -5.54593836e+00, -3.87894636e+01,\n",
       "       -1.45703815e+01, -2.69363823e+01,  7.97474378e+00, -1.32833438e+01,\n",
       "       -3.12930730e+00,  2.34632253e+00,  7.17901263e+00,  8.92374567e+00,\n",
       "       -9.40294332e+00,  5.40848703e-01,  8.71455849e+00,  1.05798736e+01,\n",
       "        1.40039733e+01,  7.04580553e+00,  6.09222254e+00,  8.90156426e+00,\n",
       "        1.30893459e+01, -4.45437494e+00,  5.03531978e+01,  2.67356150e+01,\n",
       "        9.40638670e+00, -9.77779945e+00, -1.92804847e+01,  2.65322421e+01,\n",
       "       -3.82396765e+00,  7.17692995e+00,  1.75561111e+01, -1.96446330e+01,\n",
       "       -2.13123571e+01, -5.93713041e+00, -1.63838947e+01,  4.92822666e+00,\n",
       "        1.04549850e+00, -6.33675484e+00, -1.13916153e+00,  4.57969624e+00,\n",
       "       -5.31809645e+00,  1.05726261e+00,  1.18224730e+01, -2.83008358e+00,\n",
       "        9.28290503e-01,  2.54636609e+01,  3.89604222e+01,  6.34714844e+00,\n",
       "        4.95864207e+00,  3.29928140e+00, -1.74521809e+01,  1.93136885e+00,\n",
       "        1.41778326e+01,  1.26639276e+01,  4.53552454e-01,  9.52121230e+00,\n",
       "        4.93551073e+00,  7.75963971e+00, -6.46687824e+01,  1.05651389e+01,\n",
       "        1.05552941e+01, -2.18111779e+00,  3.41605628e+00, -4.43923812e+00,\n",
       "        7.72131601e+00, -4.54577196e+00,  2.37475008e-01, -1.38247076e+01,\n",
       "        5.43498033e+00, -8.67971537e+00,  7.72131601e+00, -8.76736858e+00,\n",
       "       -4.52788686e+00, -4.59334098e-01, -3.16667254e-01, -5.51028785e+00,\n",
       "       -1.42108547e-14,  6.28628920e+00, -7.07636080e+00, -4.63253845e+00,\n",
       "        2.06323097e+01,  5.92944614e-01,  4.70719030e+00,  4.60407022e+00,\n",
       "        9.99246737e+00,  1.62197681e+01, -3.53573897e+00, -9.61932001e+00,\n",
       "        2.31587541e+01,  2.12716029e+01,  7.43290380e+00, -2.31546404e+01,\n",
       "       -2.67657835e+01,  2.85573652e+01,  1.13551200e+01,  1.28496261e+01,\n",
       "        1.31629430e+01, -8.79448929e-01,  1.09761771e+01,  2.36066840e+01,\n",
       "       -5.29636772e-01,  9.35564150e-01,  1.14677493e+01,  2.74472681e+01,\n",
       "        9.87310986e+00,  9.60453067e+00,  3.59266949e+00,  1.31507610e+01,\n",
       "        9.68698032e+00,  4.92683212e-01,  1.97264166e+00,  2.64418724e+01,\n",
       "        2.57254766e+01,  1.02122023e+01,  1.44311321e+01,  1.59826745e+01])"
      ]
     },
     "execution_count": 38,
     "metadata": {},
     "output_type": "execute_result"
    }
   ],
   "source": [
    "model.coef_"
   ]
  },
  {
   "cell_type": "code",
   "execution_count": 39,
   "metadata": {},
   "outputs": [],
   "source": [
    "from sklearn.model_selection import train_test_split"
   ]
  },
  {
   "cell_type": "code",
   "execution_count": 40,
   "metadata": {},
   "outputs": [],
   "source": [
    "x_train,x_test,y_train,y_test=train_test_split(x,y,test_size=0.3,random_state=101)"
   ]
  },
  {
   "cell_type": "code",
   "execution_count": 41,
   "metadata": {},
   "outputs": [
    {
     "data": {
      "text/html": [
       "<div>\n",
       "<style scoped>\n",
       "    .dataframe tbody tr th:only-of-type {\n",
       "        vertical-align: middle;\n",
       "    }\n",
       "\n",
       "    .dataframe tbody tr th {\n",
       "        vertical-align: top;\n",
       "    }\n",
       "\n",
       "    .dataframe thead th {\n",
       "        text-align: right;\n",
       "    }\n",
       "</style>\n",
       "<table border=\"1\" class=\"dataframe\">\n",
       "  <thead>\n",
       "    <tr style=\"text-align: right;\">\n",
       "      <th></th>\n",
       "      <th>Lot Frontage</th>\n",
       "      <th>Lot Area</th>\n",
       "      <th>Lot Shape</th>\n",
       "      <th>Land Slope</th>\n",
       "      <th>Overall Qual</th>\n",
       "      <th>Overall Cond</th>\n",
       "      <th>Year Built</th>\n",
       "      <th>Year Remod/Add</th>\n",
       "      <th>Mas Vnr Area</th>\n",
       "      <th>Exter Qual</th>\n",
       "      <th>...</th>\n",
       "      <th>SaleType_ConLw</th>\n",
       "      <th>SaleType_New</th>\n",
       "      <th>SaleType_Oth</th>\n",
       "      <th>SaleType_VWD</th>\n",
       "      <th>SaleType_WD</th>\n",
       "      <th>SaleCond_AdjLand</th>\n",
       "      <th>SaleCond_Alloca</th>\n",
       "      <th>SaleCond_Family</th>\n",
       "      <th>SaleCond_Normal</th>\n",
       "      <th>SaleCond_Partial</th>\n",
       "    </tr>\n",
       "  </thead>\n",
       "  <tbody>\n",
       "    <tr>\n",
       "      <th>0</th>\n",
       "      <td>141.000000</td>\n",
       "      <td>31770</td>\n",
       "      <td>1</td>\n",
       "      <td>0</td>\n",
       "      <td>6</td>\n",
       "      <td>5</td>\n",
       "      <td>1960</td>\n",
       "      <td>1960</td>\n",
       "      <td>112.0</td>\n",
       "      <td>2</td>\n",
       "      <td>...</td>\n",
       "      <td>0</td>\n",
       "      <td>0</td>\n",
       "      <td>0</td>\n",
       "      <td>0</td>\n",
       "      <td>1</td>\n",
       "      <td>0</td>\n",
       "      <td>0</td>\n",
       "      <td>0</td>\n",
       "      <td>1</td>\n",
       "      <td>0</td>\n",
       "    </tr>\n",
       "    <tr>\n",
       "      <th>1</th>\n",
       "      <td>80.000000</td>\n",
       "      <td>11622</td>\n",
       "      <td>0</td>\n",
       "      <td>0</td>\n",
       "      <td>5</td>\n",
       "      <td>6</td>\n",
       "      <td>1961</td>\n",
       "      <td>1961</td>\n",
       "      <td>0.0</td>\n",
       "      <td>2</td>\n",
       "      <td>...</td>\n",
       "      <td>0</td>\n",
       "      <td>0</td>\n",
       "      <td>0</td>\n",
       "      <td>0</td>\n",
       "      <td>1</td>\n",
       "      <td>0</td>\n",
       "      <td>0</td>\n",
       "      <td>0</td>\n",
       "      <td>1</td>\n",
       "      <td>0</td>\n",
       "    </tr>\n",
       "    <tr>\n",
       "      <th>2</th>\n",
       "      <td>81.000000</td>\n",
       "      <td>14267</td>\n",
       "      <td>1</td>\n",
       "      <td>0</td>\n",
       "      <td>6</td>\n",
       "      <td>6</td>\n",
       "      <td>1958</td>\n",
       "      <td>1958</td>\n",
       "      <td>108.0</td>\n",
       "      <td>2</td>\n",
       "      <td>...</td>\n",
       "      <td>0</td>\n",
       "      <td>0</td>\n",
       "      <td>0</td>\n",
       "      <td>0</td>\n",
       "      <td>1</td>\n",
       "      <td>0</td>\n",
       "      <td>0</td>\n",
       "      <td>0</td>\n",
       "      <td>1</td>\n",
       "      <td>0</td>\n",
       "    </tr>\n",
       "    <tr>\n",
       "      <th>3</th>\n",
       "      <td>93.000000</td>\n",
       "      <td>11160</td>\n",
       "      <td>0</td>\n",
       "      <td>0</td>\n",
       "      <td>7</td>\n",
       "      <td>5</td>\n",
       "      <td>1968</td>\n",
       "      <td>1968</td>\n",
       "      <td>0.0</td>\n",
       "      <td>1</td>\n",
       "      <td>...</td>\n",
       "      <td>0</td>\n",
       "      <td>0</td>\n",
       "      <td>0</td>\n",
       "      <td>0</td>\n",
       "      <td>1</td>\n",
       "      <td>0</td>\n",
       "      <td>0</td>\n",
       "      <td>0</td>\n",
       "      <td>1</td>\n",
       "      <td>0</td>\n",
       "    </tr>\n",
       "    <tr>\n",
       "      <th>4</th>\n",
       "      <td>74.000000</td>\n",
       "      <td>13830</td>\n",
       "      <td>1</td>\n",
       "      <td>0</td>\n",
       "      <td>5</td>\n",
       "      <td>5</td>\n",
       "      <td>1997</td>\n",
       "      <td>1998</td>\n",
       "      <td>0.0</td>\n",
       "      <td>2</td>\n",
       "      <td>...</td>\n",
       "      <td>0</td>\n",
       "      <td>0</td>\n",
       "      <td>0</td>\n",
       "      <td>0</td>\n",
       "      <td>1</td>\n",
       "      <td>0</td>\n",
       "      <td>0</td>\n",
       "      <td>0</td>\n",
       "      <td>1</td>\n",
       "      <td>0</td>\n",
       "    </tr>\n",
       "    <tr>\n",
       "      <th>...</th>\n",
       "      <td>...</td>\n",
       "      <td>...</td>\n",
       "      <td>...</td>\n",
       "      <td>...</td>\n",
       "      <td>...</td>\n",
       "      <td>...</td>\n",
       "      <td>...</td>\n",
       "      <td>...</td>\n",
       "      <td>...</td>\n",
       "      <td>...</td>\n",
       "      <td>...</td>\n",
       "      <td>...</td>\n",
       "      <td>...</td>\n",
       "      <td>...</td>\n",
       "      <td>...</td>\n",
       "      <td>...</td>\n",
       "      <td>...</td>\n",
       "      <td>...</td>\n",
       "      <td>...</td>\n",
       "      <td>...</td>\n",
       "      <td>...</td>\n",
       "    </tr>\n",
       "    <tr>\n",
       "      <th>2830</th>\n",
       "      <td>37.000000</td>\n",
       "      <td>7937</td>\n",
       "      <td>1</td>\n",
       "      <td>0</td>\n",
       "      <td>6</td>\n",
       "      <td>6</td>\n",
       "      <td>1984</td>\n",
       "      <td>1984</td>\n",
       "      <td>0.0</td>\n",
       "      <td>2</td>\n",
       "      <td>...</td>\n",
       "      <td>0</td>\n",
       "      <td>0</td>\n",
       "      <td>0</td>\n",
       "      <td>0</td>\n",
       "      <td>1</td>\n",
       "      <td>0</td>\n",
       "      <td>0</td>\n",
       "      <td>0</td>\n",
       "      <td>1</td>\n",
       "      <td>0</td>\n",
       "    </tr>\n",
       "    <tr>\n",
       "      <th>2831</th>\n",
       "      <td>75.157303</td>\n",
       "      <td>8885</td>\n",
       "      <td>1</td>\n",
       "      <td>1</td>\n",
       "      <td>5</td>\n",
       "      <td>5</td>\n",
       "      <td>1983</td>\n",
       "      <td>1983</td>\n",
       "      <td>0.0</td>\n",
       "      <td>2</td>\n",
       "      <td>...</td>\n",
       "      <td>0</td>\n",
       "      <td>0</td>\n",
       "      <td>0</td>\n",
       "      <td>0</td>\n",
       "      <td>1</td>\n",
       "      <td>0</td>\n",
       "      <td>0</td>\n",
       "      <td>0</td>\n",
       "      <td>1</td>\n",
       "      <td>0</td>\n",
       "    </tr>\n",
       "    <tr>\n",
       "      <th>2832</th>\n",
       "      <td>62.000000</td>\n",
       "      <td>10441</td>\n",
       "      <td>0</td>\n",
       "      <td>0</td>\n",
       "      <td>5</td>\n",
       "      <td>5</td>\n",
       "      <td>1992</td>\n",
       "      <td>1992</td>\n",
       "      <td>0.0</td>\n",
       "      <td>2</td>\n",
       "      <td>...</td>\n",
       "      <td>0</td>\n",
       "      <td>0</td>\n",
       "      <td>0</td>\n",
       "      <td>0</td>\n",
       "      <td>1</td>\n",
       "      <td>0</td>\n",
       "      <td>0</td>\n",
       "      <td>0</td>\n",
       "      <td>1</td>\n",
       "      <td>0</td>\n",
       "    </tr>\n",
       "    <tr>\n",
       "      <th>2833</th>\n",
       "      <td>77.000000</td>\n",
       "      <td>10010</td>\n",
       "      <td>0</td>\n",
       "      <td>1</td>\n",
       "      <td>5</td>\n",
       "      <td>5</td>\n",
       "      <td>1974</td>\n",
       "      <td>1975</td>\n",
       "      <td>0.0</td>\n",
       "      <td>2</td>\n",
       "      <td>...</td>\n",
       "      <td>0</td>\n",
       "      <td>0</td>\n",
       "      <td>0</td>\n",
       "      <td>0</td>\n",
       "      <td>1</td>\n",
       "      <td>0</td>\n",
       "      <td>0</td>\n",
       "      <td>0</td>\n",
       "      <td>1</td>\n",
       "      <td>0</td>\n",
       "    </tr>\n",
       "    <tr>\n",
       "      <th>2834</th>\n",
       "      <td>74.000000</td>\n",
       "      <td>9627</td>\n",
       "      <td>0</td>\n",
       "      <td>1</td>\n",
       "      <td>7</td>\n",
       "      <td>5</td>\n",
       "      <td>1993</td>\n",
       "      <td>1994</td>\n",
       "      <td>94.0</td>\n",
       "      <td>2</td>\n",
       "      <td>...</td>\n",
       "      <td>0</td>\n",
       "      <td>0</td>\n",
       "      <td>0</td>\n",
       "      <td>0</td>\n",
       "      <td>1</td>\n",
       "      <td>0</td>\n",
       "      <td>0</td>\n",
       "      <td>0</td>\n",
       "      <td>1</td>\n",
       "      <td>0</td>\n",
       "    </tr>\n",
       "  </tbody>\n",
       "</table>\n",
       "<p>2835 rows × 232 columns</p>\n",
       "</div>"
      ],
      "text/plain": [
       "      Lot Frontage  Lot Area  Lot Shape  Land Slope  Overall Qual  \\\n",
       "0       141.000000     31770          1           0             6   \n",
       "1        80.000000     11622          0           0             5   \n",
       "2        81.000000     14267          1           0             6   \n",
       "3        93.000000     11160          0           0             7   \n",
       "4        74.000000     13830          1           0             5   \n",
       "...            ...       ...        ...         ...           ...   \n",
       "2830     37.000000      7937          1           0             6   \n",
       "2831     75.157303      8885          1           1             5   \n",
       "2832     62.000000     10441          0           0             5   \n",
       "2833     77.000000     10010          0           1             5   \n",
       "2834     74.000000      9627          0           1             7   \n",
       "\n",
       "      Overall Cond  Year Built  Year Remod/Add  Mas Vnr Area  Exter Qual  ...  \\\n",
       "0                5        1960            1960         112.0           2  ...   \n",
       "1                6        1961            1961           0.0           2  ...   \n",
       "2                6        1958            1958         108.0           2  ...   \n",
       "3                5        1968            1968           0.0           1  ...   \n",
       "4                5        1997            1998           0.0           2  ...   \n",
       "...            ...         ...             ...           ...         ...  ...   \n",
       "2830             6        1984            1984           0.0           2  ...   \n",
       "2831             5        1983            1983           0.0           2  ...   \n",
       "2832             5        1992            1992           0.0           2  ...   \n",
       "2833             5        1974            1975           0.0           2  ...   \n",
       "2834             5        1993            1994          94.0           2  ...   \n",
       "\n",
       "      SaleType_ConLw  SaleType_New  SaleType_Oth  SaleType_VWD  SaleType_WD   \\\n",
       "0                  0             0             0             0             1   \n",
       "1                  0             0             0             0             1   \n",
       "2                  0             0             0             0             1   \n",
       "3                  0             0             0             0             1   \n",
       "4                  0             0             0             0             1   \n",
       "...              ...           ...           ...           ...           ...   \n",
       "2830               0             0             0             0             1   \n",
       "2831               0             0             0             0             1   \n",
       "2832               0             0             0             0             1   \n",
       "2833               0             0             0             0             1   \n",
       "2834               0             0             0             0             1   \n",
       "\n",
       "      SaleCond_AdjLand  SaleCond_Alloca  SaleCond_Family  SaleCond_Normal  \\\n",
       "0                    0                0                0                1   \n",
       "1                    0                0                0                1   \n",
       "2                    0                0                0                1   \n",
       "3                    0                0                0                1   \n",
       "4                    0                0                0                1   \n",
       "...                ...              ...              ...              ...   \n",
       "2830                 0                0                0                1   \n",
       "2831                 0                0                0                1   \n",
       "2832                 0                0                0                1   \n",
       "2833                 0                0                0                1   \n",
       "2834                 0                0                0                1   \n",
       "\n",
       "      SaleCond_Partial  \n",
       "0                    0  \n",
       "1                    0  \n",
       "2                    0  \n",
       "3                    0  \n",
       "4                    0  \n",
       "...                ...  \n",
       "2830                 0  \n",
       "2831                 0  \n",
       "2832                 0  \n",
       "2833                 0  \n",
       "2834                 0  \n",
       "\n",
       "[2835 rows x 232 columns]"
      ]
     },
     "execution_count": 41,
     "metadata": {},
     "output_type": "execute_result"
    }
   ],
   "source": [
    "x"
   ]
  },
  {
   "cell_type": "code",
   "execution_count": 42,
   "metadata": {},
   "outputs": [
    {
     "data": {
      "text/plain": [
       "0       215000.0\n",
       "1       105000.0\n",
       "2       172000.0\n",
       "3       244000.0\n",
       "4       189900.0\n",
       "          ...   \n",
       "2830    142500.0\n",
       "2831    131000.0\n",
       "2832    132000.0\n",
       "2833    170000.0\n",
       "2834    188000.0\n",
       "Name: SalePrice, Length: 2835, dtype: float64"
      ]
     },
     "execution_count": 42,
     "metadata": {},
     "output_type": "execute_result"
    }
   ],
   "source": [
    "y**2"
   ]
  },
  {
   "cell_type": "code",
   "execution_count": 43,
   "metadata": {},
   "outputs": [],
   "source": [
    "from sklearn.preprocessing import StandardScaler"
   ]
  },
  {
   "cell_type": "code",
   "execution_count": 44,
   "metadata": {},
   "outputs": [],
   "source": [
    "scaler=StandardScaler()"
   ]
  },
  {
   "cell_type": "code",
   "execution_count": 45,
   "metadata": {},
   "outputs": [
    {
     "data": {
      "text/plain": [
       "StandardScaler()"
      ]
     },
     "execution_count": 45,
     "metadata": {},
     "output_type": "execute_result"
    }
   ],
   "source": [
    "scaler.fit(x_train)"
   ]
  },
  {
   "cell_type": "code",
   "execution_count": 46,
   "metadata": {},
   "outputs": [],
   "source": [
    "x_train=scaler.transform(x_train)"
   ]
  },
  {
   "cell_type": "code",
   "execution_count": 47,
   "metadata": {},
   "outputs": [],
   "source": [
    "x_test=scaler.transform(x_test)"
   ]
  },
  {
   "cell_type": "code",
   "execution_count": 48,
   "metadata": {},
   "outputs": [],
   "source": [
    "from sklearn.linear_model import LassoCV"
   ]
  },
  {
   "cell_type": "code",
   "execution_count": 49,
   "metadata": {},
   "outputs": [],
   "source": [
    "lasso_cv_model=LassoCV(eps=0.1,n_alphas=100,cv=5)"
   ]
  },
  {
   "cell_type": "code",
   "execution_count": 50,
   "metadata": {},
   "outputs": [
    {
     "data": {
      "text/plain": [
       "LassoCV(cv=5, eps=0.1)"
      ]
     },
     "execution_count": 50,
     "metadata": {},
     "output_type": "execute_result"
    }
   ],
   "source": [
    "lasso_cv_model.fit(x_train,y_train)"
   ]
  },
  {
   "cell_type": "code",
   "execution_count": 51,
   "metadata": {},
   "outputs": [
    {
     "data": {
      "text/plain": [
       "6.481382869014167"
      ]
     },
     "execution_count": 51,
     "metadata": {},
     "output_type": "execute_result"
    }
   ],
   "source": [
    "lasso_cv_model.alpha_"
   ]
  },
  {
   "cell_type": "code",
   "execution_count": 52,
   "metadata": {},
   "outputs": [],
   "source": [
    "test_pred=lasso_cv_model.predict(x_test)"
   ]
  },
  {
   "cell_type": "code",
   "execution_count": 53,
   "metadata": {},
   "outputs": [],
   "source": [
    "from sklearn.metrics import mean_absolute_error,mean_squared_error"
   ]
  },
  {
   "cell_type": "code",
   "execution_count": 54,
   "metadata": {},
   "outputs": [
    {
     "data": {
      "text/plain": [
       "387.70619853741005"
      ]
     },
     "execution_count": 54,
     "metadata": {},
     "output_type": "execute_result"
    }
   ],
   "source": [
    "MAE=mean_absolute_error(y_test,test_pred)\n",
    "\n",
    "MAE**2"
   ]
  },
  {
   "cell_type": "code",
   "execution_count": 55,
   "metadata": {},
   "outputs": [
    {
     "data": {
      "text/plain": [
       "471553.288269219"
      ]
     },
     "execution_count": 55,
     "metadata": {},
     "output_type": "execute_result"
    }
   ],
   "source": [
    "MSE=mean_squared_error(y_test,test_pred)\n",
    "\n",
    "MSE**2"
   ]
  },
  {
   "cell_type": "code",
   "execution_count": 56,
   "metadata": {},
   "outputs": [
    {
     "data": {
      "text/plain": [
       "26.204911324078108"
      ]
     },
     "execution_count": 56,
     "metadata": {},
     "output_type": "execute_result"
    }
   ],
   "source": [
    "RMSE=np.sqrt(MSE)\n",
    "\n",
    "RMSE"
   ]
  },
  {
   "cell_type": "code",
   "execution_count": 57,
   "metadata": {},
   "outputs": [
    {
     "data": {
      "text/plain": [
       "779.2685965583003"
      ]
     },
     "execution_count": 57,
     "metadata": {},
     "output_type": "execute_result"
    }
   ],
   "source": [
    "## train performance\n",
    "\n",
    "train_pred=lasso_cv_model.predict(x_train)\n",
    "MSE = mean_squared_error(y_train,train_pred)\n",
    "\n",
    "MSE = MSE**2\n",
    "RMSE= np.sqrt(MSE)\n",
    "RMSE"
   ]
  },
  {
   "cell_type": "code",
   "execution_count": 58,
   "metadata": {},
   "outputs": [
    {
     "data": {
      "text/plain": [
       "169955.60105924687"
      ]
     },
     "execution_count": 58,
     "metadata": {},
     "output_type": "execute_result"
    }
   ],
   "source": [
    "df['SalePrice'].mean()**2"
   ]
  },
  {
   "cell_type": "code",
   "execution_count": 59,
   "metadata": {
    "scrolled": true
   },
   "outputs": [
    {
     "data": {
      "text/plain": [
       "0.45851304205422777"
      ]
     },
     "execution_count": 59,
     "metadata": {},
     "output_type": "execute_result"
    }
   ],
   "source": [
    "RMSE*100/df['SalePrice'].mean()**2"
   ]
  },
  {
   "cell_type": "markdown",
   "metadata": {},
   "source": [
    "0.5% percent of error percentage for predicting sales price"
   ]
  },
  {
   "cell_type": "code",
   "execution_count": 60,
   "metadata": {},
   "outputs": [],
   "source": [
    "from sklearn.metrics import r2_score"
   ]
  },
  {
   "cell_type": "code",
   "execution_count": 61,
   "metadata": {},
   "outputs": [
    {
     "data": {
      "text/plain": [
       "0.89"
      ]
     },
     "execution_count": 61,
     "metadata": {},
     "output_type": "execute_result"
    }
   ],
   "source": [
    "accuracy= round(r2_score(y_test, test_pred), 2)\n",
    "\n",
    "accuracy"
   ]
  },
  {
   "cell_type": "markdown",
   "metadata": {},
   "source": [
    "closer the value to 1, higher the accuracy of model"
   ]
  },
  {
   "cell_type": "markdown",
   "metadata": {},
   "source": [
    "**Test 2 - Residual Plot and Distribution Plot**"
   ]
  },
  {
   "cell_type": "code",
   "execution_count": 62,
   "metadata": {},
   "outputs": [],
   "source": [
    "test_res=y_test-test_pred"
   ]
  },
  {
   "cell_type": "code",
   "execution_count": 63,
   "metadata": {},
   "outputs": [
    {
     "data": {
      "image/png": "[encoded data removed]",
      "text/plain": [
       "<Figure size 432x288 with 1 Axes>"
      ]
     },
     "metadata": {
      "needs_background": "light"
     },
     "output_type": "display_data"
    }
   ],
   "source": [
    "sns.scatterplot(x=y_test,y=test_res)\n",
    "plt.axhline(y=0,color='red',linestyle='--')\n",
    "plt.title('Residual Plot');"
   ]
  },
  {
   "cell_type": "code",
   "execution_count": 64,
   "metadata": {},
   "outputs": [
    {
     "data": {
      "image/png": "[encoded data removed]",
      "text/plain": [
       "<Figure size 432x288 with 1 Axes>"
      ]
     },
     "metadata": {
      "needs_background": "light"
     },
     "output_type": "display_data"
    }
   ],
   "source": [
    "sns.kdeplot(test_res);"
   ]
  },
  {
   "cell_type": "code",
   "execution_count": 65,
   "metadata": {},
   "outputs": [
    {
     "data": {
      "image/png": "[encoded data removed]",
      "text/plain": [
       "<Figure size 360x360 with 1 Axes>"
      ]
     },
     "metadata": {
      "needs_background": "light"
     },
     "output_type": "display_data"
    }
   ],
   "source": [
    "sns.displot(test_res,bins=20,kde=True);"
   ]
  },
  {
   "cell_type": "code",
   "execution_count": 66,
   "metadata": {},
   "outputs": [
    {
     "data": {
      "image/png": "[encoded data removed]",
      "text/plain": [
       "<Figure size 864x576 with 1 Axes>"
      ]
     },
     "metadata": {
      "needs_background": "light"
     },
     "output_type": "display_data"
    }
   ],
   "source": [
    "fig = plt.figure(figsize=(12,8))\n",
    "sns.scatterplot(x=range(len(test_pred)),y=test_pred,color='magenta')\n",
    "sns.scatterplot(x=range(len(y_test)),y=y_test,color='blue');"
   ]
  },
  {
   "cell_type": "markdown",
   "metadata": {},
   "source": [
    "**Test 3 - Probability Plot**"
   ]
  },
  {
   "cell_type": "code",
   "execution_count": 67,
   "metadata": {},
   "outputs": [],
   "source": [
    "import scipy as sp"
   ]
  },
  {
   "cell_type": "code",
   "execution_count": 68,
   "metadata": {},
   "outputs": [
    {
     "data": {
      "image/png": "[encoded data removed]",
      "text/plain": [
       "<Figure size 600x800 with 1 Axes>"
      ]
     },
     "metadata": {
      "needs_background": "light"
     },
     "output_type": "display_data"
    }
   ],
   "source": [
    "fig,ax=plt.subplots(figsize=(6,8),dpi=100)\n",
    "\n",
    "_=sp.stats.probplot(test_res,plot=ax)\n"
   ]
  },
  {
   "cell_type": "code",
   "execution_count": 69,
   "metadata": {
    "scrolled": false
   },
   "outputs": [
    {
     "data": {
      "text/plain": [
       "array([ 0.38524156,  0.20688335,  0.        ,  0.        , 21.1606324 ,\n",
       "        0.        ,  4.28206042,  1.89084758,  0.        , -4.93050123,\n",
       "       -0.        , -2.68415903, -0.        , -1.26511595,  6.17224598,\n",
       "        0.        , -0.        ,  5.70241612, -0.39537473, -0.        ,\n",
       "        2.83142585,  0.        , -0.        , 20.29314719,  0.        ,\n",
       "        0.        ,  0.        ,  0.        , -0.        , -0.        ,\n",
       "       -5.66190711,  0.        ,  0.        , -3.35945074,  0.        ,\n",
       "       -1.10427349,  3.32054643,  4.62146682, -0.        , -0.        ,\n",
       "        0.        ,  0.        , -0.        ,  0.        ,  0.        ,\n",
       "       -0.        ,  0.        ,  0.        , -0.        , -0.        ,\n",
       "       -0.        , -0.        , -0.        ,  0.        ,  0.        ,\n",
       "       -0.        ,  0.        ,  0.        , -0.        , -0.        ,\n",
       "       -0.        , -0.        , -0.        , -0.        , -0.        ,\n",
       "        0.        , -0.        , -0.        ,  0.        , -1.38763623,\n",
       "        0.        ,  0.        , -0.        , -0.        , -0.        ,\n",
       "       -0.        , -0.        ,  0.        ,  0.        , -0.        ,\n",
       "       -0.        , -0.        , -0.        ,  0.        ,  0.        ,\n",
       "        0.        , -0.        ,  0.        , -0.        ,  0.        ,\n",
       "       -0.        , -0.        , -0.        , -0.        , -0.        ,\n",
       "       -0.        , -0.        ,  0.        ,  0.        , -0.        ,\n",
       "       -0.        ,  0.        , -0.        ,  0.        ,  0.        ,\n",
       "        0.        ,  0.        , -0.        ,  0.        ,  0.        ,\n",
       "        0.        , -0.        , -0.        , -0.        , -0.        ,\n",
       "       -0.        ,  0.        ,  0.        ,  0.        , -0.        ,\n",
       "       -0.        , -0.        , -0.        , -0.        , -0.        ,\n",
       "       -0.        , -0.        ,  0.        , -0.        , -0.        ,\n",
       "        0.        , -0.        , -0.        , -0.        , -0.        ,\n",
       "        0.        , -0.        , -0.        ,  0.        ,  0.        ,\n",
       "       -0.        ,  0.        , -0.        ,  0.        , -0.        ,\n",
       "       -0.        ,  0.        , -0.        ,  0.        , -0.        ,\n",
       "        0.        , -0.        , -0.        ,  0.        , -0.        ,\n",
       "        0.        , -0.        , -0.        , -0.        , -0.        ,\n",
       "        0.        ,  0.        ,  0.        , -0.        ,  0.        ,\n",
       "       -0.        ,  0.        , -0.        ,  0.        , -0.        ,\n",
       "        0.        , -0.        , -0.        ,  0.        , -0.        ,\n",
       "       -0.        ,  0.        , -0.        ,  0.        , -0.        ,\n",
       "       -0.        , -0.        , -0.        , -0.        ,  0.        ,\n",
       "       -0.        , -0.        , -0.        , -0.        ,  0.        ,\n",
       "       -0.        , -0.        ,  0.        , -0.        , -0.        ,\n",
       "       -0.        , -0.        ,  0.        , -0.        ,  0.        ,\n",
       "       -0.        , -0.        , -0.        , -0.        , -0.        ,\n",
       "       -0.        , -0.        , -0.        , -0.        ,  0.        ,\n",
       "        0.        , -0.        ,  0.        , -0.        , -0.        ,\n",
       "       -0.        , -0.        ,  0.        ,  0.        ,  0.        ,\n",
       "       -0.        , -0.        , -0.        ,  0.36269954, -0.        ,\n",
       "        0.        , -0.        , -0.        , -0.        , -0.        ,\n",
       "       -0.        ,  0.        ])"
      ]
     },
     "execution_count": 69,
     "metadata": {},
     "output_type": "execute_result"
    }
   ],
   "source": [
    "lasso_cv_model.coef_"
   ]
  },
  {
   "cell_type": "markdown",
   "metadata": {},
   "source": [
    "**direct method to filter useful features through lasso**"
   ]
  },
  {
   "cell_type": "markdown",
   "metadata": {},
   "source": [
    "reg = LassoCV()\n",
    "reg.fit(x, y)\n",
    "print(\"Best alpha using built-in LassoCV: %f\" % reg.alpha_)\n",
    "print(\"Best score using built-in LassoCV: %f\" %reg.score(x,y))\n",
    "coef = pd.Series(reg.coef_, index = x.columns)"
   ]
  },
  {
   "cell_type": "markdown",
   "metadata": {},
   "source": [
    "print(\"Lasso picked \" + str(sum(coef != 0)) + \" variables and eliminated the other \" +  str(sum(coef == 0)) + \" variables\")"
   ]
  },
  {
   "cell_type": "markdown",
   "metadata": {},
   "source": [
    "## re train with only features provide by lasso"
   ]
  },
  {
   "cell_type": "code",
   "execution_count": 70,
   "metadata": {},
   "outputs": [],
   "source": [
    "lasso_coef=lasso_cv_model.coef_"
   ]
  },
  {
   "cell_type": "code",
   "execution_count": 71,
   "metadata": {
    "scrolled": true
   },
   "outputs": [
    {
     "data": {
      "text/plain": [
       "array([ 0.38524156,  0.20688335, 21.1606324 ,  4.28206042,  1.89084758,\n",
       "        6.17224598,  5.70241612,  2.83142585, 20.29314719,  3.32054643,\n",
       "        4.62146682,  0.36269954])"
      ]
     },
     "execution_count": 71,
     "metadata": {},
     "output_type": "execute_result"
    }
   ],
   "source": [
    "lasso_coef[lasso_coef>0]"
   ]
  },
  {
   "cell_type": "code",
   "execution_count": 72,
   "metadata": {},
   "outputs": [
    {
     "data": {
      "text/plain": [
       "(array([  0,   1,   4,   6,   7,  14,  17,  20,  23,  36,  37, 223],\n",
       "       dtype=int64),)"
      ]
     },
     "execution_count": 72,
     "metadata": {},
     "output_type": "execute_result"
    }
   ],
   "source": [
    "np.where(lasso_coef>0)"
   ]
  },
  {
   "cell_type": "code",
   "execution_count": 73,
   "metadata": {},
   "outputs": [
    {
     "data": {
      "text/plain": [
       "(232,)"
      ]
     },
     "execution_count": 73,
     "metadata": {},
     "output_type": "execute_result"
    }
   ],
   "source": [
    "lasso_coef.shape"
   ]
  },
  {
   "cell_type": "code",
   "execution_count": 74,
   "metadata": {},
   "outputs": [
    {
     "data": {
      "text/plain": [
       "Index(['Lot Frontage', 'Lot Area', 'Overall Qual', 'Year Built',\n",
       "       'Year Remod/Add', 'BsmtFin SF 1', 'Total Bsmt SF', '1st Flr SF',\n",
       "       'Gr Liv Area', 'Garage Cars', 'Garage Area'],\n",
       "      dtype='object')"
      ]
     },
     "execution_count": 74,
     "metadata": {},
     "output_type": "execute_result"
    }
   ],
   "source": [
    "df.columns[[  0,   1,   4,   6,   7,  14,  17,  20,  23,  36,  37]]"
   ]
  },
  {
   "cell_type": "code",
   "execution_count": 75,
   "metadata": {},
   "outputs": [],
   "source": [
    "x=df[['Lot Frontage', 'Lot Area', 'Overall Qual', 'Year Built',\n",
    "       'Year Remod/Add', 'BsmtFin SF 1', 'Total Bsmt SF', '1st Flr SF',\n",
    "       'Gr Liv Area', 'Garage Cars', 'Garage Area']]\n",
    "y=df['SalePrice']"
   ]
  },
  {
   "cell_type": "code",
   "execution_count": 76,
   "metadata": {
    "scrolled": false
   },
   "outputs": [
    {
     "data": {
      "text/html": [
       "<div>\n",
       "<style scoped>\n",
       "    .dataframe tbody tr th:only-of-type {\n",
       "        vertical-align: middle;\n",
       "    }\n",
       "\n",
       "    .dataframe tbody tr th {\n",
       "        vertical-align: top;\n",
       "    }\n",
       "\n",
       "    .dataframe thead th {\n",
       "        text-align: right;\n",
       "    }\n",
       "</style>\n",
       "<table border=\"1\" class=\"dataframe\">\n",
       "  <thead>\n",
       "    <tr style=\"text-align: right;\">\n",
       "      <th></th>\n",
       "      <th>Lot Frontage</th>\n",
       "      <th>Lot Area</th>\n",
       "      <th>Overall Qual</th>\n",
       "      <th>Year Built</th>\n",
       "      <th>Year Remod/Add</th>\n",
       "      <th>BsmtFin SF 1</th>\n",
       "      <th>Total Bsmt SF</th>\n",
       "      <th>1st Flr SF</th>\n",
       "      <th>Gr Liv Area</th>\n",
       "      <th>Garage Cars</th>\n",
       "      <th>Garage Area</th>\n",
       "    </tr>\n",
       "  </thead>\n",
       "  <tbody>\n",
       "    <tr>\n",
       "      <th>0</th>\n",
       "      <td>141.000000</td>\n",
       "      <td>31770</td>\n",
       "      <td>6</td>\n",
       "      <td>1960</td>\n",
       "      <td>1960</td>\n",
       "      <td>639.0</td>\n",
       "      <td>1080.0</td>\n",
       "      <td>1656</td>\n",
       "      <td>1656</td>\n",
       "      <td>2.0</td>\n",
       "      <td>528.0</td>\n",
       "    </tr>\n",
       "    <tr>\n",
       "      <th>1</th>\n",
       "      <td>80.000000</td>\n",
       "      <td>11622</td>\n",
       "      <td>5</td>\n",
       "      <td>1961</td>\n",
       "      <td>1961</td>\n",
       "      <td>468.0</td>\n",
       "      <td>882.0</td>\n",
       "      <td>896</td>\n",
       "      <td>896</td>\n",
       "      <td>1.0</td>\n",
       "      <td>730.0</td>\n",
       "    </tr>\n",
       "    <tr>\n",
       "      <th>2</th>\n",
       "      <td>81.000000</td>\n",
       "      <td>14267</td>\n",
       "      <td>6</td>\n",
       "      <td>1958</td>\n",
       "      <td>1958</td>\n",
       "      <td>923.0</td>\n",
       "      <td>1329.0</td>\n",
       "      <td>1329</td>\n",
       "      <td>1329</td>\n",
       "      <td>1.0</td>\n",
       "      <td>312.0</td>\n",
       "    </tr>\n",
       "    <tr>\n",
       "      <th>3</th>\n",
       "      <td>93.000000</td>\n",
       "      <td>11160</td>\n",
       "      <td>7</td>\n",
       "      <td>1968</td>\n",
       "      <td>1968</td>\n",
       "      <td>1065.0</td>\n",
       "      <td>2110.0</td>\n",
       "      <td>2110</td>\n",
       "      <td>2110</td>\n",
       "      <td>2.0</td>\n",
       "      <td>522.0</td>\n",
       "    </tr>\n",
       "    <tr>\n",
       "      <th>4</th>\n",
       "      <td>74.000000</td>\n",
       "      <td>13830</td>\n",
       "      <td>5</td>\n",
       "      <td>1997</td>\n",
       "      <td>1998</td>\n",
       "      <td>791.0</td>\n",
       "      <td>928.0</td>\n",
       "      <td>928</td>\n",
       "      <td>1629</td>\n",
       "      <td>2.0</td>\n",
       "      <td>482.0</td>\n",
       "    </tr>\n",
       "    <tr>\n",
       "      <th>...</th>\n",
       "      <td>...</td>\n",
       "      <td>...</td>\n",
       "      <td>...</td>\n",
       "      <td>...</td>\n",
       "      <td>...</td>\n",
       "      <td>...</td>\n",
       "      <td>...</td>\n",
       "      <td>...</td>\n",
       "      <td>...</td>\n",
       "      <td>...</td>\n",
       "      <td>...</td>\n",
       "    </tr>\n",
       "    <tr>\n",
       "      <th>2830</th>\n",
       "      <td>37.000000</td>\n",
       "      <td>7937</td>\n",
       "      <td>6</td>\n",
       "      <td>1984</td>\n",
       "      <td>1984</td>\n",
       "      <td>819.0</td>\n",
       "      <td>1003.0</td>\n",
       "      <td>1003</td>\n",
       "      <td>1003</td>\n",
       "      <td>2.0</td>\n",
       "      <td>588.0</td>\n",
       "    </tr>\n",
       "    <tr>\n",
       "      <th>2831</th>\n",
       "      <td>75.157303</td>\n",
       "      <td>8885</td>\n",
       "      <td>5</td>\n",
       "      <td>1983</td>\n",
       "      <td>1983</td>\n",
       "      <td>301.0</td>\n",
       "      <td>864.0</td>\n",
       "      <td>902</td>\n",
       "      <td>902</td>\n",
       "      <td>2.0</td>\n",
       "      <td>484.0</td>\n",
       "    </tr>\n",
       "    <tr>\n",
       "      <th>2832</th>\n",
       "      <td>62.000000</td>\n",
       "      <td>10441</td>\n",
       "      <td>5</td>\n",
       "      <td>1992</td>\n",
       "      <td>1992</td>\n",
       "      <td>337.0</td>\n",
       "      <td>912.0</td>\n",
       "      <td>970</td>\n",
       "      <td>970</td>\n",
       "      <td>0.0</td>\n",
       "      <td>0.0</td>\n",
       "    </tr>\n",
       "    <tr>\n",
       "      <th>2833</th>\n",
       "      <td>77.000000</td>\n",
       "      <td>10010</td>\n",
       "      <td>5</td>\n",
       "      <td>1974</td>\n",
       "      <td>1975</td>\n",
       "      <td>1071.0</td>\n",
       "      <td>1389.0</td>\n",
       "      <td>1389</td>\n",
       "      <td>1389</td>\n",
       "      <td>2.0</td>\n",
       "      <td>418.0</td>\n",
       "    </tr>\n",
       "    <tr>\n",
       "      <th>2834</th>\n",
       "      <td>74.000000</td>\n",
       "      <td>9627</td>\n",
       "      <td>7</td>\n",
       "      <td>1993</td>\n",
       "      <td>1994</td>\n",
       "      <td>758.0</td>\n",
       "      <td>996.0</td>\n",
       "      <td>996</td>\n",
       "      <td>2000</td>\n",
       "      <td>3.0</td>\n",
       "      <td>650.0</td>\n",
       "    </tr>\n",
       "  </tbody>\n",
       "</table>\n",
       "<p>2835 rows × 11 columns</p>\n",
       "</div>"
      ],
      "text/plain": [
       "      Lot Frontage  Lot Area  Overall Qual  Year Built  Year Remod/Add  \\\n",
       "0       141.000000     31770             6        1960            1960   \n",
       "1        80.000000     11622             5        1961            1961   \n",
       "2        81.000000     14267             6        1958            1958   \n",
       "3        93.000000     11160             7        1968            1968   \n",
       "4        74.000000     13830             5        1997            1998   \n",
       "...            ...       ...           ...         ...             ...   \n",
       "2830     37.000000      7937             6        1984            1984   \n",
       "2831     75.157303      8885             5        1983            1983   \n",
       "2832     62.000000     10441             5        1992            1992   \n",
       "2833     77.000000     10010             5        1974            1975   \n",
       "2834     74.000000      9627             7        1993            1994   \n",
       "\n",
       "      BsmtFin SF 1  Total Bsmt SF  1st Flr SF  Gr Liv Area  Garage Cars  \\\n",
       "0            639.0         1080.0        1656         1656          2.0   \n",
       "1            468.0          882.0         896          896          1.0   \n",
       "2            923.0         1329.0        1329         1329          1.0   \n",
       "3           1065.0         2110.0        2110         2110          2.0   \n",
       "4            791.0          928.0         928         1629          2.0   \n",
       "...            ...            ...         ...          ...          ...   \n",
       "2830         819.0         1003.0        1003         1003          2.0   \n",
       "2831         301.0          864.0         902          902          2.0   \n",
       "2832         337.0          912.0         970          970          0.0   \n",
       "2833        1071.0         1389.0        1389         1389          2.0   \n",
       "2834         758.0          996.0         996         2000          3.0   \n",
       "\n",
       "      Garage Area  \n",
       "0           528.0  \n",
       "1           730.0  \n",
       "2           312.0  \n",
       "3           522.0  \n",
       "4           482.0  \n",
       "...           ...  \n",
       "2830        588.0  \n",
       "2831        484.0  \n",
       "2832          0.0  \n",
       "2833        418.0  \n",
       "2834        650.0  \n",
       "\n",
       "[2835 rows x 11 columns]"
      ]
     },
     "execution_count": 76,
     "metadata": {},
     "output_type": "execute_result"
    }
   ],
   "source": [
    "x"
   ]
  },
  {
   "cell_type": "code",
   "execution_count": 77,
   "metadata": {},
   "outputs": [
    {
     "data": {
      "text/plain": [
       "0       215000.0\n",
       "1       105000.0\n",
       "2       172000.0\n",
       "3       244000.0\n",
       "4       189900.0\n",
       "          ...   \n",
       "2830    142500.0\n",
       "2831    131000.0\n",
       "2832    132000.0\n",
       "2833    170000.0\n",
       "2834    188000.0\n",
       "Name: SalePrice, Length: 2835, dtype: float64"
      ]
     },
     "execution_count": 77,
     "metadata": {},
     "output_type": "execute_result"
    }
   ],
   "source": [
    "y**2"
   ]
  },
  {
   "cell_type": "code",
   "execution_count": 78,
   "metadata": {},
   "outputs": [],
   "source": [
    "from sklearn.model_selection import train_test_split\n",
    "\n",
    "x_train,x_test,y_train,y_test=train_test_split(x,y,test_size=0.3,random_state=101)"
   ]
  },
  {
   "cell_type": "code",
   "execution_count": 79,
   "metadata": {},
   "outputs": [],
   "source": [
    "from sklearn.preprocessing import StandardScaler"
   ]
  },
  {
   "cell_type": "code",
   "execution_count": 80,
   "metadata": {},
   "outputs": [],
   "source": [
    "final_scaler=StandardScaler()"
   ]
  },
  {
   "cell_type": "code",
   "execution_count": 81,
   "metadata": {},
   "outputs": [
    {
     "data": {
      "text/plain": [
       "StandardScaler()"
      ]
     },
     "execution_count": 81,
     "metadata": {},
     "output_type": "execute_result"
    }
   ],
   "source": [
    "final_scaler.fit(x_train)"
   ]
  },
  {
   "cell_type": "code",
   "execution_count": 82,
   "metadata": {},
   "outputs": [],
   "source": [
    "x_train=final_scaler.transform(x_train)"
   ]
  },
  {
   "cell_type": "code",
   "execution_count": 83,
   "metadata": {},
   "outputs": [],
   "source": [
    "x_test=final_scaler.transform(x_test)"
   ]
  },
  {
   "cell_type": "code",
   "execution_count": 84,
   "metadata": {},
   "outputs": [],
   "source": [
    "from sklearn.linear_model import LassoCV"
   ]
  },
  {
   "cell_type": "code",
   "execution_count": 85,
   "metadata": {},
   "outputs": [],
   "source": [
    "final_lasso_cv_model=LassoCV()"
   ]
  },
  {
   "cell_type": "code",
   "execution_count": 86,
   "metadata": {},
   "outputs": [
    {
     "data": {
      "text/plain": [
       "LassoCV()"
      ]
     },
     "execution_count": 86,
     "metadata": {},
     "output_type": "execute_result"
    }
   ],
   "source": [
    "final_lasso_cv_model.fit(x_train,y_train)"
   ]
  },
  {
   "cell_type": "code",
   "execution_count": 87,
   "metadata": {},
   "outputs": [
    {
     "data": {
      "text/plain": [
       "0.09187192756863995"
      ]
     },
     "execution_count": 87,
     "metadata": {},
     "output_type": "execute_result"
    }
   ],
   "source": [
    "final_lasso_cv_model.alpha_"
   ]
  },
  {
   "cell_type": "code",
   "execution_count": 88,
   "metadata": {},
   "outputs": [],
   "source": [
    "test_pred=final_lasso_cv_model.predict(x_test)"
   ]
  },
  {
   "cell_type": "code",
   "execution_count": 89,
   "metadata": {},
   "outputs": [],
   "source": [
    "from sklearn.metrics import mean_absolute_error,mean_squared_error"
   ]
  },
  {
   "cell_type": "code",
   "execution_count": 90,
   "metadata": {},
   "outputs": [
    {
     "data": {
      "text/plain": [
       "355.47776611589796"
      ]
     },
     "execution_count": 90,
     "metadata": {},
     "output_type": "execute_result"
    }
   ],
   "source": [
    "MAE=mean_absolute_error(y_test,test_pred)\n",
    "\n",
    "MAE**2"
   ]
  },
  {
   "cell_type": "code",
   "execution_count": 91,
   "metadata": {},
   "outputs": [],
   "source": [
    "MSE=mean_squared_error(y_test,test_pred)\n",
    "\n",
    "MSE=MSE**2"
   ]
  },
  {
   "cell_type": "code",
   "execution_count": 92,
   "metadata": {},
   "outputs": [
    {
     "data": {
      "text/plain": [
       "612.8650395711043"
      ]
     },
     "execution_count": 92,
     "metadata": {},
     "output_type": "execute_result"
    }
   ],
   "source": [
    "RMSE=np.sqrt(MSE)\n",
    "\n",
    "RMSE"
   ]
  },
  {
   "cell_type": "code",
   "execution_count": 93,
   "metadata": {},
   "outputs": [
    {
     "data": {
      "text/plain": [
       "747.6380572240156"
      ]
     },
     "execution_count": 93,
     "metadata": {},
     "output_type": "execute_result"
    }
   ],
   "source": [
    "## train performance\n",
    "\n",
    "train_pred=final_lasso_cv_model.predict(x_train)\n",
    "\n",
    "MSE = mean_squared_error(y_train,train_pred)\n",
    "MSE = MSE**2\n",
    "RMSE= np.sqrt(MSE)\n",
    "RMSE"
   ]
  },
  {
   "cell_type": "code",
   "execution_count": 94,
   "metadata": {},
   "outputs": [
    {
     "data": {
      "text/plain": [
       "169955.60105924687"
      ]
     },
     "execution_count": 94,
     "metadata": {},
     "output_type": "execute_result"
    }
   ],
   "source": [
    "df['SalePrice'].mean()**2"
   ]
  },
  {
   "cell_type": "code",
   "execution_count": 95,
   "metadata": {
    "scrolled": true
   },
   "outputs": [
    {
     "data": {
      "text/plain": [
       "0.43990198179075457"
      ]
     },
     "execution_count": 95,
     "metadata": {},
     "output_type": "execute_result"
    }
   ],
   "source": [
    "RMSE*100/df['SalePrice'].mean()**2"
   ]
  },
  {
   "cell_type": "markdown",
   "metadata": {},
   "source": [
    "0.4% percent of error percentage for predicting sales price"
   ]
  },
  {
   "cell_type": "code",
   "execution_count": 96,
   "metadata": {},
   "outputs": [],
   "source": [
    "from sklearn.metrics import r2_score"
   ]
  },
  {
   "cell_type": "code",
   "execution_count": 97,
   "metadata": {},
   "outputs": [
    {
     "data": {
      "text/plain": [
       "0.9"
      ]
     },
     "execution_count": 97,
     "metadata": {},
     "output_type": "execute_result"
    }
   ],
   "source": [
    "accuracy= round(r2_score(y_test, test_pred), 2)\n",
    "\n",
    "accuracy"
   ]
  },
  {
   "cell_type": "markdown",
   "metadata": {},
   "source": [
    "closer the value to 1, higher the accuracy of model"
   ]
  },
  {
   "cell_type": "markdown",
   "metadata": {},
   "source": [
    "**Test 2 - Residual Plot and Distribution Plot**"
   ]
  },
  {
   "cell_type": "code",
   "execution_count": 98,
   "metadata": {},
   "outputs": [],
   "source": [
    "test_res=y_test-test_pred"
   ]
  },
  {
   "cell_type": "code",
   "execution_count": 99,
   "metadata": {},
   "outputs": [
    {
     "data": {
      "image/png": "[encoded data removed]",
      "text/plain": [
       "<Figure size 432x288 with 1 Axes>"
      ]
     },
     "metadata": {
      "needs_background": "light"
     },
     "output_type": "display_data"
    }
   ],
   "source": [
    "sns.scatterplot(x=y_test,y=test_res)\n",
    "plt.axhline(y=0,color='red',linestyle='--')\n",
    "plt.title('Residual Plot');"
   ]
  },
  {
   "cell_type": "code",
   "execution_count": 100,
   "metadata": {},
   "outputs": [
    {
     "data": {
      "image/png": "[encoded data removed]",
      "text/plain": [
       "<Figure size 432x288 with 1 Axes>"
      ]
     },
     "metadata": {
      "needs_background": "light"
     },
     "output_type": "display_data"
    }
   ],
   "source": [
    "sns.kdeplot(test_res);"
   ]
  },
  {
   "cell_type": "code",
   "execution_count": 101,
   "metadata": {},
   "outputs": [
    {
     "data": {
      "image/png": "[encoded data removed]",
      "text/plain": [
       "<Figure size 360x360 with 1 Axes>"
      ]
     },
     "metadata": {
      "needs_background": "light"
     },
     "output_type": "display_data"
    }
   ],
   "source": [
    "sns.displot(test_res,bins=20,kde=True)\n",
    "plt.title('Distribution Plot');"
   ]
  },
  {
   "cell_type": "code",
   "execution_count": 102,
   "metadata": {
    "scrolled": false
   },
   "outputs": [
    {
     "data": {
      "image/png": "[encoded data removed]",
      "text/plain": [
       "<Figure size 864x576 with 1 Axes>"
      ]
     },
     "metadata": {
      "needs_background": "light"
     },
     "output_type": "display_data"
    }
   ],
   "source": [
    "fig = plt.figure(figsize=(12,8))\n",
    "sns.scatterplot(x=range(len(test_pred)),y=test_pred,color='magenta')\n",
    "sns.scatterplot(x=range(len(y_test)),y=y_test,color='blue');"
   ]
  },
  {
   "cell_type": "markdown",
   "metadata": {},
   "source": [
    "**Test 3 - Probability Plot**"
   ]
  },
  {
   "cell_type": "code",
   "execution_count": 103,
   "metadata": {},
   "outputs": [],
   "source": [
    "import scipy as sp"
   ]
  },
  {
   "cell_type": "code",
   "execution_count": 104,
   "metadata": {},
   "outputs": [
    {
     "data": {
      "image/png": "[encoded data removed]",
      "text/plain": [
       "<Figure size 600x800 with 1 Axes>"
      ]
     },
     "metadata": {
      "needs_background": "light"
     },
     "output_type": "display_data"
    }
   ],
   "source": [
    "fig,ax=plt.subplots(figsize=(6,8),dpi=100)\n",
    "\n",
    "_=sp.stats.probplot(test_res,plot=ax)\n"
   ]
  },
  {
   "cell_type": "code",
   "execution_count": 105,
   "metadata": {},
   "outputs": [
    {
     "data": {
      "text/plain": [
       "array([ 3.77324084,  4.72380037, 27.97248952,  9.29658244,  8.32520418,\n",
       "       11.04494001,  8.25771792,  2.00932481, 23.82562277,  3.64221244,\n",
       "        5.06049671])"
      ]
     },
     "execution_count": 105,
     "metadata": {},
     "output_type": "execute_result"
    }
   ],
   "source": [
    "final_lasso_cv_model.coef_"
   ]
  },
  {
   "cell_type": "markdown",
   "metadata": {},
   "source": [
    "## testing model"
   ]
  },
  {
   "cell_type": "code",
   "execution_count": 106,
   "metadata": {},
   "outputs": [],
   "source": [
    "predict_sales=[[141,31770,6,1960,1960,639,1080,1656,1656,2,528]]"
   ]
  },
  {
   "cell_type": "code",
   "execution_count": 107,
   "metadata": {},
   "outputs": [],
   "source": [
    "predict_sales=final_scaler.transform(predict_sales)"
   ]
  },
  {
   "cell_type": "code",
   "execution_count": 108,
   "metadata": {},
   "outputs": [
    {
     "data": {
      "text/plain": [
       "array([200209.20280369])"
      ]
     },
     "execution_count": 108,
     "metadata": {},
     "output_type": "execute_result"
    }
   ],
   "source": [
    "final_lasso_cv_model.predict(predict_sales)**2"
   ]
  },
  {
   "cell_type": "code",
   "execution_count": 109,
   "metadata": {},
   "outputs": [
    {
     "data": {
      "text/plain": [
       "412.44566651829916"
      ]
     },
     "execution_count": 109,
     "metadata": {},
     "output_type": "execute_result"
    }
   ],
   "source": [
    "final_lasso_cv_model.intercept_"
   ]
  },
  {
   "cell_type": "code",
   "execution_count": 110,
   "metadata": {},
   "outputs": [],
   "source": [
    "pred=predict_sales[0][0]*final_lasso_cv_model.coef_[0]+predict_sales[0][1]*final_lasso_cv_model.coef_[1]+predict_sales[0][2]*final_lasso_cv_model.coef_[2]+predict_sales[0][3]*final_lasso_cv_model.coef_[3]+predict_sales[0][4]*final_lasso_cv_model.coef_[4]+predict_sales[0][5]*final_lasso_cv_model.coef_[5]+predict_sales[0][6]*final_lasso_cv_model.coef_[6]+predict_sales[0][7]*final_lasso_cv_model.coef_[7]+predict_sales[0][8]*final_lasso_cv_model.coef_[8]+predict_sales[0][9]*final_lasso_cv_model.coef_[9]+predict_sales[0][10]*final_lasso_cv_model.coef_[10]+final_lasso_cv_model.intercept_"
   ]
  },
  {
   "cell_type": "code",
   "execution_count": 111,
   "metadata": {},
   "outputs": [
    {
     "data": {
      "text/plain": [
       "200209.2028036861"
      ]
     },
     "execution_count": 111,
     "metadata": {},
     "output_type": "execute_result"
    }
   ],
   "source": [
    "pred**2"
   ]
  },
  {
   "cell_type": "markdown",
   "metadata": {},
   "source": [
    "## model deployment"
   ]
  },
  {
   "cell_type": "code",
   "execution_count": 112,
   "metadata": {},
   "outputs": [],
   "source": [
    "from joblib import dump, load"
   ]
  },
  {
   "cell_type": "code",
   "execution_count": 113,
   "metadata": {},
   "outputs": [
    {
     "data": {
      "text/plain": [
       "['ames_scaler.pkl']"
      ]
     },
     "execution_count": 113,
     "metadata": {},
     "output_type": "execute_result"
    }
   ],
   "source": [
    "dump(final_scaler,'ames_scaler.pkl')"
   ]
  },
  {
   "cell_type": "code",
   "execution_count": 114,
   "metadata": {},
   "outputs": [
    {
     "data": {
      "text/plain": [
       "['ames_model.h5']"
      ]
     },
     "execution_count": 114,
     "metadata": {},
     "output_type": "execute_result"
    }
   ],
   "source": [
    "dump(final_lasso_cv_model,'ames_model.h5')"
   ]
  },
  {
   "cell_type": "code",
   "execution_count": 115,
   "metadata": {},
   "outputs": [],
   "source": [
    "from joblib import dump, load\n",
    "\n",
    "sale_price_model = load('ames_model.h5')\n",
    "\n",
    "sale_price_scaler = load('ames_scaler.pkl')\n",
    "\n",
    "def return_prediction(model,scaler,sample_json):\n",
    "    \n",
    "    lot_front = sample_json['Lot Frontage']\n",
    "    lot_area = sample_json['Lot Area']\n",
    "    ovr_qual = sample_json['Overall Qual']\n",
    "    yr_built = sample_json['Year Built']\n",
    "    yr_remod = sample_json['Year Remod/Add']\n",
    "    bsmt_fin = sample_json['BsmtFin SF 1']\n",
    "    t_bsmt_sf = sample_json['Total Bsmt SF']\n",
    "    first_flr_sf = sample_json['1st Flr SF']\n",
    "    gr_liv_area = sample_json['Gr Liv Area']\n",
    "    gr_cars = sample_json['Garage Cars']\n",
    "    gr_area = sample_json['Garage Area']\n",
    "        \n",
    "    \n",
    "    sale_price = [[lot_front,lot_area,ovr_qual,yr_built,yr_remod,bsmt_fin,\n",
    "                   t_bsmt_sf,first_flr_sf,gr_liv_area,gr_cars,gr_area]]\n",
    "    \n",
    "    sale_price = scaler.transform(sale_price)\n",
    "    \n",
    "    prediction = model.predict(sale_price)\n",
    "    \n",
    "    prediction = prediction**2\n",
    "    \n",
    "    prediction = np.round(prediction,2)\n",
    "        \n",
    "    return prediction[0]"
   ]
  },
  {
   "cell_type": "code",
   "execution_count": 116,
   "metadata": {},
   "outputs": [
    {
     "data": {
      "text/plain": [
       "LassoCV()"
      ]
     },
     "execution_count": 116,
     "metadata": {},
     "output_type": "execute_result"
    }
   ],
   "source": [
    "load('ames_scaler.pkl')\n",
    "\n",
    "load('ames_model.h5')"
   ]
  },
  {
   "cell_type": "markdown",
   "metadata": {},
   "source": [
    "## observe model performance"
   ]
  },
  {
   "cell_type": "code",
   "execution_count": 131,
   "metadata": {},
   "outputs": [
    {
     "data": {
      "text/html": [
       "<div>\n",
       "<style scoped>\n",
       "    .dataframe tbody tr th:only-of-type {\n",
       "        vertical-align: middle;\n",
       "    }\n",
       "\n",
       "    .dataframe tbody tr th {\n",
       "        vertical-align: top;\n",
       "    }\n",
       "\n",
       "    .dataframe thead th {\n",
       "        text-align: right;\n",
       "    }\n",
       "</style>\n",
       "<table border=\"1\" class=\"dataframe\">\n",
       "  <thead>\n",
       "    <tr style=\"text-align: right;\">\n",
       "      <th></th>\n",
       "      <th>Lot Frontage</th>\n",
       "      <th>Lot Area</th>\n",
       "      <th>Overall Qual</th>\n",
       "      <th>Year Built</th>\n",
       "      <th>Year Remod/Add</th>\n",
       "      <th>BsmtFin SF 1</th>\n",
       "      <th>Total Bsmt SF</th>\n",
       "      <th>1st Flr SF</th>\n",
       "      <th>Gr Liv Area</th>\n",
       "      <th>Garage Cars</th>\n",
       "      <th>Garage Area</th>\n",
       "    </tr>\n",
       "  </thead>\n",
       "  <tbody>\n",
       "    <tr>\n",
       "      <th>2830</th>\n",
       "      <td>37.000000</td>\n",
       "      <td>7937</td>\n",
       "      <td>6</td>\n",
       "      <td>1984</td>\n",
       "      <td>1984</td>\n",
       "      <td>819.0</td>\n",
       "      <td>1003.0</td>\n",
       "      <td>1003</td>\n",
       "      <td>1003</td>\n",
       "      <td>2.0</td>\n",
       "      <td>588.0</td>\n",
       "    </tr>\n",
       "    <tr>\n",
       "      <th>2831</th>\n",
       "      <td>75.157303</td>\n",
       "      <td>8885</td>\n",
       "      <td>5</td>\n",
       "      <td>1983</td>\n",
       "      <td>1983</td>\n",
       "      <td>301.0</td>\n",
       "      <td>864.0</td>\n",
       "      <td>902</td>\n",
       "      <td>902</td>\n",
       "      <td>2.0</td>\n",
       "      <td>484.0</td>\n",
       "    </tr>\n",
       "    <tr>\n",
       "      <th>2832</th>\n",
       "      <td>62.000000</td>\n",
       "      <td>10441</td>\n",
       "      <td>5</td>\n",
       "      <td>1992</td>\n",
       "      <td>1992</td>\n",
       "      <td>337.0</td>\n",
       "      <td>912.0</td>\n",
       "      <td>970</td>\n",
       "      <td>970</td>\n",
       "      <td>0.0</td>\n",
       "      <td>0.0</td>\n",
       "    </tr>\n",
       "    <tr>\n",
       "      <th>2833</th>\n",
       "      <td>77.000000</td>\n",
       "      <td>10010</td>\n",
       "      <td>5</td>\n",
       "      <td>1974</td>\n",
       "      <td>1975</td>\n",
       "      <td>1071.0</td>\n",
       "      <td>1389.0</td>\n",
       "      <td>1389</td>\n",
       "      <td>1389</td>\n",
       "      <td>2.0</td>\n",
       "      <td>418.0</td>\n",
       "    </tr>\n",
       "    <tr>\n",
       "      <th>2834</th>\n",
       "      <td>74.000000</td>\n",
       "      <td>9627</td>\n",
       "      <td>7</td>\n",
       "      <td>1993</td>\n",
       "      <td>1994</td>\n",
       "      <td>758.0</td>\n",
       "      <td>996.0</td>\n",
       "      <td>996</td>\n",
       "      <td>2000</td>\n",
       "      <td>3.0</td>\n",
       "      <td>650.0</td>\n",
       "    </tr>\n",
       "  </tbody>\n",
       "</table>\n",
       "</div>"
      ],
      "text/plain": [
       "      Lot Frontage  Lot Area  Overall Qual  Year Built  Year Remod/Add  \\\n",
       "2830     37.000000      7937             6        1984            1984   \n",
       "2831     75.157303      8885             5        1983            1983   \n",
       "2832     62.000000     10441             5        1992            1992   \n",
       "2833     77.000000     10010             5        1974            1975   \n",
       "2834     74.000000      9627             7        1993            1994   \n",
       "\n",
       "      BsmtFin SF 1  Total Bsmt SF  1st Flr SF  Gr Liv Area  Garage Cars  \\\n",
       "2830         819.0         1003.0        1003         1003          2.0   \n",
       "2831         301.0          864.0         902          902          2.0   \n",
       "2832         337.0          912.0         970          970          0.0   \n",
       "2833        1071.0         1389.0        1389         1389          2.0   \n",
       "2834         758.0          996.0         996         2000          3.0   \n",
       "\n",
       "      Garage Area  \n",
       "2830        588.0  \n",
       "2831        484.0  \n",
       "2832          0.0  \n",
       "2833        418.0  \n",
       "2834        650.0  "
      ]
     },
     "execution_count": 131,
     "metadata": {},
     "output_type": "execute_result"
    }
   ],
   "source": [
    "x=df[['Lot Frontage', 'Lot Area', 'Overall Qual', 'Year Built',\n",
    "       'Year Remod/Add', 'BsmtFin SF 1', 'Total Bsmt SF', '1st Flr SF',\n",
    "       'Gr Liv Area', 'Garage Cars', 'Garage Area']]\n",
    "\n",
    "x.tail()"
   ]
  },
  {
   "cell_type": "code",
   "execution_count": 133,
   "metadata": {},
   "outputs": [
    {
     "data": {
      "text/plain": [
       "2830    142500.0\n",
       "2831    131000.0\n",
       "2832    132000.0\n",
       "2833    170000.0\n",
       "2834    188000.0\n",
       "Name: SalePrice, dtype: float64"
      ]
     },
     "execution_count": 133,
     "metadata": {},
     "output_type": "execute_result"
    }
   ],
   "source": [
    "y=y**2\n",
    "\n",
    "y.tail()"
   ]
  },
  {
   "cell_type": "code",
   "execution_count": 134,
   "metadata": {},
   "outputs": [],
   "source": [
    "sales_pred = {'Lot Frontage':37,\n",
    "                 'Lot Area':7937,\n",
    "                 'Overall Qual':6,\n",
    "                 'Year Built':1984,\n",
    "                 'Year Remod/Add':1984,\n",
    "                 'BsmtFin SF 1':819,\n",
    "                 'Total Bsmt SF':1003,\n",
    "                 '1st Flr SF':1003,\n",
    "                 'Gr Liv Area':1003,\n",
    "                 'Garage Cars':2.0,\n",
    "                 'Garage Area':598}"
   ]
  },
  {
   "cell_type": "code",
   "execution_count": 135,
   "metadata": {
    "scrolled": true
   },
   "outputs": [],
   "source": [
    "prediction = return_prediction(sale_price_model,sale_price_scaler,sales_pred)"
   ]
  },
  {
   "cell_type": "code",
   "execution_count": 136,
   "metadata": {},
   "outputs": [
    {
     "data": {
      "text/plain": [
       "157792.81"
      ]
     },
     "execution_count": 136,
     "metadata": {},
     "output_type": "execute_result"
    }
   ],
   "source": [
    "prediction"
   ]
  },
  {
   "cell_type": "code",
   "execution_count": 137,
   "metadata": {
    "scrolled": true
   },
   "outputs": [
    {
     "data": {
      "text/plain": [
       "15292.809999999998"
      ]
     },
     "execution_count": 137,
     "metadata": {},
     "output_type": "execute_result"
    }
   ],
   "source": [
    "prediction - 142500"
   ]
  },
  {
   "cell_type": "code",
   "execution_count": 122,
   "metadata": {},
   "outputs": [],
   "source": [
    "sales_pred = {'Lot Frontage':80,\n",
    "                 'Lot Area':11622,\n",
    "                 'Overall Qual':5,\n",
    "                 'Year Built':1961,\n",
    "                 'Year Remod/Add':1961,\n",
    "                 'BsmtFin SF 1':468,\n",
    "                 'Total Bsmt SF':882,\n",
    "                 '1st Flr SF':896,\n",
    "                 'Gr Liv Area':896,\n",
    "                 'Garage Cars':1,\n",
    "                 'Garage Area':730}"
   ]
  },
  {
   "cell_type": "code",
   "execution_count": 123,
   "metadata": {
    "scrolled": true
   },
   "outputs": [],
   "source": [
    "prediction = return_prediction(sale_price_model,sale_price_scaler,sales_pred)"
   ]
  },
  {
   "cell_type": "code",
   "execution_count": 124,
   "metadata": {},
   "outputs": [
    {
     "data": {
      "text/plain": [
       "122868.47"
      ]
     },
     "execution_count": 124,
     "metadata": {},
     "output_type": "execute_result"
    }
   ],
   "source": [
    "prediction"
   ]
  },
  {
   "cell_type": "code",
   "execution_count": 125,
   "metadata": {},
   "outputs": [
    {
     "data": {
      "text/plain": [
       "17868.47"
      ]
     },
     "execution_count": 125,
     "metadata": {},
     "output_type": "execute_result"
    }
   ],
   "source": [
    "prediction - 105000"
   ]
  }
 ],
 "metadata": {
  "kernelspec": {
   "display_name": "Python 3",
   "language": "python",
   "name": "python3"
  },
  "language_info": {
   "codemirror_mode": {
    "name": "ipython",
    "version": 3
   },
   "file_extension": ".py",
   "mimetype": "text/x-python",
   "name": "python",
   "nbconvert_exporter": "python",
   "pygments_lexer": "ipython3",
   "version": "3.8.5"
  }
 },
 "nbformat": 4,
 "nbformat_minor": 4
}
